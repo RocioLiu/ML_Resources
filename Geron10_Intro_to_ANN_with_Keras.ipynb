{
  "nbformat": 4,
  "nbformat_minor": 0,
  "metadata": {
    "colab": {
      "name": "Geron10_Intro to ANN with Keras.ipynb",
      "version": "0.3.2",
      "provenance": [],
      "collapsed_sections": [],
      "include_colab_link": true
    },
    "kernelspec": {
      "name": "python3",
      "display_name": "Python 3"
    },
    "accelerator": "TPU"
  },
  "cells": [
    {
      "cell_type": "markdown",
      "metadata": {
        "id": "view-in-github",
        "colab_type": "text"
      },
      "source": [
        "<a href=\"https://colab.research.google.com/github/RocioLiu/ML_Resources/blob/master/Geron10_Intro_to_ANN_with_Keras.ipynb\" target=\"_parent\"><img src=\"https://colab.research.google.com/assets/colab-badge.svg\" alt=\"Open In Colab\"/></a>"
      ]
    },
    {
      "cell_type": "code",
      "metadata": {
        "id": "ZQ4keHlc94mW",
        "colab_type": "code",
        "colab": {}
      },
      "source": [
        "import tensorflow as tf\n",
        "from tensorflow import keras\n",
        "import numpy as np"
      ],
      "execution_count": 0,
      "outputs": []
    },
    {
      "cell_type": "code",
      "metadata": {
        "id": "lzSxTkxu953A",
        "colab_type": "code",
        "colab": {}
      },
      "source": [
        "fashion_mnist = keras.datasets.fashion_mnist\n",
        "\n",
        "(X_train_full, y_train_full), (X_test, y_test) = fashion_mnist.load_data()"
      ],
      "execution_count": 0,
      "outputs": []
    },
    {
      "cell_type": "code",
      "metadata": {
        "id": "QFf1MU7W99wM",
        "colab_type": "code",
        "outputId": "aca78884-28af-449c-81bb-07e1e99dae11",
        "colab": {
          "base_uri": "https://localhost:8080/",
          "height": 34
        }
      },
      "source": [
        "X_train_full.shape"
      ],
      "execution_count": 0,
      "outputs": [
        {
          "output_type": "execute_result",
          "data": {
            "text/plain": [
              "(60000, 28, 28)"
            ]
          },
          "metadata": {
            "tags": []
          },
          "execution_count": 175
        }
      ]
    },
    {
      "cell_type": "code",
      "metadata": {
        "id": "Lp03I5hG-CAF",
        "colab_type": "code",
        "outputId": "350af412-c210-4eb0-c3c0-a7374a91f33b",
        "colab": {
          "base_uri": "https://localhost:8080/",
          "height": 34
        }
      },
      "source": [
        "X_train_full.dtype"
      ],
      "execution_count": 0,
      "outputs": [
        {
          "output_type": "execute_result",
          "data": {
            "text/plain": [
              "dtype('uint8')"
            ]
          },
          "metadata": {
            "tags": []
          },
          "execution_count": 4
        }
      ]
    },
    {
      "cell_type": "code",
      "metadata": {
        "id": "XcuPc7Bt-GcP",
        "colab_type": "code",
        "colab": {}
      },
      "source": [
        "X_valid, X_train = X_train_full[:5000]/255.0, X_train_full[5000:]/255.0\n",
        "y_valid, y_train = y_train_full[:5000], y_train_full[5000:]"
      ],
      "execution_count": 0,
      "outputs": []
    },
    {
      "cell_type": "code",
      "metadata": {
        "id": "PeVMwrFY-_Xc",
        "colab_type": "code",
        "colab": {}
      },
      "source": [
        "class_names = [\"T-shirt/top\", \"Trouser\", \"Pullover\", \"Dress\", \"Coat\",\n",
        "               \"Sandal\", \"Shirt\", \"Sneaker\", \"Bag\", \"Ankle boot\"]"
      ],
      "execution_count": 0,
      "outputs": []
    },
    {
      "cell_type": "code",
      "metadata": {
        "id": "sPhWNJ31_CIC",
        "colab_type": "code",
        "outputId": "02fe57f4-6b2d-4881-82cf-94eabd2eafea",
        "colab": {
          "base_uri": "https://localhost:8080/",
          "height": 34
        }
      },
      "source": [
        "class_names[y_train[0]]"
      ],
      "execution_count": 0,
      "outputs": [
        {
          "output_type": "execute_result",
          "data": {
            "text/plain": [
              "'Coat'"
            ]
          },
          "metadata": {
            "tags": []
          },
          "execution_count": 178
        }
      ]
    },
    {
      "cell_type": "code",
      "metadata": {
        "id": "uqaW2c0G_cyC",
        "colab_type": "code",
        "colab": {}
      },
      "source": [
        "model = keras.models.Sequential()\n",
        "model.add(keras.layers.Flatten(input_shape=[28,28]))\n",
        "model.add(keras.layers.Dense(300, activation = 'relu'))\n",
        "model.add(keras.layers.Dense(100, activation = 'relu'))\n",
        "model.add(keras.layers.Dense(10, activation = 'softmax'))"
      ],
      "execution_count": 0,
      "outputs": []
    },
    {
      "cell_type": "code",
      "metadata": {
        "id": "RblqPDlcFObh",
        "colab_type": "code",
        "colab": {}
      },
      "source": [
        "model = keras.models.Sequential([\n",
        "    keras.layers.Flatten(input_shape=[28,28]),\n",
        "    keras.layers.Dense(300, activation = 'relu'),\n",
        "    keras.layers.Dense(100, activation = 'relu'),\n",
        "    keras.layers.Dense(10, activation = 'softmax')\n",
        "])"
      ],
      "execution_count": 0,
      "outputs": []
    },
    {
      "cell_type": "code",
      "metadata": {
        "id": "CKxRbzsSHc09",
        "colab_type": "code",
        "outputId": "db8b95e9-dbff-4f6c-b107-29c698f0d99d",
        "colab": {
          "base_uri": "https://localhost:8080/",
          "height": 34
        }
      },
      "source": [
        "model.layers\n",
        "model.layers[1].name\n",
        "#model.get_layer('dense_3').name"
      ],
      "execution_count": 0,
      "outputs": [
        {
          "output_type": "execute_result",
          "data": {
            "text/plain": [
              "'dense_37'"
            ]
          },
          "metadata": {
            "tags": []
          },
          "execution_count": 181
        }
      ]
    },
    {
      "cell_type": "code",
      "metadata": {
        "id": "M7-EJnkMKZ23",
        "colab_type": "code",
        "outputId": "2cf51470-8c15-403f-cdf7-4060cb6d7a24",
        "colab": {
          "base_uri": "https://localhost:8080/",
          "height": 235
        }
      },
      "source": [
        "weights, biases = model.layers[1].get_weights()\n",
        "weights"
      ],
      "execution_count": 0,
      "outputs": [
        {
          "output_type": "execute_result",
          "data": {
            "text/plain": [
              "array([[ 0.02477881,  0.04229561, -0.00342248, ...,  0.06429014,\n",
              "         0.02262444,  0.01431789],\n",
              "       [ 0.03983131, -0.01955886, -0.03482531, ..., -0.07401285,\n",
              "        -0.06437729,  0.05052959],\n",
              "       [ 0.01014944, -0.01792384,  0.00117691, ..., -0.06045827,\n",
              "         0.06387194, -0.05821592],\n",
              "       ...,\n",
              "       [ 0.06278089, -0.0382911 , -0.06426618, ..., -0.02681522,\n",
              "        -0.02872516,  0.02959321],\n",
              "       [-0.0727238 ,  0.02013752, -0.07316693, ...,  0.06982808,\n",
              "         0.05842887,  0.03142457],\n",
              "       [-0.05274097, -0.04510197,  0.0629666 , ...,  0.03195143,\n",
              "        -0.03372417, -0.01557451]], dtype=float32)"
            ]
          },
          "metadata": {
            "tags": []
          },
          "execution_count": 182
        }
      ]
    },
    {
      "cell_type": "code",
      "metadata": {
        "id": "lF5SldJHLB4t",
        "colab_type": "code",
        "outputId": "9f152f10-a285-4701-bb44-dc17e1de9c4c",
        "colab": {
          "base_uri": "https://localhost:8080/",
          "height": 34
        }
      },
      "source": [
        "weights.shape"
      ],
      "execution_count": 0,
      "outputs": [
        {
          "output_type": "execute_result",
          "data": {
            "text/plain": [
              "(784, 300)"
            ]
          },
          "metadata": {
            "tags": []
          },
          "execution_count": 183
        }
      ]
    },
    {
      "cell_type": "code",
      "metadata": {
        "id": "NCUu_BACpURE",
        "colab_type": "code",
        "outputId": "86671832-a063-4b85-bc3c-4ba428813520",
        "colab": {
          "base_uri": "https://localhost:8080/",
          "height": 34
        }
      },
      "source": [
        "biases[:10]"
      ],
      "execution_count": 0,
      "outputs": [
        {
          "output_type": "execute_result",
          "data": {
            "text/plain": [
              "array([0., 0., 0., 0., 0., 0., 0., 0., 0., 0.], dtype=float32)"
            ]
          },
          "metadata": {
            "tags": []
          },
          "execution_count": 184
        }
      ]
    },
    {
      "cell_type": "code",
      "metadata": {
        "id": "NH52rpzeLR38",
        "colab_type": "code",
        "outputId": "ba95ea30-5544-4fd8-d99d-2db6b2250cb7",
        "colab": {
          "base_uri": "https://localhost:8080/",
          "height": 34
        }
      },
      "source": [
        "biaes.shape"
      ],
      "execution_count": 0,
      "outputs": [
        {
          "output_type": "execute_result",
          "data": {
            "text/plain": [
              "(300,)"
            ]
          },
          "metadata": {
            "tags": []
          },
          "execution_count": 185
        }
      ]
    },
    {
      "cell_type": "code",
      "metadata": {
        "id": "rWIBR66dQFgf",
        "colab_type": "code",
        "colab": {}
      },
      "source": [
        "model.compile(loss='sparse_categorical_crossentropy',\n",
        "              optimizer='sgd',\n",
        "              metrics=['accuracy'])"
      ],
      "execution_count": 0,
      "outputs": []
    },
    {
      "cell_type": "code",
      "metadata": {
        "id": "jJ3JV4PULcaq",
        "colab_type": "code",
        "outputId": "77541be7-2eeb-4c26-8f14-c55813726f74",
        "colab": {
          "base_uri": "https://localhost:8080/",
          "height": 1000
        }
      },
      "source": [
        "model_fit = model.fit(X_train, y_train, epochs = 30, validation_data = (X_valid, y_valid))"
      ],
      "execution_count": 0,
      "outputs": [
        {
          "output_type": "stream",
          "text": [
            "Train on 55000 samples, validate on 5000 samples\n",
            "Epoch 1/30\n",
            "55000/55000 [==============================] - 7s 129us/sample - loss: 0.7316 - acc: 0.7617 - val_loss: 0.5279 - val_acc: 0.8160\n",
            "Epoch 2/30\n",
            "55000/55000 [==============================] - 6s 106us/sample - loss: 0.4847 - acc: 0.8308 - val_loss: 0.4604 - val_acc: 0.8434\n",
            "Epoch 3/30\n",
            "55000/55000 [==============================] - 6s 101us/sample - loss: 0.4398 - acc: 0.8455 - val_loss: 0.4143 - val_acc: 0.8598\n",
            "Epoch 4/30\n",
            "55000/55000 [==============================] - 6s 103us/sample - loss: 0.4122 - acc: 0.8546 - val_loss: 0.3958 - val_acc: 0.8652\n",
            "Epoch 5/30\n",
            "55000/55000 [==============================] - 6s 104us/sample - loss: 0.3912 - acc: 0.8633 - val_loss: 0.3992 - val_acc: 0.8662\n",
            "Epoch 6/30\n",
            "55000/55000 [==============================] - 6s 102us/sample - loss: 0.3748 - acc: 0.8688 - val_loss: 0.3796 - val_acc: 0.8698\n",
            "Epoch 7/30\n",
            "55000/55000 [==============================] - 6s 107us/sample - loss: 0.3628 - acc: 0.8721 - val_loss: 0.3655 - val_acc: 0.8728\n",
            "Epoch 8/30\n",
            "55000/55000 [==============================] - 6s 109us/sample - loss: 0.3515 - acc: 0.8753 - val_loss: 0.3725 - val_acc: 0.8686\n",
            "Epoch 9/30\n",
            "55000/55000 [==============================] - 6s 108us/sample - loss: 0.3403 - acc: 0.8787 - val_loss: 0.3373 - val_acc: 0.8820\n",
            "Epoch 10/30\n",
            "55000/55000 [==============================] - 6s 108us/sample - loss: 0.3320 - acc: 0.8820 - val_loss: 0.3423 - val_acc: 0.8796\n",
            "Epoch 11/30\n",
            "55000/55000 [==============================] - 6s 104us/sample - loss: 0.3236 - acc: 0.8842 - val_loss: 0.3356 - val_acc: 0.8838\n",
            "Epoch 12/30\n",
            "55000/55000 [==============================] - 6s 105us/sample - loss: 0.3154 - acc: 0.8877 - val_loss: 0.3324 - val_acc: 0.8848\n",
            "Epoch 13/30\n",
            "55000/55000 [==============================] - 6s 102us/sample - loss: 0.3082 - acc: 0.8899 - val_loss: 0.3260 - val_acc: 0.8862\n",
            "Epoch 14/30\n",
            "55000/55000 [==============================] - 6s 103us/sample - loss: 0.3005 - acc: 0.8929 - val_loss: 0.3393 - val_acc: 0.8770\n",
            "Epoch 15/30\n",
            "55000/55000 [==============================] - 6s 107us/sample - loss: 0.2955 - acc: 0.8945 - val_loss: 0.3289 - val_acc: 0.8822\n",
            "Epoch 16/30\n",
            "55000/55000 [==============================] - 6s 105us/sample - loss: 0.2893 - acc: 0.8972 - val_loss: 0.3179 - val_acc: 0.8886\n",
            "Epoch 17/30\n",
            "55000/55000 [==============================] - 6s 114us/sample - loss: 0.2837 - acc: 0.8978 - val_loss: 0.3230 - val_acc: 0.8832\n",
            "Epoch 18/30\n",
            "55000/55000 [==============================] - 6s 113us/sample - loss: 0.2783 - acc: 0.8999 - val_loss: 0.3227 - val_acc: 0.8804\n",
            "Epoch 19/30\n",
            "55000/55000 [==============================] - 6s 106us/sample - loss: 0.2736 - acc: 0.9028 - val_loss: 0.3202 - val_acc: 0.8864\n",
            "Epoch 20/30\n",
            "55000/55000 [==============================] - 6s 103us/sample - loss: 0.2679 - acc: 0.9032 - val_loss: 0.3168 - val_acc: 0.8864\n",
            "Epoch 21/30\n",
            "55000/55000 [==============================] - 6s 100us/sample - loss: 0.2630 - acc: 0.9052 - val_loss: 0.3075 - val_acc: 0.8892\n",
            "Epoch 22/30\n",
            "55000/55000 [==============================] - 6s 104us/sample - loss: 0.2581 - acc: 0.9066 - val_loss: 0.2998 - val_acc: 0.8956\n",
            "Epoch 23/30\n",
            "55000/55000 [==============================] - 6s 103us/sample - loss: 0.2542 - acc: 0.9091 - val_loss: 0.3068 - val_acc: 0.8920\n",
            "Epoch 24/30\n",
            "55000/55000 [==============================] - 5s 100us/sample - loss: 0.2487 - acc: 0.9102 - val_loss: 0.3000 - val_acc: 0.8910\n",
            "Epoch 25/30\n",
            "55000/55000 [==============================] - 6s 102us/sample - loss: 0.2444 - acc: 0.9116 - val_loss: 0.2965 - val_acc: 0.8924\n",
            "Epoch 26/30\n",
            "55000/55000 [==============================] - 6s 103us/sample - loss: 0.2406 - acc: 0.9136 - val_loss: 0.2999 - val_acc: 0.8896\n",
            "Epoch 27/30\n",
            "55000/55000 [==============================] - 6s 102us/sample - loss: 0.2363 - acc: 0.9147 - val_loss: 0.2921 - val_acc: 0.8972\n",
            "Epoch 28/30\n",
            "55000/55000 [==============================] - 5s 100us/sample - loss: 0.2328 - acc: 0.9161 - val_loss: 0.2919 - val_acc: 0.8950\n",
            "Epoch 29/30\n",
            "55000/55000 [==============================] - 5s 98us/sample - loss: 0.2287 - acc: 0.9177 - val_loss: 0.2912 - val_acc: 0.8926\n",
            "Epoch 30/30\n",
            "55000/55000 [==============================] - 5s 96us/sample - loss: 0.2245 - acc: 0.9200 - val_loss: 0.2953 - val_acc: 0.8948\n"
          ],
          "name": "stdout"
        }
      ]
    },
    {
      "cell_type": "code",
      "metadata": {
        "id": "4zecCHL8QCQd",
        "colab_type": "code",
        "outputId": "610d56f5-d8eb-49c1-a785-a8b96b7e15d6",
        "colab": {
          "base_uri": "https://localhost:8080/",
          "height": 324
        }
      },
      "source": [
        "import pandas as pd\n",
        "import matplotlib.pyplot as plt\n",
        "pd.DataFrame(model_fit.history).plot(figsize=(8,5))\n",
        "plt.grid(True)\n",
        "plt.gca().set_ylim(0,1) # plt.gca(): Get the current Axes instance on the current figure matching the given keyword args, or create one.\n",
        "plt.show()"
      ],
      "execution_count": 0,
      "outputs": [
        {
          "output_type": "display_data",
          "data": {
            "image/png": "[encoded data removed]",
            "text/plain": [
              "<Figure size 576x360 with 1 Axes>"
            ]
          },
          "metadata": {
            "tags": []
          }
        }
      ]
    },
    {
      "cell_type": "code",
      "metadata": {
        "id": "LwowOFo2VOPV",
        "colab_type": "code",
        "outputId": "bd050ef5-0ce4-4943-b9cc-294c71c5add8",
        "colab": {
          "base_uri": "https://localhost:8080/",
          "height": 50
        }
      },
      "source": [
        "model.evaluate(X_test, y_test)"
      ],
      "execution_count": 0,
      "outputs": [
        {
          "output_type": "stream",
          "text": [
            "10000/10000 [==============================] - 0s 47us/sample - loss: 73.2167 - acc: 0.8323\n"
          ],
          "name": "stdout"
        },
        {
          "output_type": "execute_result",
          "data": {
            "text/plain": [
              "[73.21669893188476, 0.8323]"
            ]
          },
          "metadata": {
            "tags": []
          },
          "execution_count": 21
        }
      ]
    },
    {
      "cell_type": "code",
      "metadata": {
        "id": "88imSlQinV-e",
        "colab_type": "code",
        "outputId": "6547d8e7-2c44-496d-830a-a8d3d63e47dd",
        "colab": {
          "base_uri": "https://localhost:8080/",
          "height": 67
        }
      },
      "source": [
        "# Using the Model to Make Predictions\n",
        "# Since we don’t have actual new instances, we will just use the first 3 instances of the test set:\n",
        "X_new = X_test[:3]\n",
        "y_proba = model.predict(X_new)\n",
        "y_proba.round(2)"
      ],
      "execution_count": 0,
      "outputs": [
        {
          "output_type": "execute_result",
          "data": {
            "text/plain": [
              "array([[0., 0., 0., 0., 0., 0., 0., 0., 0., 1.],\n",
              "       [0., 0., 1., 0., 0., 0., 0., 0., 0., 0.],\n",
              "       [0., 1., 0., 0., 0., 0., 0., 0., 0., 0.]], dtype=float32)"
            ]
          },
          "metadata": {
            "tags": []
          },
          "execution_count": 45
        }
      ]
    },
    {
      "cell_type": "code",
      "metadata": {
        "id": "2P_jCsiBn8qd",
        "colab_type": "code",
        "outputId": "ec76c0ad-951f-48e4-cd02-97b785efd258",
        "colab": {
          "base_uri": "https://localhost:8080/",
          "height": 34
        }
      },
      "source": [
        "# If you only care about the class with the highest estimated probability(even if that probability is quite low),\n",
        "# then you can use the predict_classes() method instead:\n",
        "y_pred = model.predict_classes(X_new)\n",
        "y_pred"
      ],
      "execution_count": 0,
      "outputs": [
        {
          "output_type": "execute_result",
          "data": {
            "text/plain": [
              "array([9, 2, 1])"
            ]
          },
          "metadata": {
            "tags": []
          },
          "execution_count": 46
        }
      ]
    },
    {
      "cell_type": "code",
      "metadata": {
        "id": "3NKBDjGWoIyl",
        "colab_type": "code",
        "outputId": "5677dd7c-a051-4c24-bc5a-220c2bce0797",
        "colab": {
          "base_uri": "https://localhost:8080/",
          "height": 34
        }
      },
      "source": [
        "np.array(class_names)[y_pred]"
      ],
      "execution_count": 0,
      "outputs": [
        {
          "output_type": "execute_result",
          "data": {
            "text/plain": [
              "array(['Ankle boot', 'Pullover', 'Trouser'], dtype='<U11')"
            ]
          },
          "metadata": {
            "tags": []
          },
          "execution_count": 47
        }
      ]
    },
    {
      "cell_type": "code",
      "metadata": {
        "id": "8htucGzbq39X",
        "colab_type": "code",
        "outputId": "050d8fd8-43cc-47ce-eb2e-d64339f1a9ca",
        "colab": {
          "base_uri": "https://localhost:8080/",
          "height": 34
        }
      },
      "source": [
        "#  the classifier actually classified all three images correctly:\n",
        "y_test[:3]"
      ],
      "execution_count": 0,
      "outputs": [
        {
          "output_type": "execute_result",
          "data": {
            "text/plain": [
              "array([9, 2, 1], dtype=uint8)"
            ]
          },
          "metadata": {
            "tags": []
          },
          "execution_count": 48
        }
      ]
    },
    {
      "cell_type": "markdown",
      "metadata": {
        "id": "byOyO3d7r3dB",
        "colab_type": "text"
      },
      "source": [
        "### Building a Regression MLP Using the Sequential API"
      ]
    },
    {
      "cell_type": "code",
      "metadata": {
        "id": "k_P-b9WArg-1",
        "colab_type": "code",
        "colab": {}
      },
      "source": [
        "# use Scikit-Learn’s fetch_california_housing() function to load the data:\n",
        "from sklearn.datasets import fetch_california_housing\n",
        "from sklearn.model_selection import train_test_split\n",
        "from sklearn.preprocessing import StandardScaler"
      ],
      "execution_count": 0,
      "outputs": []
    },
    {
      "cell_type": "code",
      "metadata": {
        "id": "87x-TNnmLoff",
        "colab_type": "code",
        "colab": {}
      },
      "source": [
        "housing = fetch_california_housing()"
      ],
      "execution_count": 0,
      "outputs": []
    },
    {
      "cell_type": "code",
      "metadata": {
        "id": "T6A7krlxsrpD",
        "colab_type": "code",
        "colab": {}
      },
      "source": [
        "X_train_full, X_test, y_train_full, y_test = train_test_split(housing.data, housing.target)\n",
        "X_train, X_valid, y_train, y_valid = train_test_split(X_train_full, y_train_full)"
      ],
      "execution_count": 0,
      "outputs": []
    },
    {
      "cell_type": "code",
      "metadata": {
        "id": "a7AVzdn8LkOQ",
        "colab_type": "code",
        "outputId": "9a4cde83-0d85-4bb8-df82-efc5221fa989",
        "colab": {
          "base_uri": "https://localhost:8080/",
          "height": 67
        }
      },
      "source": [
        "# StandardScaler(): Standardize features by removing the mean and scaling to unit variance\n",
        "scaler = StandardScaler()\n",
        "\n",
        "X_train_scaled = scaler.fit_transform(X_train)  # fit_transform:　Fit to data, then transform it.  So after this step, the scaler object has the mean and std attribute of X_train\n",
        "X_valid_scaled = scaler.transform(X_valid) # Using the mean and std attribute of X_train to standardize X_valid\n",
        "X_test_scaled = scaler.transform(X_test) # Using the mean and std attribute of X_train to standardize X_test\n",
        "print(scaler.mean_)\n",
        "print(np.mean(X_train[:,0]))"
      ],
      "execution_count": 0,
      "outputs": [
        {
          "output_type": "stream",
          "text": [
            "[ 3.87548230e+00  2.86049957e+01  5.42884824e+00  1.09711769e+00\n",
            "  1.42862308e+03  3.12982994e+00  3.56278639e+01 -1.19560956e+02]\n",
            "3.8754822997416016\n"
          ],
          "name": "stdout"
        }
      ]
    },
    {
      "cell_type": "code",
      "metadata": {
        "id": "jEVfIsUBLkr0",
        "colab_type": "code",
        "colab": {}
      },
      "source": [
        "model = keras.models.Sequential([\n",
        "    keras.layers.Dense(30, activation = 'relu', input_shape = X_train.shape[1:]), # the input_shape is start from index 1 of the X_train.shape, since the index 0 is the sample size\n",
        "    keras.layers.Dense(1)\n",
        "])"
      ],
      "execution_count": 0,
      "outputs": []
    },
    {
      "cell_type": "code",
      "metadata": {
        "id": "0wzlFxXLWNUX",
        "colab_type": "code",
        "colab": {}
      },
      "source": [
        "model.compile(loss = 'mean_squared_error', optimizer = 'sgd')"
      ],
      "execution_count": 0,
      "outputs": []
    },
    {
      "cell_type": "code",
      "metadata": {
        "id": "h_PGfGjuMUpn",
        "colab_type": "code",
        "outputId": "f99cc1ff-5f37-46ca-844f-21dda7064e99",
        "colab": {
          "base_uri": "https://localhost:8080/",
          "height": 706
        }
      },
      "source": [
        "model_fit = model.fit(X_train_scaled, y_train, epochs=20, validation_data = (X_valid_scaled, y_valid))"
      ],
      "execution_count": 0,
      "outputs": [
        {
          "output_type": "stream",
          "text": [
            "Train on 11610 samples, validate on 3870 samples\n",
            "Epoch 1/20\n",
            "11610/11610 [==============================] - 1s 59us/sample - loss: 0.8179 - val_loss: 0.5258\n",
            "Epoch 2/20\n",
            "11610/11610 [==============================] - 0s 42us/sample - loss: 0.5163 - val_loss: 0.4746\n",
            "Epoch 3/20\n",
            "11610/11610 [==============================] - 1s 43us/sample - loss: 0.5493 - val_loss: 0.4479\n",
            "Epoch 4/20\n",
            "11610/11610 [==============================] - 0s 43us/sample - loss: 0.9968 - val_loss: 0.4729\n",
            "Epoch 5/20\n",
            "11610/11610 [==============================] - 0s 41us/sample - loss: 0.4442 - val_loss: 0.4274\n",
            "Epoch 6/20\n",
            "11610/11610 [==============================] - 0s 42us/sample - loss: 0.4145 - val_loss: 0.4067\n",
            "Epoch 7/20\n",
            "11610/11610 [==============================] - 0s 41us/sample - loss: 0.4021 - val_loss: 0.4189\n",
            "Epoch 8/20\n",
            "11610/11610 [==============================] - 0s 40us/sample - loss: 0.4011 - val_loss: 0.4440\n",
            "Epoch 9/20\n",
            "11610/11610 [==============================] - 0s 40us/sample - loss: 0.4018 - val_loss: 0.4001\n",
            "Epoch 10/20\n",
            "11610/11610 [==============================] - 0s 41us/sample - loss: 0.4222 - val_loss: 0.4302\n",
            "Epoch 11/20\n",
            "11610/11610 [==============================] - 0s 41us/sample - loss: 0.4805 - val_loss: 0.3887\n",
            "Epoch 12/20\n",
            "11610/11610 [==============================] - 0s 42us/sample - loss: 0.3826 - val_loss: 0.4038\n",
            "Epoch 13/20\n",
            "11610/11610 [==============================] - 1s 44us/sample - loss: 0.3903 - val_loss: 0.3842\n",
            "Epoch 14/20\n",
            "11610/11610 [==============================] - 1s 45us/sample - loss: 0.4483 - val_loss: 0.3821\n",
            "Epoch 15/20\n",
            "11610/11610 [==============================] - 0s 41us/sample - loss: 0.3800 - val_loss: 0.4233\n",
            "Epoch 16/20\n",
            "11610/11610 [==============================] - 0s 41us/sample - loss: 0.3747 - val_loss: 0.3726\n",
            "Epoch 17/20\n",
            "11610/11610 [==============================] - 0s 41us/sample - loss: 0.3694 - val_loss: 0.3729\n",
            "Epoch 18/20\n",
            "11610/11610 [==============================] - 0s 41us/sample - loss: 0.3672 - val_loss: 0.3712\n",
            "Epoch 19/20\n",
            "11610/11610 [==============================] - 0s 41us/sample - loss: 0.3646 - val_loss: 0.3648\n",
            "Epoch 20/20\n",
            "11610/11610 [==============================] - 0s 40us/sample - loss: 0.3616 - val_loss: 0.3622\n"
          ],
          "name": "stdout"
        }
      ]
    },
    {
      "cell_type": "code",
      "metadata": {
        "id": "qDJJLPpARdZ_",
        "colab_type": "code",
        "outputId": "54342c2e-b91c-424d-e2e3-532d85d108cf",
        "colab": {
          "base_uri": "https://localhost:8080/",
          "height": 34
        }
      },
      "source": [
        "mse_test = model.evaluate(X_test_scaled, y_test)"
      ],
      "execution_count": 0,
      "outputs": [
        {
          "output_type": "stream",
          "text": [
            "5160/5160 [==============================] - 0s 22us/sample - loss: 0.3802\n"
          ],
          "name": "stdout"
        }
      ]
    },
    {
      "cell_type": "code",
      "metadata": {
        "id": "D-FxTWgST4ur",
        "colab_type": "code",
        "outputId": "0d7d6213-128f-4bba-dde5-33b675a5cbca",
        "colab": {
          "base_uri": "https://localhost:8080/",
          "height": 67
        }
      },
      "source": [
        "X_new = X_test_scaled[:3] # pretend these are new instances\n",
        "y_pred = model.predict(X_new)\n",
        "y_pred"
      ],
      "execution_count": 0,
      "outputs": [
        {
          "output_type": "execute_result",
          "data": {
            "text/plain": [
              "array([[1.4797636 ],\n",
              "       [2.171864  ],\n",
              "       [0.70057255]], dtype=float32)"
            ]
          },
          "metadata": {
            "tags": []
          },
          "execution_count": 157
        }
      ]
    },
    {
      "cell_type": "markdown",
      "metadata": {
        "id": "WiIsmvDzjb2r",
        "colab_type": "text"
      },
      "source": [
        "### Building Complex Models Using the Functional API\n",
        "p.331"
      ]
    },
    {
      "cell_type": "markdown",
      "metadata": {
        "id": "yPBdtoY1pe4U",
        "colab_type": "text"
      },
      "source": [
        "One example of a non-sequential neural network is a Wide & Deep neural network.\n",
        "It connects all or part of the inputs directly to the output layer."
      ]
    },
    {
      "cell_type": "code",
      "metadata": {
        "id": "D_-Cl9fpWGzJ",
        "colab_type": "code",
        "colab": {}
      },
      "source": [
        "# Let’s build such a neural network to tackle the California housing problem:\n",
        "input = keras.layers.Input(shape=X_train.shape[1:])\n",
        "hidden1 = keras.layers.Dense(30, activation = 'relu')(input)\n",
        "hidden2 = keras.layers.Dense(30, activation = 'relu')(hidden1)\n",
        "concat = keras.layers.concatenate([input, hidden2])\n",
        "output = keras.layers.Dense(1)(concat)\n",
        "model = keras.models.Model(inputs=[input], outputs=[output])"
      ],
      "execution_count": 0,
      "outputs": []
    },
    {
      "cell_type": "markdown",
      "metadata": {
        "id": "KYJG3EogpZFy",
        "colab_type": "text"
      },
      "source": [
        "if we want to send a subset of the features through the wide path, and a different subset (possibly overlapping) through the deep path (see Figure 10-14)? In this case, one solution is to use **multiple inputs**."
      ]
    },
    {
      "cell_type": "code",
      "metadata": {
        "id": "Bd-ZBrWWW2VD",
        "colab_type": "code",
        "colab": {}
      },
      "source": [
        "input_A = keras.layers.Input(shape=[5])\n",
        "input_B = keras.layers.Input(shape=[6])\n",
        "hidden1 = keras.layers.Dense(30, activation=\"relu\")(input_B)\n",
        "hidden2 = keras.layers.Dense(30, activation=\"relu\")(hidden1)\n",
        "concat = keras.layers.concatenate([input_A, hidden2])\n",
        "output = keras.layers.Dense(1)(concat)\n",
        "model = keras.models.Model(inputs=[input_A, input_B], outputs=[output])"
      ],
      "execution_count": 0,
      "outputs": []
    },
    {
      "cell_type": "code",
      "metadata": {
        "id": "059di3dJZfs1",
        "colab_type": "code",
        "colab": {}
      },
      "source": [
        ""
      ],
      "execution_count": 0,
      "outputs": []
    },
    {
      "cell_type": "code",
      "metadata": {
        "id": "nXQcJUudfvGA",
        "colab_type": "code",
        "colab": {}
      },
      "source": [
        ""
      ],
      "execution_count": 0,
      "outputs": []
    },
    {
      "cell_type": "code",
      "metadata": {
        "id": "Eug3zEtQsBgt",
        "colab_type": "code",
        "colab": {}
      },
      "source": [
        ""
      ],
      "execution_count": 0,
      "outputs": []
    },
    {
      "cell_type": "markdown",
      "metadata": {
        "id": "_B1SY-bRsBwq",
        "colab_type": "text"
      },
      "source": [
        "###Visualization Using TensorBoard\n",
        "p.339"
      ]
    },
    {
      "cell_type": "code",
      "metadata": {
        "id": "m2ylnC1bsCzZ",
        "colab_type": "code",
        "colab": {}
      },
      "source": [
        "import os\n",
        "root_logdir = os.path.join(os.curdir, 'my_logs')"
      ],
      "execution_count": 0,
      "outputs": []
    },
    {
      "cell_type": "code",
      "metadata": {
        "id": "lo18Tfk4sOMr",
        "colab_type": "code",
        "colab": {}
      },
      "source": [
        "def get_run_logdir():\n",
        "    import time\n",
        "    run_id = time.strftime(\"run_%Y_%m_%d-%H_%M_%S\")\n",
        "    return os.path.join(root_logdir, run_id)\n",
        "  \n",
        "run_logdir = get_run_logdir() # e.g., './my_logs/run_2019_01_16-11_28_43'"
      ],
      "execution_count": 0,
      "outputs": []
    },
    {
      "cell_type": "code",
      "metadata": {
        "id": "kb9-ZnWpseTd",
        "colab_type": "code",
        "outputId": "b290489e-511f-4e3f-faa1-f22437e3bb74",
        "colab": {
          "base_uri": "https://localhost:8080/",
          "height": 1000
        }
      },
      "source": [
        "# [...] # Build and compile your model\n",
        "\n",
        "tensorboard_cb = keras.callbacks.TensorBoard(run_logdir)\n",
        "history = model.fit(X_train, y_train, epochs=30,\n",
        "                    validation_data=(X_valid, y_valid),\n",
        "                    callbacks=[tensorboard_cb])"
      ],
      "execution_count": 0,
      "outputs": [
        {
          "output_type": "stream",
          "text": [
            "Train on 55000 samples, validate on 5000 samples\n",
            "Epoch 1/30\n",
            "55000/55000 [==============================] - 7s 119us/sample - loss: 0.7207 - acc: 0.7658 - val_loss: 0.5258 - val_acc: 0.8250\n",
            "Epoch 2/30\n",
            "55000/55000 [==============================] - 6s 113us/sample - loss: 0.4900 - acc: 0.8283 - val_loss: 0.4537 - val_acc: 0.8426\n",
            "Epoch 3/30\n",
            "55000/55000 [==============================] - 6s 117us/sample - loss: 0.4428 - acc: 0.8450 - val_loss: 0.4164 - val_acc: 0.8584\n",
            "Epoch 4/30\n",
            "55000/55000 [==============================] - 6s 114us/sample - loss: 0.4141 - acc: 0.8538 - val_loss: 0.4006 - val_acc: 0.8610\n",
            "Epoch 5/30\n",
            "55000/55000 [==============================] - 7s 119us/sample - loss: 0.3933 - acc: 0.8623 - val_loss: 0.3828 - val_acc: 0.8672\n",
            "Epoch 6/30\n",
            "55000/55000 [==============================] - 6s 115us/sample - loss: 0.3788 - acc: 0.8661 - val_loss: 0.3762 - val_acc: 0.8690\n",
            "Epoch 7/30\n",
            "55000/55000 [==============================] - 7s 120us/sample - loss: 0.3648 - acc: 0.8707 - val_loss: 0.3672 - val_acc: 0.8710\n",
            "Epoch 8/30\n",
            "55000/55000 [==============================] - 6s 114us/sample - loss: 0.3541 - acc: 0.8743 - val_loss: 0.3670 - val_acc: 0.8694\n",
            "Epoch 9/30\n",
            "55000/55000 [==============================] - 6s 114us/sample - loss: 0.3427 - acc: 0.8772 - val_loss: 0.3558 - val_acc: 0.8760\n",
            "Epoch 10/30\n",
            "55000/55000 [==============================] - 7s 122us/sample - loss: 0.3339 - acc: 0.8810 - val_loss: 0.3588 - val_acc: 0.8750\n",
            "Epoch 11/30\n",
            "55000/55000 [==============================] - 7s 128us/sample - loss: 0.3259 - acc: 0.8833 - val_loss: 0.3463 - val_acc: 0.8776\n",
            "Epoch 12/30\n",
            "55000/55000 [==============================] - 6s 116us/sample - loss: 0.3179 - acc: 0.8860 - val_loss: 0.3419 - val_acc: 0.8758\n",
            "Epoch 13/30\n",
            "55000/55000 [==============================] - 6s 114us/sample - loss: 0.3111 - acc: 0.8889 - val_loss: 0.3256 - val_acc: 0.8830\n",
            "Epoch 14/30\n",
            "55000/55000 [==============================] - 6s 117us/sample - loss: 0.3032 - acc: 0.8915 - val_loss: 0.3261 - val_acc: 0.8824\n",
            "Epoch 15/30\n",
            "55000/55000 [==============================] - 7s 121us/sample - loss: 0.2974 - acc: 0.8932 - val_loss: 0.3367 - val_acc: 0.8780\n",
            "Epoch 16/30\n",
            "55000/55000 [==============================] - 7s 125us/sample - loss: 0.2911 - acc: 0.8960 - val_loss: 0.3499 - val_acc: 0.8706\n",
            "Epoch 17/30\n",
            "55000/55000 [==============================] - 7s 121us/sample - loss: 0.2856 - acc: 0.8976 - val_loss: 0.3218 - val_acc: 0.8840\n",
            "Epoch 18/30\n",
            "55000/55000 [==============================] - 6s 111us/sample - loss: 0.2803 - acc: 0.8987 - val_loss: 0.3214 - val_acc: 0.8848\n",
            "Epoch 19/30\n",
            "55000/55000 [==============================] - 6s 117us/sample - loss: 0.2743 - acc: 0.9017 - val_loss: 0.3138 - val_acc: 0.8876\n",
            "Epoch 20/30\n",
            "55000/55000 [==============================] - 6s 116us/sample - loss: 0.2695 - acc: 0.9027 - val_loss: 0.3148 - val_acc: 0.8850\n",
            "Epoch 21/30\n",
            "55000/55000 [==============================] - 7s 120us/sample - loss: 0.2647 - acc: 0.9048 - val_loss: 0.3059 - val_acc: 0.8880\n",
            "Epoch 22/30\n",
            "55000/55000 [==============================] - 6s 117us/sample - loss: 0.2591 - acc: 0.9069 - val_loss: 0.3157 - val_acc: 0.8844\n",
            "Epoch 23/30\n",
            "55000/55000 [==============================] - 7s 121us/sample - loss: 0.2550 - acc: 0.9077 - val_loss: 0.3065 - val_acc: 0.8844\n",
            "Epoch 24/30\n",
            "55000/55000 [==============================] - 7s 120us/sample - loss: 0.2503 - acc: 0.9104 - val_loss: 0.3146 - val_acc: 0.8854\n",
            "Epoch 25/30\n",
            "55000/55000 [==============================] - 7s 123us/sample - loss: 0.2464 - acc: 0.9113 - val_loss: 0.2991 - val_acc: 0.8928\n",
            "Epoch 26/30\n",
            "55000/55000 [==============================] - 6s 117us/sample - loss: 0.2428 - acc: 0.9118 - val_loss: 0.3108 - val_acc: 0.8898\n",
            "Epoch 27/30\n",
            "55000/55000 [==============================] - 6s 109us/sample - loss: 0.2387 - acc: 0.9140 - val_loss: 0.3037 - val_acc: 0.8920\n",
            "Epoch 28/30\n",
            "55000/55000 [==============================] - 6s 113us/sample - loss: 0.2343 - acc: 0.9153 - val_loss: 0.2988 - val_acc: 0.8882\n",
            "Epoch 29/30\n",
            "55000/55000 [==============================] - 6s 116us/sample - loss: 0.2300 - acc: 0.9167 - val_loss: 0.3127 - val_acc: 0.8890\n",
            "Epoch 30/30\n",
            "55000/55000 [==============================] - 7s 124us/sample - loss: 0.2264 - acc: 0.9185 - val_loss: 0.2985 - val_acc: 0.8930\n"
          ],
          "name": "stdout"
        }
      ]
    },
    {
      "cell_type": "code",
      "metadata": {
        "id": "gVqUbJ2bsrFh",
        "colab_type": "code",
        "outputId": "a5130783-2963-48aa-a8df-d8a8fa6a4839",
        "colab": {
          "base_uri": "https://localhost:8080/",
          "height": 67
        }
      },
      "source": [
        "!tensorboard --logdir=./my_logs --port=6006\n",
        "!TensorBoard 2.0.0 at http://mycomputer.local:6006"
      ],
      "execution_count": 0,
      "outputs": [
        {
          "output_type": "stream",
          "text": [
            "TensorBoard 1.14.0 at http://c6baa84c8a09:6006/ (Press CTRL+C to quit)\n",
            "^C\n",
            "/bin/bash: TensorBoard: command not found\n"
          ],
          "name": "stdout"
        }
      ]
    },
    {
      "cell_type": "code",
      "metadata": {
        "id": "3D00CL6puTZL",
        "colab_type": "code",
        "colab": {}
      },
      "source": [
        ""
      ],
      "execution_count": 0,
      "outputs": []
    },
    {
      "cell_type": "code",
      "metadata": {
        "id": "T2KmBSr6v0XY",
        "colab_type": "code",
        "colab": {}
      },
      "source": [
        ""
      ],
      "execution_count": 0,
      "outputs": []
    },
    {
      "cell_type": "markdown",
      "metadata": {
        "id": "CMXwbSUfvzy4",
        "colab_type": "text"
      },
      "source": [
        "## Fine-Tuning Neural Network Hyperparameters\n",
        "p.342"
      ]
    },
    {
      "cell_type": "markdown",
      "metadata": {
        "id": "L29laYnjxHxH",
        "colab_type": "text"
      },
      "source": [
        "The flexibility of neural networks is also one of their main drawbacks: there are many\n",
        "hyperparameters to tweak.  How do you know what combination of hyperpara‐\n",
        "meters is the best for your task?\n",
        "One option is to simply try many combinations of hyperparameters and see which\n",
        "one works best on the validation set (or using K-fold cross-validation).\n",
        "For this, one approach is simply use **GridSearchCV** or **RandomizedSearchCV** to explore the hyper‐\n",
        "parameter space. "
      ]
    },
    {
      "cell_type": "markdown",
      "metadata": {
        "id": "LcjSB7jqxc8D",
        "colab_type": "text"
      },
      "source": [
        "For this, we need to wrap our Keras models in objects that mimic regular Scikit-Learn regressors. \n",
        "</br>The first step is to create a function that will build and compile a Keras model, given a set of hyperparameters:"
      ]
    },
    {
      "cell_type": "code",
      "metadata": {
        "id": "pck-Az9Mv2p0",
        "colab_type": "code",
        "colab": {}
      },
      "source": [
        ""
      ],
      "execution_count": 0,
      "outputs": []
    }
  ]
}