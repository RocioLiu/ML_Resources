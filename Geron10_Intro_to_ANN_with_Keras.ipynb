{
  "nbformat": 4,
  "nbformat_minor": 0,
  "metadata": {
    "colab": {
      "name": "Geron10_Intro to ANN with Keras.ipynb",
      "version": "0.3.2",
      "provenance": [],
      "collapsed_sections": [],
      "include_colab_link": true
    },
    "kernelspec": {
      "name": "python3",
      "display_name": "Python 3"
    },
    "accelerator": "TPU"
  },
  "cells": [
    {
      "cell_type": "markdown",
      "metadata": {
        "id": "view-in-github",
        "colab_type": "text"
      },
      "source": [
        "<a href=\"https://colab.research.google.com/github/RocioLiu/ML_Resources/blob/master/Geron10_Intro_to_ANN_with_Keras.ipynb\" target=\"_parent\"><img src=\"https://colab.research.google.com/assets/colab-badge.svg\" alt=\"Open In Colab\"/></a>"
      ]
    },
    {
      "cell_type": "markdown",
      "metadata": {
        "id": "vbR0FGfNytMG",
        "colab_type": "text"
      },
      "source": [
        "## Implementing MLPs with Keras"
      ]
    },
    {
      "cell_type": "markdown",
      "metadata": {
        "id": "2JT7xvdAx4Px",
        "colab_type": "text"
      },
      "source": [
        "### Building an Image Classifier Using the Sequential API"
      ]
    },
    {
      "cell_type": "code",
      "metadata": {
        "id": "ZQ4keHlc94mW",
        "colab_type": "code",
        "colab": {}
      },
      "source": [
        "import tensorflow as tf\n",
        "from tensorflow import keras\n",
        "import numpy as np"
      ],
      "execution_count": 0,
      "outputs": []
    },
    {
      "cell_type": "code",
      "metadata": {
        "id": "lzSxTkxu953A",
        "colab_type": "code",
        "colab": {
          "base_uri": "https://localhost:8080/",
          "height": 151
        },
        "outputId": "72cec08c-8fb9-45d8-988e-0ae2d349044a"
      },
      "source": [
        "fashion_mnist = keras.datasets.fashion_mnist\n",
        "\n",
        "(X_train_full, y_train_full), (X_test, y_test) = fashion_mnist.load_data()"
      ],
      "execution_count": 4,
      "outputs": [
        {
          "output_type": "stream",
          "text": [
            "Downloading data from https://storage.googleapis.com/tensorflow/tf-keras-datasets/train-labels-idx1-ubyte.gz\n",
            "32768/29515 [=================================] - 0s 0us/step\n",
            "Downloading data from https://storage.googleapis.com/tensorflow/tf-keras-datasets/train-images-idx3-ubyte.gz\n",
            "26427392/26421880 [==============================] - 0s 0us/step\n",
            "Downloading data from https://storage.googleapis.com/tensorflow/tf-keras-datasets/t10k-labels-idx1-ubyte.gz\n",
            "8192/5148 [===============================================] - 0s 0us/step\n",
            "Downloading data from https://storage.googleapis.com/tensorflow/tf-keras-datasets/t10k-images-idx3-ubyte.gz\n",
            "4423680/4422102 [==============================] - 0s 0us/step\n"
          ],
          "name": "stdout"
        }
      ]
    },
    {
      "cell_type": "code",
      "metadata": {
        "id": "QFf1MU7W99wM",
        "colab_type": "code",
        "outputId": "6a4182d7-4288-4047-b375-87090a414910",
        "colab": {
          "base_uri": "https://localhost:8080/",
          "height": 34
        }
      },
      "source": [
        "X_train_full.shape"
      ],
      "execution_count": 5,
      "outputs": [
        {
          "output_type": "execute_result",
          "data": {
            "text/plain": [
              "(60000, 28, 28)"
            ]
          },
          "metadata": {
            "tags": []
          },
          "execution_count": 5
        }
      ]
    },
    {
      "cell_type": "code",
      "metadata": {
        "id": "Lp03I5hG-CAF",
        "colab_type": "code",
        "outputId": "8f65261b-7248-4136-988a-3888a00541b5",
        "colab": {
          "base_uri": "https://localhost:8080/",
          "height": 34
        }
      },
      "source": [
        "X_train_full.dtype"
      ],
      "execution_count": 6,
      "outputs": [
        {
          "output_type": "execute_result",
          "data": {
            "text/plain": [
              "dtype('uint8')"
            ]
          },
          "metadata": {
            "tags": []
          },
          "execution_count": 6
        }
      ]
    },
    {
      "cell_type": "code",
      "metadata": {
        "id": "XcuPc7Bt-GcP",
        "colab_type": "code",
        "colab": {}
      },
      "source": [
        "X_valid, X_train = X_train_full[:5000]/255.0, X_train_full[5000:]/255.0\n",
        "y_valid, y_train = y_train_full[:5000], y_train_full[5000:]"
      ],
      "execution_count": 0,
      "outputs": []
    },
    {
      "cell_type": "code",
      "metadata": {
        "id": "PeVMwrFY-_Xc",
        "colab_type": "code",
        "colab": {}
      },
      "source": [
        "class_names = [\"T-shirt/top\", \"Trouser\", \"Pullover\", \"Dress\", \"Coat\",\n",
        "               \"Sandal\", \"Shirt\", \"Sneaker\", \"Bag\", \"Ankle boot\"]"
      ],
      "execution_count": 0,
      "outputs": []
    },
    {
      "cell_type": "code",
      "metadata": {
        "id": "sPhWNJ31_CIC",
        "colab_type": "code",
        "outputId": "4d33b7ac-e7b8-4382-ecb4-aa84a8058b0f",
        "colab": {
          "base_uri": "https://localhost:8080/",
          "height": 34
        }
      },
      "source": [
        "class_names[y_train[0]]"
      ],
      "execution_count": 9,
      "outputs": [
        {
          "output_type": "execute_result",
          "data": {
            "text/plain": [
              "'Coat'"
            ]
          },
          "metadata": {
            "tags": []
          },
          "execution_count": 9
        }
      ]
    },
    {
      "cell_type": "markdown",
      "metadata": {
        "id": "DkQSnO_HyJCi",
        "colab_type": "text"
      },
      "source": [
        "#### Creating the Model Using the Sequential API"
      ]
    },
    {
      "cell_type": "code",
      "metadata": {
        "id": "uqaW2c0G_cyC",
        "colab_type": "code",
        "colab": {
          "base_uri": "https://localhost:8080/",
          "height": 104
        },
        "outputId": "4c352cd9-78ba-434a-c7de-f97750b0987f"
      },
      "source": [
        "model = keras.models.Sequential()\n",
        "model.add(keras.layers.Flatten(input_shape=[28,28]))\n",
        "model.add(keras.layers.Dense(300, activation = 'relu'))\n",
        "model.add(keras.layers.Dense(100, activation = 'relu'))\n",
        "model.add(keras.layers.Dense(10, activation = 'softmax'))"
      ],
      "execution_count": 10,
      "outputs": [
        {
          "output_type": "stream",
          "text": [
            "WARNING: Logging before flag parsing goes to stderr.\n",
            "W0710 08:47:57.492129 139636251805568 deprecation.py:506] From /usr/local/lib/python3.6/dist-packages/tensorflow/python/ops/init_ops.py:1251: calling VarianceScaling.__init__ (from tensorflow.python.ops.init_ops) with dtype is deprecated and will be removed in a future version.\n",
            "Instructions for updating:\n",
            "Call initializer instance with the dtype argument instead of passing it to the constructor\n"
          ],
          "name": "stderr"
        }
      ]
    },
    {
      "cell_type": "code",
      "metadata": {
        "id": "RblqPDlcFObh",
        "colab_type": "code",
        "colab": {}
      },
      "source": [
        "model = keras.models.Sequential([\n",
        "    keras.layers.Flatten(input_shape=[28,28]),\n",
        "    keras.layers.Dense(300, activation = 'relu'),\n",
        "    keras.layers.Dense(100, activation = 'relu'),\n",
        "    keras.layers.Dense(10, activation = 'softmax')\n",
        "])"
      ],
      "execution_count": 0,
      "outputs": []
    },
    {
      "cell_type": "code",
      "metadata": {
        "id": "CKxRbzsSHc09",
        "colab_type": "code",
        "outputId": "3cab3dec-afb1-4d9c-e67f-562eae0d4565",
        "colab": {
          "base_uri": "https://localhost:8080/",
          "height": 34
        }
      },
      "source": [
        "model.layers\n",
        "model.layers[1].name\n",
        "#model.get_layer('dense_3').name"
      ],
      "execution_count": 12,
      "outputs": [
        {
          "output_type": "execute_result",
          "data": {
            "text/plain": [
              "'dense_3'"
            ]
          },
          "metadata": {
            "tags": []
          },
          "execution_count": 12
        }
      ]
    },
    {
      "cell_type": "code",
      "metadata": {
        "id": "M7-EJnkMKZ23",
        "colab_type": "code",
        "outputId": "7602474c-bf03-401a-c407-0c61d1610584",
        "colab": {
          "base_uri": "https://localhost:8080/",
          "height": 235
        }
      },
      "source": [
        "weights, biases = model.layers[1].get_weights()\n",
        "weights"
      ],
      "execution_count": 13,
      "outputs": [
        {
          "output_type": "execute_result",
          "data": {
            "text/plain": [
              "array([[-0.01503728, -0.05699985,  0.01687996, ..., -0.05489433,\n",
              "         0.01371884,  0.04520964],\n",
              "       [ 0.04580186,  0.00427995,  0.06365997, ..., -0.04532593,\n",
              "         0.01539738,  0.06797412],\n",
              "       [ 0.06407946,  0.00896972, -0.06395225, ..., -0.03237554,\n",
              "        -0.00124098,  0.02909163],\n",
              "       ...,\n",
              "       [-0.06740418,  0.04015753,  0.03372011, ..., -0.0542163 ,\n",
              "        -0.02707728,  0.029973  ],\n",
              "       [ 0.00637474,  0.06874329,  0.01942719, ..., -0.04886399,\n",
              "         0.00256976, -0.02806403],\n",
              "       [ 0.03410461,  0.04210812, -0.04232227, ...,  0.06503583,\n",
              "        -0.02423177, -0.04210303]], dtype=float32)"
            ]
          },
          "metadata": {
            "tags": []
          },
          "execution_count": 13
        }
      ]
    },
    {
      "cell_type": "code",
      "metadata": {
        "id": "lF5SldJHLB4t",
        "colab_type": "code",
        "outputId": "38056623-f442-4007-c0a5-298603383528",
        "colab": {
          "base_uri": "https://localhost:8080/",
          "height": 34
        }
      },
      "source": [
        "weights.shape"
      ],
      "execution_count": 14,
      "outputs": [
        {
          "output_type": "execute_result",
          "data": {
            "text/plain": [
              "(784, 300)"
            ]
          },
          "metadata": {
            "tags": []
          },
          "execution_count": 14
        }
      ]
    },
    {
      "cell_type": "code",
      "metadata": {
        "id": "NCUu_BACpURE",
        "colab_type": "code",
        "outputId": "6f07a52e-08df-48f7-a41a-4ee9ddef8fc0",
        "colab": {
          "base_uri": "https://localhost:8080/",
          "height": 34
        }
      },
      "source": [
        "biases[:10]"
      ],
      "execution_count": 15,
      "outputs": [
        {
          "output_type": "execute_result",
          "data": {
            "text/plain": [
              "array([0., 0., 0., 0., 0., 0., 0., 0., 0., 0.], dtype=float32)"
            ]
          },
          "metadata": {
            "tags": []
          },
          "execution_count": 15
        }
      ]
    },
    {
      "cell_type": "code",
      "metadata": {
        "id": "NH52rpzeLR38",
        "colab_type": "code",
        "outputId": "913dc3d2-0f40-463a-ce76-9d5c1edf00a0",
        "colab": {
          "base_uri": "https://localhost:8080/",
          "height": 34
        }
      },
      "source": [
        "biases.shape"
      ],
      "execution_count": 16,
      "outputs": [
        {
          "output_type": "execute_result",
          "data": {
            "text/plain": [
              "(300,)"
            ]
          },
          "metadata": {
            "tags": []
          },
          "execution_count": 16
        }
      ]
    },
    {
      "cell_type": "markdown",
      "metadata": {
        "id": "XxPaP3uIyQpL",
        "colab_type": "text"
      },
      "source": [
        "#### Compiling the Model"
      ]
    },
    {
      "cell_type": "code",
      "metadata": {
        "id": "rWIBR66dQFgf",
        "colab_type": "code",
        "colab": {}
      },
      "source": [
        "model.compile(loss='sparse_categorical_crossentropy',\n",
        "              optimizer='sgd',\n",
        "              metrics=['accuracy'])"
      ],
      "execution_count": 0,
      "outputs": []
    },
    {
      "cell_type": "markdown",
      "metadata": {
        "id": "5wuZDVkEyUgS",
        "colab_type": "text"
      },
      "source": [
        "#### Training and Evaluating the Model"
      ]
    },
    {
      "cell_type": "code",
      "metadata": {
        "id": "jJ3JV4PULcaq",
        "colab_type": "code",
        "outputId": "7313d2f9-5403-4947-91bf-67a5505b34b4",
        "colab": {
          "base_uri": "https://localhost:8080/",
          "height": 1000
        }
      },
      "source": [
        "model_fit = model.fit(X_train, y_train, epochs = 30, validation_data = (X_valid, y_valid))"
      ],
      "execution_count": 18,
      "outputs": [
        {
          "output_type": "stream",
          "text": [
            "Train on 55000 samples, validate on 5000 samples\n",
            "Epoch 1/30\n",
            "55000/55000 [==============================] - 6s 115us/sample - loss: 0.6995 - acc: 0.7705 - val_loss: 0.5347 - val_acc: 0.8194\n",
            "Epoch 2/30\n",
            "55000/55000 [==============================] - 6s 109us/sample - loss: 0.4842 - acc: 0.8319 - val_loss: 0.4437 - val_acc: 0.8496\n",
            "Epoch 3/30\n",
            "55000/55000 [==============================] - 6s 106us/sample - loss: 0.4388 - acc: 0.8469 - val_loss: 0.4087 - val_acc: 0.8588\n",
            "Epoch 4/30\n",
            "55000/55000 [==============================] - 6s 108us/sample - loss: 0.4124 - acc: 0.8544 - val_loss: 0.3970 - val_acc: 0.8644\n",
            "Epoch 5/30\n",
            "55000/55000 [==============================] - 6s 107us/sample - loss: 0.3928 - acc: 0.8622 - val_loss: 0.3873 - val_acc: 0.8644\n",
            "Epoch 6/30\n",
            "55000/55000 [==============================] - 6s 105us/sample - loss: 0.3770 - acc: 0.8678 - val_loss: 0.3742 - val_acc: 0.8680\n",
            "Epoch 7/30\n",
            "55000/55000 [==============================] - 6s 109us/sample - loss: 0.3642 - acc: 0.8701 - val_loss: 0.3559 - val_acc: 0.8772\n",
            "Epoch 8/30\n",
            "55000/55000 [==============================] - 6s 110us/sample - loss: 0.3523 - acc: 0.8753 - val_loss: 0.3553 - val_acc: 0.8764\n",
            "Epoch 9/30\n",
            "55000/55000 [==============================] - 6s 113us/sample - loss: 0.3425 - acc: 0.8777 - val_loss: 0.3654 - val_acc: 0.8676\n",
            "Epoch 10/30\n",
            "55000/55000 [==============================] - 6s 112us/sample - loss: 0.3328 - acc: 0.8816 - val_loss: 0.3448 - val_acc: 0.8786\n",
            "Epoch 11/30\n",
            "55000/55000 [==============================] - 6s 114us/sample - loss: 0.3249 - acc: 0.8833 - val_loss: 0.3399 - val_acc: 0.8818\n",
            "Epoch 12/30\n",
            "55000/55000 [==============================] - 6s 111us/sample - loss: 0.3169 - acc: 0.8866 - val_loss: 0.3497 - val_acc: 0.8766\n",
            "Epoch 13/30\n",
            "55000/55000 [==============================] - 6s 115us/sample - loss: 0.3098 - acc: 0.8887 - val_loss: 0.3268 - val_acc: 0.8808\n",
            "Epoch 14/30\n",
            "55000/55000 [==============================] - 6s 114us/sample - loss: 0.3030 - acc: 0.8914 - val_loss: 0.3416 - val_acc: 0.8776\n",
            "Epoch 15/30\n",
            "55000/55000 [==============================] - 6s 113us/sample - loss: 0.2967 - acc: 0.8922 - val_loss: 0.3211 - val_acc: 0.8858\n",
            "Epoch 16/30\n",
            "55000/55000 [==============================] - 6s 111us/sample - loss: 0.2901 - acc: 0.8947 - val_loss: 0.3188 - val_acc: 0.8886\n",
            "Epoch 17/30\n",
            "55000/55000 [==============================] - 6s 114us/sample - loss: 0.2852 - acc: 0.8965 - val_loss: 0.3123 - val_acc: 0.8902\n",
            "Epoch 18/30\n",
            "55000/55000 [==============================] - 6s 109us/sample - loss: 0.2794 - acc: 0.8996 - val_loss: 0.3179 - val_acc: 0.8892\n",
            "Epoch 19/30\n",
            "55000/55000 [==============================] - 7s 124us/sample - loss: 0.2750 - acc: 0.9010 - val_loss: 0.3257 - val_acc: 0.8828\n",
            "Epoch 20/30\n",
            "55000/55000 [==============================] - 6s 108us/sample - loss: 0.2700 - acc: 0.9019 - val_loss: 0.3088 - val_acc: 0.8920\n",
            "Epoch 21/30\n",
            "55000/55000 [==============================] - 6s 113us/sample - loss: 0.2652 - acc: 0.9040 - val_loss: 0.3031 - val_acc: 0.8944\n",
            "Epoch 22/30\n",
            "55000/55000 [==============================] - 6s 112us/sample - loss: 0.2596 - acc: 0.9055 - val_loss: 0.3145 - val_acc: 0.8852\n",
            "Epoch 23/30\n",
            "55000/55000 [==============================] - 6s 110us/sample - loss: 0.2559 - acc: 0.9079 - val_loss: 0.3038 - val_acc: 0.8904\n",
            "Epoch 24/30\n",
            "55000/55000 [==============================] - 6s 110us/sample - loss: 0.2512 - acc: 0.9089 - val_loss: 0.2962 - val_acc: 0.8962\n",
            "Epoch 25/30\n",
            "55000/55000 [==============================] - 6s 110us/sample - loss: 0.2480 - acc: 0.9105 - val_loss: 0.3039 - val_acc: 0.8914\n",
            "Epoch 26/30\n",
            "55000/55000 [==============================] - 6s 107us/sample - loss: 0.2437 - acc: 0.9125 - val_loss: 0.2987 - val_acc: 0.8912\n",
            "Epoch 27/30\n",
            "55000/55000 [==============================] - 6s 105us/sample - loss: 0.2398 - acc: 0.9132 - val_loss: 0.3016 - val_acc: 0.8924\n",
            "Epoch 28/30\n",
            "55000/55000 [==============================] - 6s 103us/sample - loss: 0.2349 - acc: 0.9149 - val_loss: 0.2997 - val_acc: 0.8922\n",
            "Epoch 29/30\n",
            "55000/55000 [==============================] - 6s 109us/sample - loss: 0.2318 - acc: 0.9156 - val_loss: 0.3072 - val_acc: 0.8886\n",
            "Epoch 30/30\n",
            "55000/55000 [==============================] - 6s 107us/sample - loss: 0.2288 - acc: 0.9171 - val_loss: 0.2924 - val_acc: 0.8952\n"
          ],
          "name": "stdout"
        }
      ]
    },
    {
      "cell_type": "code",
      "metadata": {
        "id": "4zecCHL8QCQd",
        "colab_type": "code",
        "outputId": "3318e6d2-170e-4940-fdd3-a70f0fada0d5",
        "colab": {
          "base_uri": "https://localhost:8080/",
          "height": 324
        }
      },
      "source": [
        "import pandas as pd\n",
        "import matplotlib.pyplot as plt\n",
        "pd.DataFrame(model_fit.history).plot(figsize=(8,5))\n",
        "plt.grid(True)\n",
        "plt.gca().set_ylim(0,1) # plt.gca(): Get the current Axes instance on the current figure matching the given keyword args, or create one.\n",
        "plt.show()"
      ],
      "execution_count": 19,
      "outputs": [
        {
          "output_type": "display_data",
          "data": {
            "image/png": "[encoded data removed]",
            "text/plain": [
              "<Figure size 576x360 with 1 Axes>"
            ]
          },
          "metadata": {
            "tags": []
          }
        }
      ]
    },
    {
      "cell_type": "code",
      "metadata": {
        "id": "LwowOFo2VOPV",
        "colab_type": "code",
        "outputId": "3eac97e0-eb7a-4e92-cb80-e701843efd22",
        "colab": {
          "base_uri": "https://localhost:8080/",
          "height": 50
        }
      },
      "source": [
        "model.evaluate(X_test, y_test)"
      ],
      "execution_count": 20,
      "outputs": [
        {
          "output_type": "stream",
          "text": [
            "10000/10000 [==============================] - 0s 46us/sample - loss: 59.2613 - acc: 0.8583\n"
          ],
          "name": "stdout"
        },
        {
          "output_type": "execute_result",
          "data": {
            "text/plain": [
              "[59.26126955986023, 0.8583]"
            ]
          },
          "metadata": {
            "tags": []
          },
          "execution_count": 20
        }
      ]
    },
    {
      "cell_type": "markdown",
      "metadata": {
        "id": "O6T08TxByhGW",
        "colab_type": "text"
      },
      "source": [
        "#### Using the Model to Make Predictions"
      ]
    },
    {
      "cell_type": "code",
      "metadata": {
        "id": "88imSlQinV-e",
        "colab_type": "code",
        "outputId": "06d2a2c5-f1a4-4d00-c7c7-a22c72b0d8a3",
        "colab": {
          "base_uri": "https://localhost:8080/",
          "height": 67
        }
      },
      "source": [
        "# Using the Model to Make Predictions\n",
        "# Since we don’t have actual new instances, we will just use the first 3 instances of the test set:\n",
        "X_new = X_test[:3]\n",
        "y_proba = model.predict(X_new)\n",
        "y_proba.round(2)"
      ],
      "execution_count": 21,
      "outputs": [
        {
          "output_type": "execute_result",
          "data": {
            "text/plain": [
              "array([[0., 0., 0., 0., 0., 0., 0., 0., 0., 1.],\n",
              "       [0., 0., 1., 0., 0., 0., 0., 0., 0., 0.],\n",
              "       [0., 1., 0., 0., 0., 0., 0., 0., 0., 0.]], dtype=float32)"
            ]
          },
          "metadata": {
            "tags": []
          },
          "execution_count": 21
        }
      ]
    },
    {
      "cell_type": "code",
      "metadata": {
        "id": "2P_jCsiBn8qd",
        "colab_type": "code",
        "outputId": "48e553ed-acd3-462a-81fc-56e1f7590432",
        "colab": {
          "base_uri": "https://localhost:8080/",
          "height": 34
        }
      },
      "source": [
        "# If you only care about the class with the highest estimated probability(even if that probability is quite low),\n",
        "# then you can use the predict_classes() method instead:\n",
        "y_pred = model.predict_classes(X_new)\n",
        "y_pred"
      ],
      "execution_count": 22,
      "outputs": [
        {
          "output_type": "execute_result",
          "data": {
            "text/plain": [
              "array([9, 2, 1])"
            ]
          },
          "metadata": {
            "tags": []
          },
          "execution_count": 22
        }
      ]
    },
    {
      "cell_type": "code",
      "metadata": {
        "id": "3NKBDjGWoIyl",
        "colab_type": "code",
        "outputId": "fb8fc3a2-f813-4b67-bbbe-734e28976111",
        "colab": {
          "base_uri": "https://localhost:8080/",
          "height": 34
        }
      },
      "source": [
        "np.array(class_names)[y_pred]"
      ],
      "execution_count": 23,
      "outputs": [
        {
          "output_type": "execute_result",
          "data": {
            "text/plain": [
              "array(['Ankle boot', 'Pullover', 'Trouser'], dtype='<U11')"
            ]
          },
          "metadata": {
            "tags": []
          },
          "execution_count": 23
        }
      ]
    },
    {
      "cell_type": "code",
      "metadata": {
        "id": "8htucGzbq39X",
        "colab_type": "code",
        "outputId": "771a0125-6df8-4d53-b8f8-cb4fd6012d21",
        "colab": {
          "base_uri": "https://localhost:8080/",
          "height": 34
        }
      },
      "source": [
        "#  the classifier actually classified all three images correctly:\n",
        "y_test[:3]"
      ],
      "execution_count": 24,
      "outputs": [
        {
          "output_type": "execute_result",
          "data": {
            "text/plain": [
              "array([9, 2, 1], dtype=uint8)"
            ]
          },
          "metadata": {
            "tags": []
          },
          "execution_count": 24
        }
      ]
    },
    {
      "cell_type": "markdown",
      "metadata": {
        "id": "byOyO3d7r3dB",
        "colab_type": "text"
      },
      "source": [
        "### Building a Regression MLP Using the Sequential API"
      ]
    },
    {
      "cell_type": "code",
      "metadata": {
        "id": "k_P-b9WArg-1",
        "colab_type": "code",
        "colab": {}
      },
      "source": [
        "# use Scikit-Learn’s fetch_california_housing() function to load the data:\n",
        "from sklearn.datasets import fetch_california_housing\n",
        "from sklearn.model_selection import train_test_split\n",
        "from sklearn.preprocessing import StandardScaler"
      ],
      "execution_count": 0,
      "outputs": []
    },
    {
      "cell_type": "code",
      "metadata": {
        "id": "87x-TNnmLoff",
        "colab_type": "code",
        "colab": {
          "base_uri": "https://localhost:8080/",
          "height": 50
        },
        "outputId": "2d06ae9e-7745-4324-c6e3-d139f38ed67f"
      },
      "source": [
        "housing = fetch_california_housing()"
      ],
      "execution_count": 26,
      "outputs": [
        {
          "output_type": "stream",
          "text": [
            "Downloading Cal. housing from https://ndownloader.figshare.com/files/5976036 to /root/scikit_learn_data\n",
            "I0710 08:51:58.039066 139636251805568 california_housing.py:114] Downloading Cal. housing from https://ndownloader.figshare.com/files/5976036 to /root/scikit_learn_data\n"
          ],
          "name": "stderr"
        }
      ]
    },
    {
      "cell_type": "code",
      "metadata": {
        "id": "T6A7krlxsrpD",
        "colab_type": "code",
        "colab": {}
      },
      "source": [
        "X_train_full, X_test, y_train_full, y_test = train_test_split(housing.data, housing.target)\n",
        "X_train, X_valid, y_train, y_valid = train_test_split(X_train_full, y_train_full)"
      ],
      "execution_count": 0,
      "outputs": []
    },
    {
      "cell_type": "code",
      "metadata": {
        "id": "a7AVzdn8LkOQ",
        "colab_type": "code",
        "outputId": "df2f22c1-0dd6-4d9e-bcdb-e8ada7e45c2a",
        "colab": {
          "base_uri": "https://localhost:8080/",
          "height": 67
        }
      },
      "source": [
        "# StandardScaler(): Standardize features by removing the mean and scaling to unit variance\n",
        "scaler = StandardScaler()\n",
        "\n",
        "X_train_scaled = scaler.fit_transform(X_train)  # fit_transform:　Fit to data, then transform it.  So after this step, the scaler object has the mean and std attribute of X_train\n",
        "X_valid_scaled = scaler.transform(X_valid) # Using the mean and std attribute of X_train to standardize X_valid\n",
        "X_test_scaled = scaler.transform(X_test) # Using the mean and std attribute of X_train to standardize X_test\n",
        "print(scaler.mean_)\n",
        "print(np.mean(X_train[:,0]))"
      ],
      "execution_count": 53,
      "outputs": [
        {
          "output_type": "stream",
          "text": [
            "[ 3.86078633e+00  2.87113695e+01  5.43408177e+00  1.09832747e+00\n",
            "  1.41715926e+03  3.14697097e+00  3.56334625e+01 -1.19572295e+02]\n",
            "3.8607863307493546\n"
          ],
          "name": "stdout"
        }
      ]
    },
    {
      "cell_type": "code",
      "metadata": {
        "id": "jEVfIsUBLkr0",
        "colab_type": "code",
        "colab": {}
      },
      "source": [
        "model = keras.models.Sequential([\n",
        "    keras.layers.Dense(30, activation = 'relu', input_shape = X_train.shape[1:]), # the input_shape is start from index 1 of the X_train.shape, since the index 0 is the sample size\n",
        "    keras.layers.Dense(1)\n",
        "])"
      ],
      "execution_count": 0,
      "outputs": []
    },
    {
      "cell_type": "code",
      "metadata": {
        "id": "0wzlFxXLWNUX",
        "colab_type": "code",
        "colab": {}
      },
      "source": [
        "model.compile(loss = 'mean_squared_error', optimizer = 'sgd')"
      ],
      "execution_count": 0,
      "outputs": []
    },
    {
      "cell_type": "code",
      "metadata": {
        "id": "h_PGfGjuMUpn",
        "colab_type": "code",
        "outputId": "1b403fde-969a-4c1f-a6fa-72bb098e24c0",
        "colab": {
          "base_uri": "https://localhost:8080/",
          "height": 706
        }
      },
      "source": [
        "model_fit = model.fit(X_train_scaled, y_train, epochs=20, validation_data = (X_valid_scaled, y_valid))"
      ],
      "execution_count": 59,
      "outputs": [
        {
          "output_type": "stream",
          "text": [
            "Train on 11610 samples, validate on 3870 samples\n",
            "Epoch 1/20\n",
            "11610/11610 [==============================] - 1s 75us/sample - loss: 0.9452 - val_loss: 0.5647\n",
            "Epoch 2/20\n",
            "11610/11610 [==============================] - 1s 44us/sample - loss: 0.5319 - val_loss: 0.4971\n",
            "Epoch 3/20\n",
            "11610/11610 [==============================] - 1s 46us/sample - loss: 0.4911 - val_loss: 0.4721\n",
            "Epoch 4/20\n",
            "11610/11610 [==============================] - 1s 47us/sample - loss: 0.4668 - val_loss: 0.4479\n",
            "Epoch 5/20\n",
            "11610/11610 [==============================] - 1s 46us/sample - loss: 0.4507 - val_loss: 0.4340\n",
            "Epoch 6/20\n",
            "11610/11610 [==============================] - 1s 43us/sample - loss: 0.4412 - val_loss: 0.4276\n",
            "Epoch 7/20\n",
            "11610/11610 [==============================] - 1s 45us/sample - loss: 0.4327 - val_loss: 0.4155\n",
            "Epoch 8/20\n",
            "11610/11610 [==============================] - 1s 44us/sample - loss: 0.4327 - val_loss: 0.4170\n",
            "Epoch 9/20\n",
            "11610/11610 [==============================] - 1s 45us/sample - loss: 0.4197 - val_loss: 0.4073\n",
            "Epoch 10/20\n",
            "11610/11610 [==============================] - 1s 44us/sample - loss: 0.4151 - val_loss: 0.4033\n",
            "Epoch 11/20\n",
            "11610/11610 [==============================] - 1s 45us/sample - loss: 0.4113 - val_loss: 0.4012\n",
            "Epoch 12/20\n",
            "11610/11610 [==============================] - 1s 49us/sample - loss: 0.4076 - val_loss: 0.3951\n",
            "Epoch 13/20\n",
            "11610/11610 [==============================] - 1s 49us/sample - loss: 0.4019 - val_loss: 0.3884\n",
            "Epoch 14/20\n",
            "11610/11610 [==============================] - 1s 49us/sample - loss: 0.3998 - val_loss: 0.3904\n",
            "Epoch 15/20\n",
            "11610/11610 [==============================] - 1s 50us/sample - loss: 0.3984 - val_loss: 0.3837\n",
            "Epoch 16/20\n",
            "11610/11610 [==============================] - 1s 48us/sample - loss: 0.3979 - val_loss: 0.4110\n",
            "Epoch 17/20\n",
            "11610/11610 [==============================] - 1s 48us/sample - loss: 0.4036 - val_loss: 0.3809\n",
            "Epoch 18/20\n",
            "11610/11610 [==============================] - 1s 48us/sample - loss: 0.4695 - val_loss: 0.3918\n",
            "Epoch 19/20\n",
            "11610/11610 [==============================] - 1s 48us/sample - loss: 0.3984 - val_loss: 0.3926\n",
            "Epoch 20/20\n",
            "11610/11610 [==============================] - 1s 48us/sample - loss: 0.3911 - val_loss: 0.3824\n"
          ],
          "name": "stdout"
        }
      ]
    },
    {
      "cell_type": "code",
      "metadata": {
        "id": "qDJJLPpARdZ_",
        "colab_type": "code",
        "outputId": "6ca9d6fd-2120-432c-82c9-1f1a696a2d81",
        "colab": {
          "base_uri": "https://localhost:8080/",
          "height": 34
        }
      },
      "source": [
        "mse_test = model.evaluate(X_test_scaled, y_test)"
      ],
      "execution_count": 60,
      "outputs": [
        {
          "output_type": "stream",
          "text": [
            "5160/5160 [==============================] - 0s 26us/sample - loss: 0.3931\n"
          ],
          "name": "stdout"
        }
      ]
    },
    {
      "cell_type": "code",
      "metadata": {
        "id": "D-FxTWgST4ur",
        "colab_type": "code",
        "outputId": "46b7adef-dc9d-4db1-cbc7-26b555d7c747",
        "colab": {
          "base_uri": "https://localhost:8080/",
          "height": 67
        }
      },
      "source": [
        "X_new = X_test_scaled[:3] # pretend these are new instances\n",
        "y_pred = model.predict(X_new)\n",
        "y_pred"
      ],
      "execution_count": 61,
      "outputs": [
        {
          "output_type": "execute_result",
          "data": {
            "text/plain": [
              "array([[0.6941538],\n",
              "       [0.9407015],\n",
              "       [4.116179 ]], dtype=float32)"
            ]
          },
          "metadata": {
            "tags": []
          },
          "execution_count": 61
        }
      ]
    },
    {
      "cell_type": "markdown",
      "metadata": {
        "id": "WiIsmvDzjb2r",
        "colab_type": "text"
      },
      "source": [
        "### Building Complex Models Using the Functional API\n",
        "p.331"
      ]
    },
    {
      "cell_type": "markdown",
      "metadata": {
        "id": "yPBdtoY1pe4U",
        "colab_type": "text"
      },
      "source": [
        "One example of a non-sequential neural network is a **Wide & Deep neural network**.\n",
        "It connects all or part of the inputs directly to the output layer."
      ]
    },
    {
      "cell_type": "code",
      "metadata": {
        "id": "D_-Cl9fpWGzJ",
        "colab_type": "code",
        "colab": {}
      },
      "source": [
        "# Let’s build such a neural network to tackle the California housing problem:\n",
        "input = keras.layers.Input(shape=X_train.shape[1:])\n",
        "hidden1 = keras.layers.Dense(30, activation = 'relu')(input)\n",
        "hidden2 = keras.layers.Dense(30, activation = 'relu')(hidden1)\n",
        "concat = keras.layers.concatenate([input, hidden2])\n",
        "output = keras.layers.Dense(1)(concat)\n",
        "model = keras.models.Model(inputs=[input], outputs=[output])"
      ],
      "execution_count": 0,
      "outputs": []
    },
    {
      "cell_type": "markdown",
      "metadata": {
        "id": "KYJG3EogpZFy",
        "colab_type": "text"
      },
      "source": [
        "if we want to send a subset of the features through the wide path, and a different subset (possibly overlapping) through the deep path (see Figure 10-14)? In this case, one solution is to use **multiple inputs**."
      ]
    },
    {
      "cell_type": "code",
      "metadata": {
        "id": "Bd-ZBrWWW2VD",
        "colab_type": "code",
        "colab": {}
      },
      "source": [
        "input_A = keras.layers.Input(shape=[5])\n",
        "input_B = keras.layers.Input(shape=[6])\n",
        "hidden1 = keras.layers.Dense(30, activation=\"relu\")(input_B)\n",
        "hidden2 = keras.layers.Dense(30, activation=\"relu\")(hidden1)\n",
        "concat = keras.layers.concatenate([input_A, hidden2])\n",
        "output = keras.layers.Dense(1)(concat)\n",
        "model = keras.models.Model(inputs=[input_A, input_B], outputs=[output])"
      ],
      "execution_count": 0,
      "outputs": []
    },
    {
      "cell_type": "code",
      "metadata": {
        "id": "059di3dJZfs1",
        "colab_type": "code",
        "colab": {
          "base_uri": "https://localhost:8080/",
          "height": 722
        },
        "outputId": "4e11c92e-fc99-4653-f8a4-3a39cbb0aaf7"
      },
      "source": [
        "model.compile(loss='mse', optimizer='sgd')\n",
        "\n",
        "X_train_A, X_train_B = X_train[:,:5], X_train[:,2:]\n",
        "X_valid_A, X_valid_B = X_valid[:,:5], X_valid[:,2:]\n",
        "X_test_A, X_test_B = X_test[:,:5], X_test[:,2:]\n",
        "X_new_A, X_new_B = X_test_A[:3], X_test_B[:3]\n",
        "\n",
        "history = model.fit((X_train_A, X_train_B), y_train, epochs=20,\n",
        "                    validation_data=((X_valid_A, X_valid_B), y_valid))\n",
        "mse_test = model.evaluate((X_test_A, X_test_B), y_test)\n",
        "y_pred = model.predict((X_new_A, X_new_B))"
      ],
      "execution_count": 43,
      "outputs": [
        {
          "output_type": "stream",
          "text": [
            "Train on 11610 samples, validate on 3870 samples\n",
            "Epoch 1/20\n",
            "11610/11610 [==============================] - 1s 69us/sample - loss: nan - val_loss: nan\n",
            "Epoch 2/20\n",
            "11610/11610 [==============================] - 1s 47us/sample - loss: nan - val_loss: nan\n",
            "Epoch 3/20\n",
            "11610/11610 [==============================] - 1s 48us/sample - loss: nan - val_loss: nan\n",
            "Epoch 4/20\n",
            "11610/11610 [==============================] - 1s 47us/sample - loss: nan - val_loss: nan\n",
            "Epoch 5/20\n",
            "11610/11610 [==============================] - 1s 47us/sample - loss: nan - val_loss: nan\n",
            "Epoch 6/20\n",
            "11610/11610 [==============================] - 1s 47us/sample - loss: nan - val_loss: nan\n",
            "Epoch 7/20\n",
            "11610/11610 [==============================] - 1s 47us/sample - loss: nan - val_loss: nan\n",
            "Epoch 8/20\n",
            "11610/11610 [==============================] - 1s 46us/sample - loss: nan - val_loss: nan\n",
            "Epoch 9/20\n",
            "11610/11610 [==============================] - 1s 46us/sample - loss: nan - val_loss: nan\n",
            "Epoch 10/20\n",
            "11610/11610 [==============================] - 1s 46us/sample - loss: nan - val_loss: nan\n",
            "Epoch 11/20\n",
            "11610/11610 [==============================] - 1s 46us/sample - loss: nan - val_loss: nan\n",
            "Epoch 12/20\n",
            "11610/11610 [==============================] - 1s 46us/sample - loss: nan - val_loss: nan\n",
            "Epoch 13/20\n",
            "11610/11610 [==============================] - 1s 46us/sample - loss: nan - val_loss: nan\n",
            "Epoch 14/20\n",
            "11610/11610 [==============================] - 1s 46us/sample - loss: nan - val_loss: nan\n",
            "Epoch 15/20\n",
            "11610/11610 [==============================] - 1s 46us/sample - loss: nan - val_loss: nan\n",
            "Epoch 16/20\n",
            "11610/11610 [==============================] - 1s 47us/sample - loss: nan - val_loss: nan\n",
            "Epoch 17/20\n",
            "11610/11610 [==============================] - 1s 46us/sample - loss: nan - val_loss: nan\n",
            "Epoch 18/20\n",
            "11610/11610 [==============================] - 1s 46us/sample - loss: nan - val_loss: nan\n",
            "Epoch 19/20\n",
            "11610/11610 [==============================] - 1s 47us/sample - loss: nan - val_loss: nan\n",
            "Epoch 20/20\n",
            "11610/11610 [==============================] - 1s 48us/sample - loss: nan - val_loss: nan\n",
            "5160/5160 [==============================] - 0s 24us/sample - loss: nan\n"
          ],
          "name": "stdout"
        }
      ]
    },
    {
      "cell_type": "markdown",
      "metadata": {
        "id": "FsivkeJb3w0a",
        "colab_type": "text"
      },
      "source": [
        "p.334   ...."
      ]
    },
    {
      "cell_type": "code",
      "metadata": {
        "id": "nXQcJUudfvGA",
        "colab_type": "code",
        "colab": {}
      },
      "source": [
        ""
      ],
      "execution_count": 0,
      "outputs": []
    },
    {
      "cell_type": "markdown",
      "metadata": {
        "id": "dvM0bAI539mL",
        "colab_type": "text"
      },
      "source": [
        "### Building Dynamic Models Using the Subclassing API\n",
        "p.336"
      ]
    },
    {
      "cell_type": "code",
      "metadata": {
        "id": "Eug3zEtQsBgt",
        "colab_type": "code",
        "colab": {}
      },
      "source": [
        ""
      ],
      "execution_count": 0,
      "outputs": []
    },
    {
      "cell_type": "markdown",
      "metadata": {
        "id": "o3pTrCMc4CDm",
        "colab_type": "text"
      },
      "source": [
        "### Saving and Restoring a Model\n",
        "p.337"
      ]
    },
    {
      "cell_type": "code",
      "metadata": {
        "id": "6F-X1EWX7b9w",
        "colab_type": "code",
        "colab": {}
      },
      "source": [
        "# Saving a trained Keras model is as simple as it gets:\n",
        "model.save(\"my_keras_model.h5\")"
      ],
      "execution_count": 0,
      "outputs": []
    },
    {
      "cell_type": "code",
      "metadata": {
        "id": "e7C6GXPG7riv",
        "colab_type": "code",
        "colab": {}
      },
      "source": [
        "# Loading the model\n",
        "model = keras.models.load_model(\"my_keras_model.h5\")"
      ],
      "execution_count": 0,
      "outputs": []
    },
    {
      "cell_type": "markdown",
      "metadata": {
        "id": "uNsokpwt4OgS",
        "colab_type": "text"
      },
      "source": [
        "### Using Callbacks\n",
        "The `fit()` method accepts a **callbacks argument** that lets you specify a list of objects\n",
        "that Keras will call *during training at the start and end of training*, *at the start and end\n",
        "of each epoch* and even *before and after processing each batch*."
      ]
    },
    {
      "cell_type": "code",
      "metadata": {
        "id": "Kqzfnixl4O0O",
        "colab_type": "code",
        "colab": {}
      },
      "source": [
        "# [...] # build and compile the model\n",
        "checkpoint_cb = keras.callbacks.ModelCheckpoint(\"my_keras_model.h5\")\n",
        "history = model.fit(X_train, y_train, epochs=10, callbacks =[checkpoint_cb])"
      ],
      "execution_count": 0,
      "outputs": []
    },
    {
      "cell_type": "markdown",
      "metadata": {
        "id": "e2Br_arr8Q6v",
        "colab_type": "text"
      },
      "source": [
        "set **`save_best_only=True`** when creating the **`ModelCheckpoint`**. In this case, it will only\n",
        "save your model when its performance on the validation set is the best so far."
      ]
    },
    {
      "cell_type": "code",
      "metadata": {
        "id": "RzozeEdw8goQ",
        "colab_type": "code",
        "colab": {}
      },
      "source": [
        "checkpoint_cb = keras.callbacks.ModelCheckpoint(\"my_keras_model.h5\",\n",
        "                                                set_best_only = True)\n",
        "history = model.fit(X_train, y_train, epochs = 10, \n",
        "                    validation_data = (X_valid, y_valid),\n",
        "                    callbacks = [checkpoint_cb])\n",
        "model = keras.models.load_model(\"my_keras_model.h5\") # rollback to best model"
      ],
      "execution_count": 0,
      "outputs": []
    },
    {
      "cell_type": "markdown",
      "metadata": {
        "id": "lZfp-9Sn8gwJ",
        "colab_type": "text"
      },
      "source": [
        "Another way to implement early stopping is to simply use the **`EarlyStopping`** call‐\n",
        "back. It will interrupt training when it measures no progress on the validation set for\n",
        "a number of epochs (defined by the **`patience`** argument), and it will optionally roll\n",
        "back to the best model."
      ]
    },
    {
      "cell_type": "code",
      "metadata": {
        "id": "32wTyLMK8g2I",
        "colab_type": "code",
        "colab": {}
      },
      "source": [
        "early_stopping_cb = keras.callbacks.EarlyStopping(patience=10,\n",
        "                                                  restore_best_weights=True)\n",
        "history = model.fit(X_train, y_train, epochs=100,\n",
        "                    validation_data=(X_valid, y_valid),\n",
        "                    callbacks=[checkpoint_cb, early_stopping_cb])"
      ],
      "execution_count": 0,
      "outputs": []
    },
    {
      "cell_type": "markdown",
      "metadata": {
        "id": "_B1SY-bRsBwq",
        "colab_type": "text"
      },
      "source": [
        "###Visualization Using TensorBoard\n",
        "p.339"
      ]
    },
    {
      "cell_type": "code",
      "metadata": {
        "id": "m2ylnC1bsCzZ",
        "colab_type": "code",
        "colab": {}
      },
      "source": [
        "import os\n",
        "root_logdir = os.path.join(os.curdir, 'my_logs')"
      ],
      "execution_count": 0,
      "outputs": []
    },
    {
      "cell_type": "code",
      "metadata": {
        "id": "lo18Tfk4sOMr",
        "colab_type": "code",
        "colab": {}
      },
      "source": [
        "def get_run_logdir():\n",
        "    import time\n",
        "    run_id = time.strftime(\"run_%Y_%m_%d-%H_%M_%S\")\n",
        "    return os.path.join(root_logdir, run_id)\n",
        "  \n",
        "run_logdir = get_run_logdir() # e.g., './my_logs/run_2019_01_16-11_28_43'"
      ],
      "execution_count": 0,
      "outputs": []
    },
    {
      "cell_type": "code",
      "metadata": {
        "id": "kb9-ZnWpseTd",
        "colab_type": "code",
        "outputId": "b290489e-511f-4e3f-faa1-f22437e3bb74",
        "colab": {
          "base_uri": "https://localhost:8080/",
          "height": 1000
        }
      },
      "source": [
        "# [...] # Build and compile your model\n",
        "\n",
        "tensorboard_cb = keras.callbacks.TensorBoard(run_logdir)\n",
        "history = model.fit(X_train, y_train, epochs=30,\n",
        "                    validation_data=(X_valid, y_valid),\n",
        "                    callbacks=[tensorboard_cb])"
      ],
      "execution_count": 0,
      "outputs": [
        {
          "output_type": "stream",
          "text": [
            "Train on 55000 samples, validate on 5000 samples\n",
            "Epoch 1/30\n",
            "55000/55000 [==============================] - 7s 119us/sample - loss: 0.7207 - acc: 0.7658 - val_loss: 0.5258 - val_acc: 0.8250\n",
            "Epoch 2/30\n",
            "55000/55000 [==============================] - 6s 113us/sample - loss: 0.4900 - acc: 0.8283 - val_loss: 0.4537 - val_acc: 0.8426\n",
            "Epoch 3/30\n",
            "55000/55000 [==============================] - 6s 117us/sample - loss: 0.4428 - acc: 0.8450 - val_loss: 0.4164 - val_acc: 0.8584\n",
            "Epoch 4/30\n",
            "55000/55000 [==============================] - 6s 114us/sample - loss: 0.4141 - acc: 0.8538 - val_loss: 0.4006 - val_acc: 0.8610\n",
            "Epoch 5/30\n",
            "55000/55000 [==============================] - 7s 119us/sample - loss: 0.3933 - acc: 0.8623 - val_loss: 0.3828 - val_acc: 0.8672\n",
            "Epoch 6/30\n",
            "55000/55000 [==============================] - 6s 115us/sample - loss: 0.3788 - acc: 0.8661 - val_loss: 0.3762 - val_acc: 0.8690\n",
            "Epoch 7/30\n",
            "55000/55000 [==============================] - 7s 120us/sample - loss: 0.3648 - acc: 0.8707 - val_loss: 0.3672 - val_acc: 0.8710\n",
            "Epoch 8/30\n",
            "55000/55000 [==============================] - 6s 114us/sample - loss: 0.3541 - acc: 0.8743 - val_loss: 0.3670 - val_acc: 0.8694\n",
            "Epoch 9/30\n",
            "55000/55000 [==============================] - 6s 114us/sample - loss: 0.3427 - acc: 0.8772 - val_loss: 0.3558 - val_acc: 0.8760\n",
            "Epoch 10/30\n",
            "55000/55000 [==============================] - 7s 122us/sample - loss: 0.3339 - acc: 0.8810 - val_loss: 0.3588 - val_acc: 0.8750\n",
            "Epoch 11/30\n",
            "55000/55000 [==============================] - 7s 128us/sample - loss: 0.3259 - acc: 0.8833 - val_loss: 0.3463 - val_acc: 0.8776\n",
            "Epoch 12/30\n",
            "55000/55000 [==============================] - 6s 116us/sample - loss: 0.3179 - acc: 0.8860 - val_loss: 0.3419 - val_acc: 0.8758\n",
            "Epoch 13/30\n",
            "55000/55000 [==============================] - 6s 114us/sample - loss: 0.3111 - acc: 0.8889 - val_loss: 0.3256 - val_acc: 0.8830\n",
            "Epoch 14/30\n",
            "55000/55000 [==============================] - 6s 117us/sample - loss: 0.3032 - acc: 0.8915 - val_loss: 0.3261 - val_acc: 0.8824\n",
            "Epoch 15/30\n",
            "55000/55000 [==============================] - 7s 121us/sample - loss: 0.2974 - acc: 0.8932 - val_loss: 0.3367 - val_acc: 0.8780\n",
            "Epoch 16/30\n",
            "55000/55000 [==============================] - 7s 125us/sample - loss: 0.2911 - acc: 0.8960 - val_loss: 0.3499 - val_acc: 0.8706\n",
            "Epoch 17/30\n",
            "55000/55000 [==============================] - 7s 121us/sample - loss: 0.2856 - acc: 0.8976 - val_loss: 0.3218 - val_acc: 0.8840\n",
            "Epoch 18/30\n",
            "55000/55000 [==============================] - 6s 111us/sample - loss: 0.2803 - acc: 0.8987 - val_loss: 0.3214 - val_acc: 0.8848\n",
            "Epoch 19/30\n",
            "55000/55000 [==============================] - 6s 117us/sample - loss: 0.2743 - acc: 0.9017 - val_loss: 0.3138 - val_acc: 0.8876\n",
            "Epoch 20/30\n",
            "55000/55000 [==============================] - 6s 116us/sample - loss: 0.2695 - acc: 0.9027 - val_loss: 0.3148 - val_acc: 0.8850\n",
            "Epoch 21/30\n",
            "55000/55000 [==============================] - 7s 120us/sample - loss: 0.2647 - acc: 0.9048 - val_loss: 0.3059 - val_acc: 0.8880\n",
            "Epoch 22/30\n",
            "55000/55000 [==============================] - 6s 117us/sample - loss: 0.2591 - acc: 0.9069 - val_loss: 0.3157 - val_acc: 0.8844\n",
            "Epoch 23/30\n",
            "55000/55000 [==============================] - 7s 121us/sample - loss: 0.2550 - acc: 0.9077 - val_loss: 0.3065 - val_acc: 0.8844\n",
            "Epoch 24/30\n",
            "55000/55000 [==============================] - 7s 120us/sample - loss: 0.2503 - acc: 0.9104 - val_loss: 0.3146 - val_acc: 0.8854\n",
            "Epoch 25/30\n",
            "55000/55000 [==============================] - 7s 123us/sample - loss: 0.2464 - acc: 0.9113 - val_loss: 0.2991 - val_acc: 0.8928\n",
            "Epoch 26/30\n",
            "55000/55000 [==============================] - 6s 117us/sample - loss: 0.2428 - acc: 0.9118 - val_loss: 0.3108 - val_acc: 0.8898\n",
            "Epoch 27/30\n",
            "55000/55000 [==============================] - 6s 109us/sample - loss: 0.2387 - acc: 0.9140 - val_loss: 0.3037 - val_acc: 0.8920\n",
            "Epoch 28/30\n",
            "55000/55000 [==============================] - 6s 113us/sample - loss: 0.2343 - acc: 0.9153 - val_loss: 0.2988 - val_acc: 0.8882\n",
            "Epoch 29/30\n",
            "55000/55000 [==============================] - 6s 116us/sample - loss: 0.2300 - acc: 0.9167 - val_loss: 0.3127 - val_acc: 0.8890\n",
            "Epoch 30/30\n",
            "55000/55000 [==============================] - 7s 124us/sample - loss: 0.2264 - acc: 0.9185 - val_loss: 0.2985 - val_acc: 0.8930\n"
          ],
          "name": "stdout"
        }
      ]
    },
    {
      "cell_type": "code",
      "metadata": {
        "id": "gVqUbJ2bsrFh",
        "colab_type": "code",
        "outputId": "a5130783-2963-48aa-a8df-d8a8fa6a4839",
        "colab": {
          "base_uri": "https://localhost:8080/",
          "height": 67
        }
      },
      "source": [
        "!tensorboard --logdir=./my_logs --port=6006\n",
        "!TensorBoard 2.0.0 at http://mycomputer.local:6006"
      ],
      "execution_count": 0,
      "outputs": [
        {
          "output_type": "stream",
          "text": [
            "TensorBoard 1.14.0 at http://c6baa84c8a09:6006/ (Press CTRL+C to quit)\n",
            "^C\n",
            "/bin/bash: TensorBoard: command not found\n"
          ],
          "name": "stdout"
        }
      ]
    },
    {
      "cell_type": "code",
      "metadata": {
        "id": "3D00CL6puTZL",
        "colab_type": "code",
        "colab": {}
      },
      "source": [
        ""
      ],
      "execution_count": 0,
      "outputs": []
    },
    {
      "cell_type": "code",
      "metadata": {
        "id": "T2KmBSr6v0XY",
        "colab_type": "code",
        "colab": {}
      },
      "source": [
        ""
      ],
      "execution_count": 0,
      "outputs": []
    },
    {
      "cell_type": "markdown",
      "metadata": {
        "id": "CMXwbSUfvzy4",
        "colab_type": "text"
      },
      "source": [
        "## Fine-Tuning Neural Network Hyperparameters\n",
        "p.342"
      ]
    },
    {
      "cell_type": "markdown",
      "metadata": {
        "id": "L29laYnjxHxH",
        "colab_type": "text"
      },
      "source": [
        "The flexibility of neural networks is also one of their main drawbacks: there are many\n",
        "hyperparameters to tweak.  How do you know what combination of hyperpara‐\n",
        "meters is the best for your task?\n",
        "One option is to simply try many combinations of hyperparameters and see which\n",
        "one works best on the validation set (or using K-fold cross-validation).\n",
        "For this, one approach is simply use **GridSearchCV** or **RandomizedSearchCV** to explore the hyper‐\n",
        "parameter space. "
      ]
    },
    {
      "cell_type": "markdown",
      "metadata": {
        "id": "LcjSB7jqxc8D",
        "colab_type": "text"
      },
      "source": [
        "For this, we need to wrap our Keras models in objects that mimic regular Scikit-Learn regressors. \n",
        "</br>The first step is to create a function that will build and compile a Keras model, given a set of hyperparameters:"
      ]
    },
    {
      "cell_type": "code",
      "metadata": {
        "id": "pck-Az9Mv2p0",
        "colab_type": "code",
        "colab": {}
      },
      "source": [
        "def build_model(n_hidden=1, n_neurons=30, learning_rate=3e-3, input_shape=[8]):\n",
        "  model = keras.models.Sequential()\n",
        "  options = {'input_shape': input_shape} # The options dict is used to ensure that the first layer is properly given the input shape\n",
        "  for layers in range(n_hidden):\n",
        "    model.add(keras.layers.Dense(n_neurons, activation='relu', **options))\n",
        "    options={}\n",
        "  model.add(keras.layers.Dense(1, **options))\n",
        "  optimizer = keras.optimizers.SGD(learning_rate)\n",
        "  model.compile(loss='mse', optimizer=optimizer)\n",
        "  return model\n",
        "  "
      ],
      "execution_count": 0,
      "outputs": []
    },
    {
      "cell_type": "markdown",
      "metadata": {
        "id": "d3e3yT-lD5cX",
        "colab_type": "text"
      },
      "source": [
        "Next, let’s create a KerasRegressor based on this build_model() function:\n",
        "<br/>The KerasRegressor object is a thin wrapper around the Keras model built using\n",
        "build_model(). "
      ]
    },
    {
      "cell_type": "code",
      "metadata": {
        "id": "6PeQnC0iDuLh",
        "colab_type": "code",
        "colab": {}
      },
      "source": [
        "keras_reg = keras.wrappers.scikit_learn.KerasRegressor(build_model)"
      ],
      "execution_count": 0,
      "outputs": []
    },
    {
      "cell_type": "markdown",
      "metadata": {
        "id": "ZtrteuEPGptt",
        "colab_type": "text"
      },
      "source": [
        " it will just use the default hyperparameters we defined in build_model(). "
      ]
    },
    {
      "cell_type": "code",
      "metadata": {
        "id": "y9CFJN0ZERk-",
        "colab_type": "code",
        "colab": {
          "base_uri": "https://localhost:8080/",
          "height": 386
        },
        "outputId": "f915cc17-8ac8-490f-8cba-1608b4cdf840"
      },
      "source": [
        "keras_reg.fit(X_train_scaled, y_train, epochs=10,\n",
        "              validation_data=(X_valid_scaled, y_valid),\n",
        "              callbacks=[keras.callbacks.EarlyStopping(patience=10)])\n",
        "mse_test = keras_reg.score(X_test_scaled, y_test)\n"
      ],
      "execution_count": 65,
      "outputs": [
        {
          "output_type": "stream",
          "text": [
            "Train on 11610 samples, validate on 3870 samples\n",
            "Epoch 1/10\n",
            "11610/11610 [==============================] - 1s 79us/sample - loss: 1.2247 - val_loss: 0.7009\n",
            "Epoch 2/10\n",
            "11610/11610 [==============================] - 1s 43us/sample - loss: 0.6399 - val_loss: 0.5999\n",
            "Epoch 3/10\n",
            "11610/11610 [==============================] - 1s 45us/sample - loss: 0.5742 - val_loss: 0.5514\n",
            "Epoch 4/10\n",
            "11610/11610 [==============================] - 1s 43us/sample - loss: 0.5389 - val_loss: 0.5191\n",
            "Epoch 5/10\n",
            "11610/11610 [==============================] - 1s 43us/sample - loss: 0.5297 - val_loss: 0.5050\n",
            "Epoch 6/10\n",
            "11610/11610 [==============================] - 1s 44us/sample - loss: 0.5021 - val_loss: 0.4866\n",
            "Epoch 7/10\n",
            "11610/11610 [==============================] - 1s 45us/sample - loss: 0.4915 - val_loss: 0.4767\n",
            "Epoch 8/10\n",
            "11610/11610 [==============================] - 1s 45us/sample - loss: 0.4830 - val_loss: 0.4690\n",
            "Epoch 9/10\n",
            "11610/11610 [==============================] - 0s 43us/sample - loss: 0.4774 - val_loss: 0.4627\n",
            "Epoch 10/10\n",
            "11610/11610 [==============================] - 1s 43us/sample - loss: 0.4725 - val_loss: 0.4564\n",
            "5160/5160 [==============================] - 0s 23us/sample - loss: 0.4653\n"
          ],
          "name": "stdout"
        }
      ]
    },
    {
      "cell_type": "code",
      "metadata": {
        "id": "a7ygnX7EHTkV",
        "colab_type": "code",
        "colab": {
          "base_uri": "https://localhost:8080/",
          "height": 34
        },
        "outputId": "958dd1e5-304d-48f2-8dbf-8a3cd8399acd"
      },
      "source": [
        "X_new = X_test_scaled[:3]\n",
        "y_pred = keras_reg.predict(X_new)\n",
        "y_pred"
      ],
      "execution_count": 66,
      "outputs": [
        {
          "output_type": "execute_result",
          "data": {
            "text/plain": [
              "array([1.1040471 , 0.98380256, 3.876338  ], dtype=float32)"
            ]
          },
          "metadata": {
            "tags": []
          },
          "execution_count": 66
        }
      ]
    },
    {
      "cell_type": "markdown",
      "metadata": {
        "id": "JAK4OrmHJHqU",
        "colab_type": "text"
      },
      "source": [
        "we want to train hundreds of variants and see which one performs best on the validation\n",
        "set. \n",
        "<br/>Since there are many hyperparameters, it is preferable to use a randomized search\n",
        "rather than grid search"
      ]
    },
    {
      "cell_type": "code",
      "metadata": {
        "id": "1-jadRTKI5gz",
        "colab_type": "code",
        "colab": {}
      },
      "source": [
        "from scipy.stats import reciprocal\n",
        "from sklearn.model_selection import RandomizedSearchCV"
      ],
      "execution_count": 0,
      "outputs": []
    },
    {
      "cell_type": "code",
      "metadata": {
        "id": "MAYaNmWyJjMf",
        "colab_type": "code",
        "colab": {}
      },
      "source": [
        "param_distribs = {\n",
        "    \"n_hidden\":[0,1,2,3],\n",
        "    \"n_neurons\":np.arange(1,100),\n",
        "    \"learning_rate\":reciprocal(3e-4, 3e-2),\n",
        "}"
      ],
      "execution_count": 0,
      "outputs": []
    },
    {
      "cell_type": "code",
      "metadata": {
        "id": "JAK7KL6UKvlA",
        "colab_type": "code",
        "colab": {}
      },
      "source": [
        "rnd_search_cv = RandomizedSearchCV(keras_reg, param_distribs, n_iter=10, cv=3)\n",
        "rnd_search_cv.fit(X_train_scaled, y_train, epochs=30,\n",
        "                  validation_data=(X_valid_scaled, y_valid),\n",
        "                  callbacks=keras.callbacks.EarlyStopping(patience=10))"
      ],
      "execution_count": 0,
      "outputs": []
    }
  ]
}