{
  "nbformat": 4,
  "nbformat_minor": 0,
  "metadata": {
    "colab": {
      "name": "Course 1. Time Series Analysis in Python",
      "provenance": [],
      "collapsed_sections": [],
      "authorship_tag": "ABX9TyPhFVaYLXSqK0CyEVuAgjBd",
      "include_colab_link": true
    },
    "kernelspec": {
      "name": "python3",
      "display_name": "Python 3"
    }
  },
  "cells": [
    {
      "cell_type": "markdown",
      "metadata": {
        "id": "view-in-github",
        "colab_type": "text"
      },
      "source": [
        "<a href=\"https://colab.research.google.com/github/RocioLiu/ML_Resources/blob/master/Course_1_Time_Series_Analysis_in_Python.ipynb\" target=\"_parent\"><img src=\"https://colab.research.google.com/assets/colab-badge.svg\" alt=\"Open In Colab\"/></a>"
      ]
    },
    {
      "cell_type": "markdown",
      "metadata": {
        "id": "JyTy9evLtCFW",
        "colab_type": "text"
      },
      "source": [
        "# **DataCamp SKILL TRACK: Time Series with Python**"
      ]
    },
    {
      "cell_type": "markdown",
      "metadata": {
        "id": "EoP4o5uKtHXo",
        "colab_type": "text"
      },
      "source": [
        "## **Course 1. Time Series Analysis in Python**"
      ]
    },
    {
      "cell_type": "markdown",
      "metadata": {
        "id": "hXw4g76i15zL",
        "colab_type": "text"
      },
      "source": [
        "### **Section 1. Correlation and Autocorrelation**"
      ]
    },
    {
      "cell_type": "markdown",
      "metadata": {
        "id": "IlVgn2vDvFEP",
        "colab_type": "text"
      },
      "source": [
        "Google Trends allows users to see how often a term is searched for. We downloaded a file from Google Trends containing the frequency over time for the search word \"diet\", which is pre-loaded in a DataFrame called `diet`. A first step when analyzing a time series is to visualize the data with a plot.   \n",
        "  \n",
        "Like many time series datasets , the index of dates are strings and should be **converted to a datetime index** before plotting."
      ]
    },
    {
      "cell_type": "code",
      "metadata": {
        "id": "DksbWedoSkOg",
        "colab_type": "code",
        "colab": {}
      },
      "source": [
        "# Import pandas and plotting modules\n",
        "import pandas as pd\n",
        "import matplotlib.pyplot as plt\n",
        "\n",
        "# Convert the date index to datetime\n",
        "diet.index = pd.to_datetime(diet.index)"
      ],
      "execution_count": 0,
      "outputs": []
    },
    {
      "cell_type": "code",
      "metadata": {
        "id": "4QP947FpvVvW",
        "colab_type": "code",
        "colab": {}
      },
      "source": [
        "# Plot the entire time series diet and show gridlines\n",
        "diet.plot(grid=True)\n",
        "plt.show()"
      ],
      "execution_count": 0,
      "outputs": []
    },
    {
      "cell_type": "markdown",
      "metadata": {
        "id": "WcphHMiYxZXv",
        "colab_type": "text"
      },
      "source": [
        ""
      ]
    },
    {
      "cell_type": "code",
      "metadata": {
        "id": "6FTb3DXkxToo",
        "colab_type": "code",
        "colab": {}
      },
      "source": [
        "# Slice the dataset to keep only 2012\n",
        "diet2012 = diet['2012']\n",
        "\n",
        "# Plot 2012 data\n",
        "diet2012.plot(grid=True)\n",
        "plt.show()"
      ],
      "execution_count": 0,
      "outputs": []
    },
    {
      "cell_type": "markdown",
      "metadata": {
        "id": "zYKFzV4IzlEa",
        "colab_type": "text"
      },
      "source": [
        ""
      ]
    },
    {
      "cell_type": "markdown",
      "metadata": {
        "id": "vr_x90jo0s0y",
        "colab_type": "text"
      },
      "source": [
        "#### **Merging Time Series With Different Dates**\n",
        "Stock and bond markets in the U.S. are closed on different days. One way to see the dates that the stock market is open and the bond market is closed is to convert both indexes of dates into sets and take the difference in sets.  \n",
        "   \n",
        "Merge the two DataFrames into a new DataFrame, stocks_and_bonds using the `.join()` method, which has the syntax `df1.join(df2)`.\n",
        "To get the intersection of dates, use the argument `how='inner'`. \n",
        "  \n",
        "Stock prices and 10-year US Government bond yields, which were downloaded from FRED, are pre-loaded in DataFrames `stocks` and `bonds`."
      ]
    },
    {
      "cell_type": "code",
      "metadata": {
        "id": "jhcmQ4whxP9E",
        "colab_type": "code",
        "colab": {}
      },
      "source": [
        "# Import pandas\n",
        "import pandas as pd\n",
        "\n",
        "# Convert the stock index and bond index into sets\n",
        "set_stock_dates = set(stocks.index)\n",
        "set_bond_dates = set(bonds.index)\n",
        "\n",
        "# Take the difference between the sets and print\n",
        "print(set_stock_dates - set_bond_dates)\n",
        "\n",
        "# Merge stocks and bonds DataFrames using join()\n",
        "stocks_and_bonds = stocks.join(bonds, how='inner')\n",
        "\n",
        "# {'2013-11-11', '2007-11-12', '2015-11-11', '2009-11-11', '2007-10-08', \n",
        "# '2010-11-11', '2008-11-11', '2012-11-12', '2011-10-10', '2012-10-08', \n",
        "# '2016-11-11', '2016-10-10', '2011-11-11', '2014-11-11', '2015-10-12', \n",
        "# '2014-10-13', '2017-06-09', '2013-10-14', '2009-10-12', '2010-10-11', '2008-10-13'}"
      ],
      "execution_count": 0,
      "outputs": []
    },
    {
      "cell_type": "markdown",
      "metadata": {
        "id": "HbmeXMCx41YS",
        "colab_type": "text"
      },
      "source": [
        ""
      ]
    },
    {
      "cell_type": "markdown",
      "metadata": {
        "id": "xlyI7fKr42Bd",
        "colab_type": "text"
      },
      "source": [
        "#### **Correlation of Stocks and Bonds**\n",
        "Investors are often interested in the correlation between the returns of two different assets for asset allocation and hedging purposes.  \n",
        "  \n",
        "Keep in mind that you should compute the correlations on the percentage changes rather than the levels.  \n",
        "Compute percent changes of DataFrame with the `.pct_change()` method.  \n",
        "Using the `.corr()` method for Series which has the syntax `series1.corr(series2)`.\n",
        "\n",
        "Stock prices and 10-year bond yields are combined in a DataFrame called `stocks_and_bonds` under columns `SP500` and `US10Y`"
      ]
    },
    {
      "cell_type": "code",
      "metadata": {
        "id": "RNDKzXVU1snr",
        "colab_type": "code",
        "colab": {}
      },
      "source": [
        "# Compute percent change using pct_change()\n",
        "returns = stocks_and_bonds.pct_change()\n",
        "\n",
        "# Compute correlation using corr()\n",
        "correlation = returns['SP500'].corr(returns['US10Y'])\n",
        "print(\"Correlation of stocks and interest rates: \", correlation)\n",
        "\n",
        "# Make scatter plot\n",
        "plt.scatter(x=returns['SP500'], y=returns['US10Y'])\n",
        "plt.show()"
      ],
      "execution_count": 0,
      "outputs": []
    },
    {
      "cell_type": "markdown",
      "metadata": {
        "id": "qgNIlicvqtVS",
        "colab_type": "text"
      },
      "source": [
        "#### **Flying Saucers Aren't Correlated to Flying Markets**\n",
        "Two trending series may show a strong correlation even if they are completely unrelated. This is referred to as \"spurious correlation\". That's why when you look at the correlation of say, two stocks, you should look at the correlation of their *returns* and not their *levels*.\n",
        "\n",
        "To illustrate this point, calculate the correlation between the levels of the stock market and the annual sightings of UFOs. Both of those time series have trended up over the last several decades, and the correlation of their levels is very high. But the correlation of their percent changes will be close to zero, since there is no relationship between those two series.\n",
        "\n",
        "The DataFrame `levels` contains the levels of `DJI` and `UFO`. UFO data was downloaded from www.nuforc.org.\n"
      ]
    },
    {
      "cell_type": "code",
      "metadata": {
        "id": "XN9GgplkrFZ0",
        "colab_type": "code",
        "colab": {}
      },
      "source": [
        "# Compute correlation of levels\n",
        "correlation1 = levels['DJI'].corr(levels['UFO'])\n",
        "print(\"Correlation of levels: \", correlation1)\n",
        "\n",
        "# Compute correlation of percent changes\n",
        "changes = levels.pct_change()\n",
        "correlation2 = changes['DJI'].corr(changes['UFO'])\n",
        "print(\"Correlation of changes: \", correlation2)\n",
        "\n",
        "# Correlation of levels:  0.9399762210726432\n",
        "# Correlation of changes:  0.06026935462405376"
      ],
      "execution_count": 0,
      "outputs": []
    },
    {
      "cell_type": "markdown",
      "metadata": {
        "id": "pvSbheuQt8wQ",
        "colab_type": "text"
      },
      "source": [
        "#### **Regression's R-Squared**\n",
        "R-squared measures how closely the data fit the regression line. In particular, the magnitude of the correlation is the square root of the R-squared and the sign of the correlation is the sign of the regression coefficient.\n",
        "\n",
        "In this exercise, you will start using the statistical package `statsmodels`, which performs much of the statistical modeling and testing that is found in R.\n",
        "\n",
        "You will take two series, `x` and `y`, compute their correlation, and then regress `y` on `x` using the function `OLS(y,x)` in the `statsmodels.api` library (note that the dependent, or right-hand side variable y is the first argument). Most linear regressions contain a constant term which is the intercept (the `α` in the regression *yt = α + βxt + ϵt*). To include a constant using the function `OLS()`, you need to add a column of 1's to the right hand side of the regression.\n",
        "\n",
        "The module `statsmodels.api` has been imported for you as `sm`."
      ]
    },
    {
      "cell_type": "code",
      "metadata": {
        "id": "XzpDoTvKvmYc",
        "colab_type": "code",
        "colab": {}
      },
      "source": [
        "# Import the statsmodels module\n",
        "import statsmodels.api as sm\n",
        "\n",
        "# Compute correlation of x and y\n",
        "correlation = x.corr(y)\n",
        "print(\"The correlation between x and y is %4.2f\" %(correlation))\n",
        "\n",
        "# Convert the Series x to a DataFrame and name the column x\n",
        "dfx = pd.DataFrame(x, columns=['x'])\n",
        "\n",
        "# Add a constant to the DataFrame dfx\n",
        "dfx1 = sm.add_constant(dfx)\n",
        "\n",
        "# Regress y on dfx1\n",
        "result = sm.OLS(y, dfx1).fit()\n",
        "\n",
        "# Print out the results and look at the relationship between R-squared and the correlation above\n",
        "print(result.summary())"
      ],
      "execution_count": 0,
      "outputs": []
    },
    {
      "cell_type": "markdown",
      "metadata": {
        "id": "DQ3sCegcwv7B",
        "colab_type": "text"
      },
      "source": [
        "#### **A Popular Strategy Using Autocorrelation**\n",
        "One puzzling anomaly with stocks is that investors tend to overreact to news. Following large jumps, either up or down, stock prices tend to reverse. This is described as mean reversion in stock prices: prices tend to bounce back, or revert, towards previous levels after large moves, which are observed over time horizons of about a week. A more mathematical way to describe mean reversion is to say that stock returns are negatively autocorrelated.\n",
        "\n",
        "This simple idea is actually the basis for a popular hedge fund strategy. If you're curious to learn more about this hedge fund strategy (although it's not necessary reading for anything else later in the course), see [here](https://www.quantopian.com/posts/enhancing-short-term-mean-reversion-strategies-1).\n",
        "\n",
        "You'll look at the autocorrelation of weekly returns of MSFT stock from 2012 to 2017. You'll start with a DataFrame `MSFT` of daily prices. You should use the `.resample()` method to get weekly prices and then compute returns from prices. Use the pandas method `.autocorr()` to get the autocorrelation and show that the autocorrelation is negative. Note that the `.autocorr()` method only works on Series, not DataFrames (even DataFrames with one column), so you will have to select the column in the DataFrame."
      ]
    },
    {
      "cell_type": "markdown",
      "metadata": {
        "id": "EGeOqqxTxqLB",
        "colab_type": "text"
      },
      "source": [
        "Istrctions:  \n",
        "* Use the `.resample()` method with `rule='W'` and `how='last'` to convert daily data to weekly data.\n",
        "  * The argument how in `.resample()` has been deprecated.\n",
        "  * The new syntax .`resample().last()` also works.  \n",
        "* Create a new DataFrame, `returns`, of percent changes in weekly prices using the `.pct_change()` method.\n",
        "* Compute the autocorrelation using the `.autocorr()` method on the series of closing stock prices, which is the column `'Adj Close'` in the DataFrame `returns`."
      ]
    },
    {
      "cell_type": "code",
      "metadata": {
        "id": "q10h4zkQjGN1",
        "colab_type": "code",
        "colab": {}
      },
      "source": [
        "# Convert the daily data to weekly data\n",
        "MSFT = MSFT.resample(rule='W', how='last')\n",
        "\n",
        "# Compute the percentage change of prices\n",
        "returns = MSFT.pct_change()\n",
        "\n",
        "# Compute and print the autocorrelation of returns\n",
        "autocorrelation = returns['Adj Close'].autocorr()\n",
        "print(\"The autocorrelation of weekly returns is %4.2f\" %(autocorrelation))"
      ],
      "execution_count": 0,
      "outputs": []
    },
    {
      "cell_type": "markdown",
      "metadata": {
        "id": "aASLP4Alznnb",
        "colab_type": "text"
      },
      "source": [
        "#### Are Interest Rates Autocorrelated?\n",
        "When you look at daily changes in interest rates, the autocorrelation is close to zero. However, if you resample the data and look at annual changes, the autocorrelation is negative. This implies that while short term changes in interest rates may be uncorrelated, long term changes in interest rates are negatively autocorrelated. A daily move up or down in interest rates is unlikely to tell you anything about interest rates tomorrow, but a move in interest rates over a year can tell you something about where interest rates are going over the next year. And this makes some economic sense: over long horizons, when interest rates go up, the economy tends to slow down, which consequently causes interest rates to fall, and vice versa.\n",
        "\n",
        "The DataFrame `daily_rates` contains daily data of 10-year interest rates from 1962 to 2017."
      ]
    },
    {
      "cell_type": "markdown",
      "metadata": {
        "id": "uSuLtnNIVr12",
        "colab_type": "text"
      },
      "source": [
        "* Create a new DataFrame, `daily_diff`, of changes in daily rates using the `.diff()` method.\n",
        "* Compute the autocorrelation of the column `'US10Y'` in `daily_diff` using the `.autocorr()` method.\n",
        "* Use the `.resample()` method with arguments `rule='A'` to convert to annual frequency and `how='last'`.\n",
        "  * The argument `how` in `.resample()` has been deprecated.\n",
        "  * The new syntax `.resample().last()` also works.\n",
        "* Create a new DataFrame, `yearly_diff` of changes in annual rates and compute the autocorrelation, as above."
      ]
    },
    {
      "cell_type": "code",
      "metadata": {
        "id": "64HS6tFlzpu9",
        "colab_type": "code",
        "colab": {}
      },
      "source": [
        "# Compute the daily change in interest rates \n",
        "daily_diff = daily_rates.diff()\n",
        "\n",
        "# Compute and print the autocorrelation of daily changes\n",
        "autocorrelation_daily = daily_diff['US10Y'].autocorr()\n",
        "print(\"The autocorrelation of daily interest rate changes is %4.2f\" %(autocorrelation_daily))\n",
        "\n",
        "# Convert the daily data to annual data\n",
        "yearly_rates = daily_rates.resample(rule='A').last()\n",
        "\n",
        "# Repeat above for annual data\n",
        "yearly_diff = yearly_rates.diff()\n",
        "autocorrelation_yearly = yearly_diff['US10Y'].autocorr()\n",
        "print(\"The autocorrelation of annual interest rate changes is %4.2f\" %(autocorrelation_yearly))"
      ],
      "execution_count": 0,
      "outputs": []
    },
    {
      "cell_type": "markdown",
      "metadata": {
        "id": "vVmPvUXKWFu3",
        "colab_type": "text"
      },
      "source": [
        "### **Section 2. Some Simple Time Series** "
      ]
    },
    {
      "cell_type": "markdown",
      "metadata": {
        "id": "O2FxOrR1qlH-",
        "colab_type": "text"
      },
      "source": [
        "#### **Taxing Exercise: Compute the ACF**\n",
        "You will compute the array of autocorrelations for the H&R Block quarterly earnings that is pre-loaded in the DataFrame `HRB`. Then, plot the autocorrelation function using the `plot_acf` module. This plot shows what the autocorrelation function looks like for cyclical earnings data. The ACF at `lag=0` is always one, of course. In the next exercise, you will learn about the confidence interval for the ACF, but for now, suppress the confidence interval by setting `alpha=1`."
      ]
    },
    {
      "cell_type": "markdown",
      "metadata": {
        "id": "9MUjmbYSq7wq",
        "colab_type": "text"
      },
      "source": [
        "Istrctions:  \n",
        "* Import the acf module and `plot_acf` module from `statsmodels`.\n",
        "* Compute the array of autocorrelations of the quarterly earnings data in DataFrame `HRB`.\n",
        "* Plot the autocorrelation function of the quarterly earnings data in `HRB`, and pass the argument `alpha=1` to suppress the confidence interval."
      ]
    },
    {
      "cell_type": "code",
      "metadata": {
        "id": "OH1TgpROqkkx",
        "colab_type": "code",
        "colab": {}
      },
      "source": [
        "# Import the acf module and the plot_acf module from statsmodels\n",
        "from statsmodels.tsa.stattools import acf\n",
        "from statsmodels.graphics.tsaplots import plot_acf\n",
        "\n",
        "# Compute the acf array of HRB\n",
        "acf_array = acf(HRB)\n",
        "print(acf_array)\n",
        "\n",
        "# Plot the acf function\n",
        "plot_acf(HRB)\n",
        "plt.show()"
      ],
      "execution_count": 0,
      "outputs": []
    },
    {
      "cell_type": "markdown",
      "metadata": {
        "id": "d4mnP1PgttZV",
        "colab_type": "text"
      },
      "source": [
        "![1](https://drive.google.com/uc?id=1V0tJAmczpaU_BQzmIh3so6oHklfStITh)\n",
        "\n",
        "![2](https://drive.google.com/uc?id=18n_4D2pGG8xSSLeNWP79Wdf1JZ4ETFJe)\n",
        "    \n",
        "\n",
        "Notice the strong positive autocorrelation at lags 4, 8, 12, 16,20, ...\n"
      ]
    },
    {
      "cell_type": "markdown",
      "metadata": {
        "id": "YAkvxnaF4kMu",
        "colab_type": "text"
      },
      "source": [
        "#### **Are We Confident This Stock is Mean Reverting?**\n",
        "In the last chapter, you saw that the autocorrelation of MSFT's weekly stock returns was -0.16. That autocorrelation seems large, but is it statistically significant? In other words, can you say that there is less than a 5% chance that we would observe such a large negative autocorrelation if the true autocorrelation were really zero? And are there any autocorrelations at other lags that are significantly different from zero?\n",
        "  \n",
        "Even if the true autocorrelations were zero at all lags, in a finite sample of returns you won't see the estimate of the autocorrelations exactly zero. In fact, the standard deviation of the sample autocorrelation is 1/sqrt(N) where N is the number of observations, so if N=100, for example, the standard deviation of the ACF is 0.1, and since 95% of a normal curve is between +1.96 and -1.96 standard deviations from the mean, the 95% confidence interval is ±1.96/sqrt(N). This approximation only holds when the true autocorrelations are all zero.\n",
        "  \n",
        "You will compute the actual and approximate confidence interval for the ACF, and compare it to the lag-one autocorrelation of -0.16 from the last chapter. The weekly returns of Microsoft is pre-loaded in a DataFrame called `returns`."
      ]
    },
    {
      "cell_type": "markdown",
      "metadata": {
        "id": "8QsO0yJy4zlj",
        "colab_type": "text"
      },
      "source": [
        "Instructions:  \n",
        "* Recompute the autocorrelation of weekly returns in the Series `'Adj Close'` in the `returns` DataFrame.\n",
        "* Find the number of observations in the returns DataFrame using the `len()` function.\n",
        "* Approximate the 95% confidence interval of the estimated autocorrelation. The math function `sqrt()` has been imported and can be used.\n",
        "* Plot the autocorrelation function of `returns` using `plot_acf` that was imported from `statsmodels`. Set `alpha=0.05` for the confidence intervals (that's the default) and `lags=20`."
      ]
    },
    {
      "cell_type": "code",
      "metadata": {
        "id": "TbvE-2qH5Lsc",
        "colab_type": "code",
        "colab": {}
      },
      "source": [
        "# Import the plot_acf module from statsmodels and sqrt from math\n",
        "from statsmodels.graphics.tsaplots import plot_acf\n",
        "from math import sqrt\n",
        "\n",
        "# Compute and print the autocorrelation of MSFT weekly returns\n",
        "autocorrelation = returns['Adj Close'].autocorr()\n",
        "print(\"The autocorrelation of weekly MSFT returns is %4.2f\" %(autocorrelation))\n",
        "\n",
        "# Find the number of observations by taking the length of the returns DataFrame\n",
        "nobs = len(returns)\n",
        "\n",
        "# Compute the approximate confidence interval\n",
        "conf = 1.96/sqrt(nobs)\n",
        "print(\"The approximate confidence interval is +/- %4.2f\" %(conf))\n",
        "\n",
        "# Plot the autocorrelation function with 95% confidence intervals and 20 lags using plot_acf\n",
        "plot_acf(returns, alpha=0.05, lags=20)\n",
        "plt.show()"
      ],
      "execution_count": 0,
      "outputs": []
    },
    {
      "cell_type": "markdown",
      "metadata": {
        "id": "wZ-Ty3PP5OWw",
        "colab_type": "text"
      },
      "source": [
        "![](https://drive.google.com/uc?id=13Dtyx2uxSx6GSXqkM9UPdb8nxR-peii_)\n",
        "   \n",
        "Notice that the autocorrelation with lag 1 is significantly negative, but none of the other lags are significantly different from zero"
      ]
    },
    {
      "cell_type": "markdown",
      "metadata": {
        "id": "_HfHrSgo8X9R",
        "colab_type": "text"
      },
      "source": [
        "#### **Can't Forecast White Noise**\n",
        "A white noise time series is simply a sequence of uncorrelated random variables that are identically distributed. Stock returns are often modeled as white noise. Unfortunately, for white noise, we cannot forecast future observations based on the past - autocorrelations at all lags are zero.\n",
        "\n",
        "You will generate a white noise series and plot the autocorrelation function to show that it is zero for all lags. You can use `np.random.normal()` to generate random returns. For a Gaussian white noise process, the mean and standard deviation describe the entire process."
      ]
    },
    {
      "cell_type": "markdown",
      "metadata": {
        "id": "lv4epxzJ8mVa",
        "colab_type": "text"
      },
      "source": [
        "Instructions:  \n",
        "* Generate 1000 random normal returns using `np.random.normal()` with mean 2% (0.02) and standard deviation 5% (0.05), where the argument for the mean is `loc` and the argument for the standard deviation is `scale`.\n",
        "* Verify the mean and standard deviation of returns using `np.mean()` and `np.std()`.\n",
        "* Plot the time series.\n",
        "* Plot the autocorrelation function using `plot_acf` with `lags=20`."
      ]
    },
    {
      "cell_type": "code",
      "metadata": {
        "id": "5K4y1FE_dXqG",
        "colab_type": "code",
        "colab": {}
      },
      "source": [
        "# Import the plot_acf module from statsmodels\n",
        "from statsmodels.graphics.tsaplots import plot_acf\n",
        "\n",
        "# Simulate white noise returns\n",
        "returns = np.random.normal(loc=0.02, scale=0.05, size=1000)\n",
        "\n",
        "# Print out the mean and standard deviation of returns\n",
        "mean = np.mean(returns)\n",
        "std = np.std(returns)\n",
        "print(\"The mean is %5.3f and the standard deviation is %5.3f\" %(mean,std))\n",
        "\n",
        "# Plot returns series\n",
        "plt.plot(returns)\n",
        "plt.show()\n",
        "\n",
        "# Plot autocorrelation function of white noise returns\n",
        "plot_acf(returns, lags=20)\n",
        "plt.show()"
      ],
      "execution_count": 0,
      "outputs": []
    },
    {
      "cell_type": "markdown",
      "metadata": {
        "id": "9vQGtg5I9Pfu",
        "colab_type": "text"
      },
      "source": [
        "![](https://drive.google.com/uc?id=1sh9D9yrXqmbIuLlgbhNYYI_x6QujVA0c)\n",
        "![](https://drive.google.com/uc?id=1fAMNQInK2MFlLl5P_b344LY0rMm1ay42)\n",
        "  \n",
        "Notice that for a white noise time series, all the autocorrelations are close to zero, so the past will not help you forecast the future."
      ]
    },
    {
      "cell_type": "markdown",
      "metadata": {
        "id": "dgAe8X5h9PuR",
        "colab_type": "text"
      },
      "source": [
        ""
      ]
    },
    {
      "cell_type": "code",
      "metadata": {
        "id": "Ebd3WDhKdYkj",
        "colab_type": "code",
        "colab": {}
      },
      "source": [
        ""
      ],
      "execution_count": 0,
      "outputs": []
    }
  ]
}