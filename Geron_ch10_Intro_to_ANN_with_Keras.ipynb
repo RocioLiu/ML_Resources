{
  "nbformat": 4,
  "nbformat_minor": 0,
  "metadata": {
    "colab": {
      "name": "Geron_ch10 - Intro_to_ANN_with_Keras.ipynb",
      "provenance": [],
      "collapsed_sections": [],
      "include_colab_link": true
    },
    "kernelspec": {
      "name": "python3",
      "display_name": "Python 3"
    }
  },
  "cells": [
    {
      "cell_type": "markdown",
      "metadata": {
        "id": "view-in-github",
        "colab_type": "text"
      },
      "source": [
        "<a href=\"https://colab.research.google.com/github/RocioLiu/ML_Resources/blob/master/Geron_ch10_Intro_to_ANN_with_Keras.ipynb\" target=\"_parent\"><img src=\"https://colab.research.google.com/assets/colab-badge.svg\" alt=\"Open In Colab\"/></a>"
      ]
    },
    {
      "cell_type": "markdown",
      "metadata": {
        "id": "bu-_G-WH6IPK",
        "colab_type": "text"
      },
      "source": [
        "###**The Perceptron**\n",
        "Implement a single-TLU (*threshold logic unit*) network"
      ]
    },
    {
      "cell_type": "code",
      "metadata": {
        "id": "FGQbR_tm5DzY",
        "colab_type": "code",
        "colab": {}
      },
      "source": [
        "import numpy as np\n",
        "from sklearn.datasets import load_iris\n",
        "from sklearn.linear_model import Perceptron"
      ],
      "execution_count": 0,
      "outputs": []
    },
    {
      "cell_type": "code",
      "metadata": {
        "id": "05e6Igxf6gUi",
        "colab_type": "code",
        "outputId": "25ac2e44-a795-4d27-8437-a305b5993b5b",
        "colab": {
          "base_uri": "https://localhost:8080/",
          "height": 170
        }
      },
      "source": [
        "iris = load_iris()\n",
        "print(type(iris.data))\n",
        "print(iris.data.shape)\n",
        "print(type(iris.target))\n",
        "print(iris.target.shape)\n",
        "print(iris.target)"
      ],
      "execution_count": 0,
      "outputs": [
        {
          "output_type": "stream",
          "text": [
            "<class 'numpy.ndarray'>\n",
            "(150, 4)\n",
            "<class 'numpy.ndarray'>\n",
            "(150,)\n",
            "[0 0 0 0 0 0 0 0 0 0 0 0 0 0 0 0 0 0 0 0 0 0 0 0 0 0 0 0 0 0 0 0 0 0 0 0 0\n",
            " 0 0 0 0 0 0 0 0 0 0 0 0 0 1 1 1 1 1 1 1 1 1 1 1 1 1 1 1 1 1 1 1 1 1 1 1 1\n",
            " 1 1 1 1 1 1 1 1 1 1 1 1 1 1 1 1 1 1 1 1 1 1 1 1 1 1 2 2 2 2 2 2 2 2 2 2 2\n",
            " 2 2 2 2 2 2 2 2 2 2 2 2 2 2 2 2 2 2 2 2 2 2 2 2 2 2 2 2 2 2 2 2 2 2 2 2 2\n",
            " 2 2]\n"
          ],
          "name": "stdout"
        }
      ]
    },
    {
      "cell_type": "code",
      "metadata": {
        "id": "Gzf_l4Dq6rzy",
        "colab_type": "code",
        "colab": {}
      },
      "source": [
        "X = iris.data[:, (2,3)] # petal length, petal width\n",
        "y = (iris.target == 0).astype(np.int) #Iris setosa?"
      ],
      "execution_count": 0,
      "outputs": []
    },
    {
      "cell_type": "code",
      "metadata": {
        "id": "GVggKA737sgm",
        "colab_type": "code",
        "outputId": "d07c549a-c71b-4a3f-e238-dc5ffe02b00d",
        "colab": {
          "base_uri": "https://localhost:8080/",
          "height": 85
        }
      },
      "source": [
        "per_clf = Perceptron()\n",
        "per_clf.fit(X, y)"
      ],
      "execution_count": 0,
      "outputs": [
        {
          "output_type": "execute_result",
          "data": {
            "text/plain": [
              "Perceptron(alpha=0.0001, class_weight=None, early_stopping=False, eta0=1.0,\n",
              "           fit_intercept=True, max_iter=1000, n_iter_no_change=5, n_jobs=None,\n",
              "           penalty=None, random_state=0, shuffle=True, tol=0.001,\n",
              "           validation_fraction=0.1, verbose=0, warm_start=False)"
            ]
          },
          "metadata": {
            "tags": []
          },
          "execution_count": 14
        }
      ]
    },
    {
      "cell_type": "code",
      "metadata": {
        "id": "nBbmKwdf7vkM",
        "colab_type": "code",
        "colab": {}
      },
      "source": [
        "y_pred = per_clf.predict([[2, 0.5]])"
      ],
      "execution_count": 0,
      "outputs": []
    },
    {
      "cell_type": "markdown",
      "metadata": {
        "id": "abw87GBhOufn",
        "colab_type": "text"
      },
      "source": [
        "  ## --"
      ]
    },
    {
      "cell_type": "markdown",
      "metadata": {
        "id": "jL9y3JxwLaCY",
        "colab_type": "text"
      },
      "source": [
        "## **Implementing MLPs with Keras**"
      ]
    },
    {
      "cell_type": "markdown",
      "metadata": {
        "id": "czl_jN2pN5Ok",
        "colab_type": "text"
      },
      "source": [
        "### **Installing TensorFlow 2**"
      ]
    },
    {
      "cell_type": "code",
      "metadata": {
        "id": "hjBT5SVx8DlX",
        "colab_type": "code",
        "colab": {}
      },
      "source": [
        "#!pip install --upgrade tensorflow\n",
        "#!pip uninstall tensorflow\n",
        "!pip install tensorflow==2.0.0"
      ],
      "execution_count": 0,
      "outputs": []
    },
    {
      "cell_type": "code",
      "metadata": {
        "id": "nF21tEY3N3pE",
        "colab_type": "code",
        "colab": {}
      },
      "source": [
        "import tensorflow as tf\n",
        "from tensorflow import keras"
      ],
      "execution_count": 0,
      "outputs": []
    },
    {
      "cell_type": "code",
      "metadata": {
        "id": "PQqRhEJJOZbO",
        "colab_type": "code",
        "outputId": "5455d710-f357-465c-c801-6d5886982949",
        "colab": {
          "base_uri": "https://localhost:8080/",
          "height": 51
        }
      },
      "source": [
        "print(tf.__version__)\n",
        "print(keras.__version__)"
      ],
      "execution_count": 0,
      "outputs": [
        {
          "output_type": "stream",
          "text": [
            "2.0.0\n",
            "2.2.4-tf\n"
          ],
          "name": "stdout"
        }
      ]
    },
    {
      "cell_type": "markdown",
      "metadata": {
        "id": "5jiAL9oK7S1L",
        "colab_type": "text"
      },
      "source": [
        "Another way to install TensorFlow :"
      ]
    },
    {
      "cell_type": "code",
      "metadata": {
        "id": "-S30ksI66DXU",
        "colab_type": "code",
        "colab": {}
      },
      "source": [
        "from __future__ import absolute_import, division, print_function, unicode_literals"
      ],
      "execution_count": 0,
      "outputs": []
    },
    {
      "cell_type": "code",
      "metadata": {
        "id": "cf6TIgqH6HP0",
        "colab_type": "code",
        "outputId": "4e5f2720-91d6-44dc-bb33-68dccbe43e96",
        "colab": {
          "base_uri": "https://localhost:8080/",
          "height": 34
        }
      },
      "source": [
        "try:\n",
        "  import tensorflow.compat.v2 as tf\n",
        "except Exception:\n",
        "  pass\n",
        "\n",
        "tf.enable_v2_behavior()\n",
        "\n",
        "print(tf.__version__)"
      ],
      "execution_count": 0,
      "outputs": [
        {
          "output_type": "stream",
          "text": [
            "1.15.0\n"
          ],
          "name": "stdout"
        }
      ]
    },
    {
      "cell_type": "markdown",
      "metadata": {
        "id": "MN5ElTqqO82j",
        "colab_type": "text"
      },
      "source": [
        "### **Building an Image Classifier Using the Sequential API**\n",
        "\n",
        "* #### Using Keras to load the dataset"
      ]
    },
    {
      "cell_type": "code",
      "metadata": {
        "id": "OhzIc3ChOmQ6",
        "colab_type": "code",
        "outputId": "05fd35cb-48aa-49b3-abec-fbc79c1160db",
        "colab": {
          "base_uri": "https://localhost:8080/",
          "height": 153
        }
      },
      "source": [
        "fashion_mnist = keras.datasets.fashion_mnist\n",
        "(X_train_full, y_train_full), (X_test, y_test) = fashion_mnist.load_data()"
      ],
      "execution_count": 0,
      "outputs": [
        {
          "output_type": "stream",
          "text": [
            "Downloading data from https://storage.googleapis.com/tensorflow/tf-keras-datasets/train-labels-idx1-ubyte.gz\n",
            "32768/29515 [=================================] - 0s 0us/step\n",
            "Downloading data from https://storage.googleapis.com/tensorflow/tf-keras-datasets/train-images-idx3-ubyte.gz\n",
            "26427392/26421880 [==============================] - 0s 0us/step\n",
            "Downloading data from https://storage.googleapis.com/tensorflow/tf-keras-datasets/t10k-labels-idx1-ubyte.gz\n",
            "8192/5148 [===============================================] - 0s 0us/step\n",
            "Downloading data from https://storage.googleapis.com/tensorflow/tf-keras-datasets/t10k-images-idx3-ubyte.gz\n",
            "4423680/4422102 [==============================] - 0s 0us/step\n"
          ],
          "name": "stdout"
        }
      ]
    },
    {
      "cell_type": "code",
      "metadata": {
        "id": "1v3L8G5Q4a-Y",
        "colab_type": "code",
        "outputId": "8e7cb188-9e8a-4c7c-ef09-10beb0cb8f1a",
        "colab": {
          "base_uri": "https://localhost:8080/",
          "height": 51
        }
      },
      "source": [
        "print(X_train_full.shape)\n",
        "print(X_train_full.dtype)"
      ],
      "execution_count": 0,
      "outputs": [
        {
          "output_type": "stream",
          "text": [
            "(60000, 28, 28)\n",
            "uint8\n"
          ],
          "name": "stdout"
        }
      ]
    },
    {
      "cell_type": "code",
      "metadata": {
        "id": "2VIb8ibi8AE9",
        "colab_type": "code",
        "colab": {}
      },
      "source": [
        "# The dataset is already split into a training set and test set, but there's no validation set, so we'll create one now.\n",
        "# Additionally, since we're going to train the NN using Gradient Descent, we must scale the input features.\n",
        "X_valid, X_train = X_train_full[:5000] / 255.0, X_train_full[5000:] / 255.0\n",
        "y_valid, y_train = y_train_full[:5000], y_train_full[5000:]"
      ],
      "execution_count": 0,
      "outputs": []
    },
    {
      "cell_type": "code",
      "metadata": {
        "id": "drQt346H9jdM",
        "colab_type": "code",
        "colab": {}
      },
      "source": [
        "# We need a list of class names to know what we are dealing with:\n",
        "class_names = [\"T-shirt/top\", \"Trouser\", \"Pullover\", \"Dress\", \"Coat\", \n",
        "              \"Sandal\", \"Shirt\", \"Sneaker\", \"Bag\", \"Ankle boot\"]"
      ],
      "execution_count": 0,
      "outputs": []
    },
    {
      "cell_type": "code",
      "metadata": {
        "id": "CuzLDguP-Xrw",
        "colab_type": "code",
        "outputId": "bb11f490-8214-4a4e-be46-7d6294195f91",
        "colab": {
          "base_uri": "https://localhost:8080/",
          "height": 34
        }
      },
      "source": [
        "class_names[y_train[0]]"
      ],
      "execution_count": 0,
      "outputs": [
        {
          "output_type": "execute_result",
          "data": {
            "text/plain": [
              "'Coat'"
            ]
          },
          "metadata": {
            "tags": []
          },
          "execution_count": 7
        }
      ]
    },
    {
      "cell_type": "markdown",
      "metadata": {
        "id": "PxnGdm6DZRR4",
        "colab_type": "text"
      },
      "source": [
        "* #### Getting the model using the Sequential API"
      ]
    },
    {
      "cell_type": "code",
      "metadata": {
        "id": "teEl4MBqZQhu",
        "colab_type": "code",
        "colab": {}
      },
      "source": [
        "# Build a classification MLP with two hidden layers\n",
        "model = keras.models.Sequential()\n",
        "model.add(keras.layers.Flatten(input_shape=[28,28]))\n",
        "model.add(keras.layers.Dense(300, activation=\"relu\"))\n",
        "model.add(keras.layers.Dense(100, activation=\"relu\"))\n",
        "model.add(keras.layers.Dense(10, activation=\"softmax\"))"
      ],
      "execution_count": 0,
      "outputs": []
    },
    {
      "cell_type": "code",
      "metadata": {
        "id": "8giQFzIv-dIZ",
        "colab_type": "code",
        "colab": {}
      },
      "source": [
        "# Instead of adding athe layers one by one as we just did, we can pass a list of layers when creating the Sequential model\n",
        "model = keras.models.Sequential([\n",
        "  keras.layers.Flatten(input_shape=[28, 28]),\n",
        "  keras.layers.Dense(300, activation=\"relu\"),\n",
        "  keras.layers.Dense(100, activation=\"relu\"),\n",
        "  keras.layers.Dense(10, activation=\"softmax\")\n",
        "])"
      ],
      "execution_count": 0,
      "outputs": []
    },
    {
      "cell_type": "code",
      "metadata": {
        "id": "4VggafFLiCdT",
        "colab_type": "code",
        "outputId": "726c2c52-c8ee-4351-afb0-36a8b8d00aa7",
        "colab": {
          "base_uri": "https://localhost:8080/",
          "height": 289
        }
      },
      "source": [
        "model.summary()"
      ],
      "execution_count": 0,
      "outputs": [
        {
          "output_type": "stream",
          "text": [
            "Model: \"sequential_1\"\n",
            "_________________________________________________________________\n",
            "Layer (type)                 Output Shape              Param #   \n",
            "=================================================================\n",
            "flatten_1 (Flatten)          (None, 784)               0         \n",
            "_________________________________________________________________\n",
            "dense_3 (Dense)              (None, 300)               235500    \n",
            "_________________________________________________________________\n",
            "dense_4 (Dense)              (None, 100)               30100     \n",
            "_________________________________________________________________\n",
            "dense_5 (Dense)              (None, 10)                1010      \n",
            "=================================================================\n",
            "Total params: 266,610\n",
            "Trainable params: 266,610\n",
            "Non-trainable params: 0\n",
            "_________________________________________________________________\n"
          ],
          "name": "stdout"
        }
      ]
    },
    {
      "cell_type": "code",
      "metadata": {
        "id": "rvPU-Qojiz97",
        "colab_type": "code",
        "outputId": "675c5b07-4c78-49ed-9bec-fdf846a1627c",
        "colab": {
          "base_uri": "https://localhost:8080/",
          "height": 85
        }
      },
      "source": [
        "# Get the model's list of layers\n",
        "model.layers"
      ],
      "execution_count": 0,
      "outputs": [
        {
          "output_type": "execute_result",
          "data": {
            "text/plain": [
              "[<tensorflow.python.keras.layers.core.Flatten at 0x7fb8b7346f98>,\n",
              " <tensorflow.python.keras.layers.core.Dense at 0x7fb8b7346f28>,\n",
              " <tensorflow.python.keras.layers.core.Dense at 0x7fb8b66c6668>,\n",
              " <tensorflow.python.keras.layers.core.Dense at 0x7fb8b66d9710>]"
            ]
          },
          "metadata": {
            "tags": []
          },
          "execution_count": 11
        }
      ]
    },
    {
      "cell_type": "code",
      "metadata": {
        "id": "Ri3_xUgUm62U",
        "colab_type": "code",
        "outputId": "74adbde1-a116-4e60-f845-2c3765b73605",
        "colab": {
          "base_uri": "https://localhost:8080/",
          "height": 34
        }
      },
      "source": [
        "# fetch a layer by its index\n",
        "hidden1 = model.layers[1]\n",
        "hidden1.name"
      ],
      "execution_count": 0,
      "outputs": [
        {
          "output_type": "execute_result",
          "data": {
            "text/plain": [
              "'dense_3'"
            ]
          },
          "metadata": {
            "tags": []
          },
          "execution_count": 12
        }
      ]
    },
    {
      "cell_type": "code",
      "metadata": {
        "id": "yY2GeWz5nLVx",
        "colab_type": "code",
        "outputId": "e4a016f5-2c91-40d3-c029-efa00b901287",
        "colab": {
          "base_uri": "https://localhost:8080/",
          "height": 34
        }
      },
      "source": [
        "# fetch a layer by its name\n",
        "model.get_layer('dense_3') is hidden1"
      ],
      "execution_count": 0,
      "outputs": [
        {
          "output_type": "execute_result",
          "data": {
            "text/plain": [
              "True"
            ]
          },
          "metadata": {
            "tags": []
          },
          "execution_count": 13
        }
      ]
    },
    {
      "cell_type": "code",
      "metadata": {
        "id": "MmRPCsETncs3",
        "colab_type": "code",
        "outputId": "e23af296-3d62-4bd2-b0ab-971873ace55c",
        "colab": {
          "base_uri": "https://localhost:8080/",
          "height": 51
        }
      },
      "source": [
        "# All the parameters of a layer can be accessed using its \"get_weight()\" and \"set_weight()\" methods\n",
        "weights, biases = hidden1.get_weights()\n",
        "#print(weights)\n",
        "print(weights.shape)\n",
        "#print(biases)\n",
        "print(biases.shape)\n",
        "\n",
        "# Notice that the Dense layer initialized the connection weights randomly (which is needed to break symmetry), \n",
        "# and the biases were initialized to 0s)"
      ],
      "execution_count": 0,
      "outputs": [
        {
          "output_type": "stream",
          "text": [
            "(784, 300)\n",
            "(300,)\n"
          ],
          "name": "stdout"
        }
      ]
    },
    {
      "cell_type": "markdown",
      "metadata": {
        "id": "fDcjl5-axihy",
        "colab_type": "text"
      },
      "source": [
        "* #### Compiling the model\n",
        "After a model is created, we must call its `compile()` methos to specify the loss funcion and the optimizer to use.\n",
        "\n",
        "* `sparse_categorical_crossentropy` loss for sparse labels (e.g. 0, 1, ..., 9)\n",
        "\n",
        "* `categorical_crossentropy` loss if one target probability per class (such as one-hot vector)\n",
        "\n",
        "* `binary_crossentropy` loss for binary classification"
      ]
    },
    {
      "cell_type": "code",
      "metadata": {
        "id": "biCRayXun2i9",
        "colab_type": "code",
        "colab": {}
      },
      "source": [
        "model.compile(loss=\"sparse_categorical_crossentropy\",\n",
        "              optimizer=\"sgd\",\n",
        "              metrics=[\"accuracy\"])"
      ],
      "execution_count": 0,
      "outputs": []
    },
    {
      "cell_type": "markdown",
      "metadata": {
        "id": "0pRqzo2W05os",
        "colab_type": "text"
      },
      "source": [
        "* #### Traiing and evaluating the model\n",
        "Now the model is ready to be trained. For this we simply need to call its `fit()` method"
      ]
    },
    {
      "cell_type": "code",
      "metadata": {
        "id": "9-iOzmiAyyxo",
        "colab_type": "code",
        "outputId": "57ce1ff9-684f-45b9-a3db-77118676d6b5",
        "colab": {
          "base_uri": "https://localhost:8080/",
          "height": 1000
        }
      },
      "source": [
        "history = model.fit(X_train, y_train, epochs=30,\n",
        "                    validation_data=(X_valid, y_valid))"
      ],
      "execution_count": 0,
      "outputs": [
        {
          "output_type": "stream",
          "text": [
            "Train on 55000 samples, validate on 5000 samples\n",
            "Epoch 1/30\n",
            "55000/55000 [==============================] - 9s 162us/sample - loss: 0.7267 - accuracy: 0.7634 - val_loss: 0.5525 - val_accuracy: 0.8104\n",
            "Epoch 2/30\n",
            "55000/55000 [==============================] - 7s 127us/sample - loss: 0.4899 - accuracy: 0.8302 - val_loss: 0.4762 - val_accuracy: 0.8330\n",
            "Epoch 3/30\n",
            "55000/55000 [==============================] - 7s 124us/sample - loss: 0.4450 - accuracy: 0.8429 - val_loss: 0.4226 - val_accuracy: 0.8564\n",
            "Epoch 4/30\n",
            "55000/55000 [==============================] - 7s 125us/sample - loss: 0.4172 - accuracy: 0.8531 - val_loss: 0.3958 - val_accuracy: 0.8616\n",
            "Epoch 5/30\n",
            "55000/55000 [==============================] - 7s 126us/sample - loss: 0.3964 - accuracy: 0.8604 - val_loss: 0.3817 - val_accuracy: 0.8668\n",
            "Epoch 6/30\n",
            "55000/55000 [==============================] - 6s 115us/sample - loss: 0.3791 - accuracy: 0.8658 - val_loss: 0.3972 - val_accuracy: 0.8642\n",
            "Epoch 7/30\n",
            "55000/55000 [==============================] - 6s 113us/sample - loss: 0.3663 - accuracy: 0.8699 - val_loss: 0.3656 - val_accuracy: 0.8770\n",
            "Epoch 8/30\n",
            "55000/55000 [==============================] - 6s 117us/sample - loss: 0.3553 - accuracy: 0.8737 - val_loss: 0.3592 - val_accuracy: 0.8744\n",
            "Epoch 9/30\n",
            "55000/55000 [==============================] - 6s 115us/sample - loss: 0.3436 - accuracy: 0.8785 - val_loss: 0.3567 - val_accuracy: 0.8732\n",
            "Epoch 10/30\n",
            "55000/55000 [==============================] - 6s 113us/sample - loss: 0.3345 - accuracy: 0.8810 - val_loss: 0.3511 - val_accuracy: 0.8760\n",
            "Epoch 11/30\n",
            "55000/55000 [==============================] - 6s 114us/sample - loss: 0.3254 - accuracy: 0.8838 - val_loss: 0.3396 - val_accuracy: 0.8822\n",
            "Epoch 12/30\n",
            "55000/55000 [==============================] - 6s 115us/sample - loss: 0.3181 - accuracy: 0.8858 - val_loss: 0.3334 - val_accuracy: 0.8840\n",
            "Epoch 13/30\n",
            "55000/55000 [==============================] - 6s 117us/sample - loss: 0.3106 - accuracy: 0.8874 - val_loss: 0.3242 - val_accuracy: 0.8856\n",
            "Epoch 14/30\n",
            "55000/55000 [==============================] - 6s 115us/sample - loss: 0.3037 - accuracy: 0.8901 - val_loss: 0.3190 - val_accuracy: 0.8882\n",
            "Epoch 15/30\n",
            "55000/55000 [==============================] - 6s 116us/sample - loss: 0.2964 - accuracy: 0.8931 - val_loss: 0.3197 - val_accuracy: 0.8856\n",
            "Epoch 16/30\n",
            "55000/55000 [==============================] - 6s 117us/sample - loss: 0.2911 - accuracy: 0.8951 - val_loss: 0.3144 - val_accuracy: 0.8894\n",
            "Epoch 17/30\n",
            "55000/55000 [==============================] - 6s 116us/sample - loss: 0.2853 - accuracy: 0.8967 - val_loss: 0.3150 - val_accuracy: 0.8858\n",
            "Epoch 18/30\n",
            "55000/55000 [==============================] - 6s 116us/sample - loss: 0.2788 - accuracy: 0.8989 - val_loss: 0.3296 - val_accuracy: 0.8832\n",
            "Epoch 19/30\n",
            "55000/55000 [==============================] - 6s 116us/sample - loss: 0.2753 - accuracy: 0.9008 - val_loss: 0.3135 - val_accuracy: 0.8924\n",
            "Epoch 20/30\n",
            "55000/55000 [==============================] - 6s 117us/sample - loss: 0.2693 - accuracy: 0.9026 - val_loss: 0.3117 - val_accuracy: 0.8876\n",
            "Epoch 21/30\n",
            "55000/55000 [==============================] - 6s 115us/sample - loss: 0.2658 - accuracy: 0.9032 - val_loss: 0.3130 - val_accuracy: 0.8864\n",
            "Epoch 22/30\n",
            "55000/55000 [==============================] - 6s 112us/sample - loss: 0.2600 - accuracy: 0.9058 - val_loss: 0.3064 - val_accuracy: 0.8920\n",
            "Epoch 23/30\n",
            "55000/55000 [==============================] - 6s 115us/sample - loss: 0.2554 - accuracy: 0.9074 - val_loss: 0.2998 - val_accuracy: 0.8930\n",
            "Epoch 24/30\n",
            "55000/55000 [==============================] - 7s 119us/sample - loss: 0.2512 - accuracy: 0.9084 - val_loss: 0.3177 - val_accuracy: 0.8886\n",
            "Epoch 25/30\n",
            "55000/55000 [==============================] - 7s 119us/sample - loss: 0.2476 - accuracy: 0.9108 - val_loss: 0.2988 - val_accuracy: 0.8894\n",
            "Epoch 26/30\n",
            "55000/55000 [==============================] - 7s 120us/sample - loss: 0.2429 - accuracy: 0.9118 - val_loss: 0.3092 - val_accuracy: 0.8928\n",
            "Epoch 27/30\n",
            "55000/55000 [==============================] - 6s 118us/sample - loss: 0.2396 - accuracy: 0.9142 - val_loss: 0.2917 - val_accuracy: 0.8974\n",
            "Epoch 28/30\n",
            "55000/55000 [==============================] - 6s 118us/sample - loss: 0.2338 - accuracy: 0.9160 - val_loss: 0.3222 - val_accuracy: 0.8846\n",
            "Epoch 29/30\n",
            "55000/55000 [==============================] - 7s 120us/sample - loss: 0.2317 - accuracy: 0.9161 - val_loss: 0.3087 - val_accuracy: 0.8902\n",
            "Epoch 30/30\n",
            "55000/55000 [==============================] - 6s 116us/sample - loss: 0.2271 - accuracy: 0.9183 - val_loss: 0.3050 - val_accuracy: 0.8870\n"
          ],
          "name": "stdout"
        }
      ]
    },
    {
      "cell_type": "code",
      "metadata": {
        "id": "7EH2aRV16yLF",
        "colab_type": "code",
        "outputId": "cc86fe64-8103-4d76-bb7b-0d80006ff19f",
        "colab": {
          "base_uri": "https://localhost:8080/",
          "height": 88
        }
      },
      "source": [
        "print(history.params)  # The training parameters\n",
        "print(history.epoch)   # The list of epochs it went through\n",
        "print(history.history) # A dictionary containing the loss and extra metrics it measured at the end of each epoch on the training set \n",
        "                      # and the validation set"
      ],
      "execution_count": 0,
      "outputs": [
        {
          "output_type": "stream",
          "text": [
            "{'batch_size': 32, 'epochs': 30, 'steps': 1719, 'samples': 55000, 'verbose': 0, 'do_validation': True, 'metrics': ['loss', 'accuracy', 'val_loss', 'val_accuracy']}\n",
            "[0, 1, 2, 3, 4, 5, 6, 7, 8, 9, 10, 11, 12, 13, 14, 15, 16, 17, 18, 19, 20, 21, 22, 23, 24, 25, 26, 27, 28, 29]\n",
            "{'loss': [0.7266931029536507, 0.48989510472471065, 0.4450046572555195, 0.41723152974735606, 0.3964259020805359, 0.3790959351669658, 0.36633945042653515, 0.35526355828371914, 0.34355224726850336, 0.33448938221714714, 0.32538537524613464, 0.31809633984132246, 0.31062045509598474, 0.30371643628423867, 0.29643021681308745, 0.2911188094139099, 0.285340710735321, 0.27882462786652823, 0.27530007649768484, 0.2693279897364703, 0.2658248386160894, 0.2599608641321009, 0.25542428789680655, 0.25123820665749635, 0.24760989378907464, 0.2429476567138325, 0.239574140968106, 0.23375835678794168, 0.23170318324024028, 0.227088318956982], 'accuracy': [0.76336366, 0.8302, 0.8428909, 0.8531455, 0.86038184, 0.8658, 0.86985457, 0.87365454, 0.87854546, 0.881, 0.8838364, 0.8858182, 0.8874, 0.8900727, 0.8931091, 0.8951455, 0.89672726, 0.8989091, 0.90076363, 0.9025818, 0.9032364, 0.90581816, 0.9074, 0.9084, 0.9108, 0.91178185, 0.9141818, 0.91596365, 0.9160727, 0.91827273], 'val_loss': [0.5524899405002593, 0.47623634967803957, 0.42260448484420776, 0.39582670793533326, 0.3816555797815323, 0.39720028824806214, 0.3655791795492172, 0.35915736429691314, 0.3567323933839798, 0.3510793168127537, 0.33963897071480753, 0.33340216654539107, 0.32420218724012373, 0.31896171128749845, 0.3197063797235489, 0.31435915165543554, 0.314984840965271, 0.32961917531490326, 0.31349028061032297, 0.31166139010488986, 0.3129631829380989, 0.3064042659431696, 0.2997660553812981, 0.31766551342010496, 0.2987968430638313, 0.30917367906570437, 0.2916600294351578, 0.32219878383874895, 0.308692266190052, 0.3050192006528378], 'val_accuracy': [0.8104, 0.833, 0.8564, 0.8616, 0.8668, 0.8642, 0.877, 0.8744, 0.8732, 0.876, 0.8822, 0.884, 0.8856, 0.8882, 0.8856, 0.8894, 0.8858, 0.8832, 0.8924, 0.8876, 0.8864, 0.892, 0.893, 0.8886, 0.8894, 0.8928, 0.8974, 0.8846, 0.8902, 0.887]}\n"
          ],
          "name": "stdout"
        }
      ]
    },
    {
      "cell_type": "code",
      "metadata": {
        "id": "LriKlO1875fa",
        "colab_type": "code",
        "outputId": "6918e098-26b8-4d90-a05a-6c47452fa3dc",
        "colab": {
          "base_uri": "https://localhost:8080/",
          "height": 341
        }
      },
      "source": [
        "# Create a pandas DataFrame of history.history and plot it\n",
        "import pandas as pd\n",
        "import matplotlib.pyplot as plt\n",
        "\n",
        "pd.DataFrame(history.history).plot(figsize=(8, 5))\n",
        "plt.grid(True)\n",
        "plt.gca().set_ylim(0, 1) # set the vertical range to [0 - 1]\n"
      ],
      "execution_count": 0,
      "outputs": [
        {
          "output_type": "execute_result",
          "data": {
            "text/plain": [
              "(0, 1)"
            ]
          },
          "metadata": {
            "tags": []
          },
          "execution_count": 22
        },
        {
          "output_type": "display_data",
          "data": {
            "image/png": "[encoded data removed]",
            "text/plain": [
              "<Figure size 576x360 with 1 Axes>"
            ]
          },
          "metadata": {
            "tags": []
          }
        }
      ]
    },
    {
      "cell_type": "markdown",
      "metadata": {
        "id": "0qJGZzb5CBPm",
        "colab_type": "text"
      },
      "source": [
        "If the validation loss is still going down, we should probably continue training. we can simply call `fit()` mothod again, since Keras just continues training where it left off.\n",
        "\n",
        "If we are not satisfied with the performance of our model, we should go back and tune the hyperparameters. the first one to check is the learning rate. ...\n",
        "\n",
        "Once we are satisfied with our model's validation accuracy, we should evaluate it on the test set to estimate the generalization error before we deploy the model to production."
      ]
    },
    {
      "cell_type": "code",
      "metadata": {
        "id": "XxnyicVj9nM5",
        "colab_type": "code",
        "colab": {}
      },
      "source": [
        "model.evaluate(X_test, y_test)"
      ],
      "execution_count": 0,
      "outputs": []
    },
    {
      "cell_type": "markdown",
      "metadata": {
        "id": "1dy4VZqvEiwp",
        "colab_type": "text"
      },
      "source": [
        "* #### Using the model to make predictions\n",
        "Next, We can use the model's `predict()` method to make predictions on new instances. (Since we don;t have actual new instances, we will just use the first three instances of the test case."
      ]
    },
    {
      "cell_type": "code",
      "metadata": {
        "id": "NoCR8gDy93Cz",
        "colab_type": "code",
        "outputId": "dc4e3fd0-e3ca-4d96-ef34-3d212694961a",
        "colab": {
          "base_uri": "https://localhost:8080/",
          "height": 68
        }
      },
      "source": [
        "X_new = X_test[:3]\n",
        "# For each instance, the model estimates one probability per class, from class 0 to class 9\n",
        "y_proba = model.predict(X_new)\n",
        "y_proba.round(2)"
      ],
      "execution_count": 0,
      "outputs": [
        {
          "output_type": "execute_result",
          "data": {
            "text/plain": [
              "array([[0., 0., 0., 0., 0., 0., 0., 0., 0., 1.],\n",
              "       [0., 0., 1., 0., 0., 0., 0., 0., 0., 0.],\n",
              "       [0., 1., 0., 0., 0., 0., 0., 0., 0., 0.]], dtype=float32)"
            ]
          },
          "metadata": {
            "tags": []
          },
          "execution_count": 32
        }
      ]
    },
    {
      "cell_type": "code",
      "metadata": {
        "id": "j7JezaF5EMCp",
        "colab_type": "code",
        "outputId": "2fb68807-a2d4-4752-a73b-29d17c04cdb4",
        "colab": {
          "base_uri": "https://localhost:8080/",
          "height": 51
        }
      },
      "source": [
        "# If we only care about the class with the highest estimated probability, then we can use the `predict_classes()` method instead.\n",
        "y_pred = model.predict_classes(X_new)\n",
        "print(y_pred)\n",
        "print(np.array(class_names)[y_pred])"
      ],
      "execution_count": 0,
      "outputs": [
        {
          "output_type": "stream",
          "text": [
            "[9 2 1]\n",
            "['Ankle boot' 'Pullover' 'Trouser']\n"
          ],
          "name": "stdout"
        }
      ]
    },
    {
      "cell_type": "code",
      "metadata": {
        "id": "D_w_NEtwGr2J",
        "colab_type": "code",
        "outputId": "bc499cb0-5bed-4538-b9be-8e1bfed732e2",
        "colab": {
          "base_uri": "https://localhost:8080/",
          "height": 34
        }
      },
      "source": [
        "y_new = y_test[:3]\n",
        "y_new"
      ],
      "execution_count": 0,
      "outputs": [
        {
          "output_type": "execute_result",
          "data": {
            "text/plain": [
              "array([9, 2, 1], dtype=uint8)"
            ]
          },
          "metadata": {
            "tags": []
          },
          "execution_count": 43
        }
      ]
    },
    {
      "cell_type": "markdown",
      "metadata": {
        "id": "hM40x7FDHYfM",
        "colab_type": "text"
      },
      "source": [
        "## --\n",
        "\n"
      ]
    },
    {
      "cell_type": "markdown",
      "metadata": {
        "id": "hHuAH28AHhsB",
        "colab_type": "text"
      },
      "source": [
        "### **Building a Regression MLP Using the Sequential API**"
      ]
    },
    {
      "cell_type": "code",
      "metadata": {
        "id": "RKbrvc78G4lo",
        "colab_type": "code",
        "colab": {}
      },
      "source": [
        "from sklearn.datasets import fetch_california_housing\n",
        "from sklearn.model_selection import train_test_split\n",
        "from sklearn.preprocessing import StandardScaler"
      ],
      "execution_count": 0,
      "outputs": []
    },
    {
      "cell_type": "code",
      "metadata": {
        "id": "z_tqlWV3VstM",
        "colab_type": "code",
        "outputId": "77f7c15c-6ea0-413f-a3d3-095669e444c6",
        "colab": {
          "base_uri": "https://localhost:8080/",
          "height": 51
        }
      },
      "source": [
        "housing = fetch_california_housing()\n",
        "type(housing)"
      ],
      "execution_count": 0,
      "outputs": [
        {
          "output_type": "stream",
          "text": [
            "Downloading Cal. housing from https://ndownloader.figshare.com/files/5976036 to /root/scikit_learn_data\n"
          ],
          "name": "stderr"
        },
        {
          "output_type": "execute_result",
          "data": {
            "text/plain": [
              "sklearn.utils.Bunch"
            ]
          },
          "metadata": {
            "tags": []
          },
          "execution_count": 5
        }
      ]
    },
    {
      "cell_type": "code",
      "metadata": {
        "id": "ddzSPHgh1yxZ",
        "colab_type": "code",
        "colab": {}
      },
      "source": [
        "X_train_full, X_test, y_train_full, y_test = train_test_split(housing.data, housing.target)\n",
        "X_train, X_valid, y_train, y_valid = train_test_split(X_train_full, y_train_full)"
      ],
      "execution_count": 0,
      "outputs": []
    },
    {
      "cell_type": "code",
      "metadata": {
        "id": "PyfGeHcY-GtR",
        "colab_type": "code",
        "colab": {}
      },
      "source": [
        "scaler = StandardScaler()\n",
        "\n",
        "X_train = scaler.fit_transform(X_train)\n",
        "X_valid = scaler.transform(X_valid)\n",
        "X_test = scaler.transform(X_test)"
      ],
      "execution_count": 0,
      "outputs": []
    },
    {
      "cell_type": "code",
      "metadata": {
        "id": "AxZBSSjU__Pr",
        "colab_type": "code",
        "outputId": "a6bd347b-047e-45e0-a7f4-681651305d36",
        "colab": {
          "base_uri": "https://localhost:8080/",
          "height": 34
        }
      },
      "source": [
        "print(X_train.shape)"
      ],
      "execution_count": 0,
      "outputs": [
        {
          "output_type": "stream",
          "text": [
            "(11610, 8)\n"
          ],
          "name": "stdout"
        }
      ]
    },
    {
      "cell_type": "code",
      "metadata": {
        "id": "sPZrIjjv_jol",
        "colab_type": "code",
        "colab": {}
      },
      "source": [
        "model = keras.models.Sequential([\n",
        "  keras.layers.Dense(30, activation='relu', input_shape=X_train.shape[1:]),\n",
        "  keras.layers.Dense(1)                                                                 \n",
        "])\n",
        "model.compile(loss='mean_squared_error', optimizer='sgd')\n",
        "history = model.fit(X_train, y_train, epochs=20,\n",
        "                    validation_data=(X_valid, y_valid))\n",
        "mse_test = model.evaluate(X_test, y_test)\n",
        "X_new = X_test[:3]\n",
        "#y_pred = model.predict(X_new)"
      ],
      "execution_count": 0,
      "outputs": []
    },
    {
      "cell_type": "markdown",
      "metadata": {
        "id": "r0ta5tVmDtOH",
        "colab_type": "text"
      },
      "source": [
        "### **Buiding Complex Models Using the Functional API**\n",
        "One example of a nonsequential neural network is a *Wide and Deep* neural network. It connects all or part of the inputs directly to the output layers."
      ]
    },
    {
      "cell_type": "code",
      "metadata": {
        "id": "1qi79YYnDeE0",
        "colab_type": "code",
        "colab": {}
      },
      "source": [
        "input_ = keras.layers.Input(shape=X_train.shape[1:])\n",
        "hidden1 = keras.layers.Dense(30, activation=\"relu\")(input_)\n",
        "hidden2 = keras.layers.Dense(30, activation=\"relu\")(hidden1)\n",
        "concat = keras.layers.Concatenate()([input_, hidden2])\n",
        "output = keras.layers.Dense(1)(concat)\n",
        "model = keras.Model(inputs=[input_], outputs=[output])"
      ],
      "execution_count": 0,
      "outputs": []
    },
    {
      "cell_type": "markdown",
      "metadata": {
        "id": "5Qs5l6lkJ85y",
        "colab_type": "text"
      },
      "source": [
        "But if we want to send a subset of the features through the wide path and a different subset through the deep path? e.g. suppose we want to send 5 features through the wide path and 6 features through the deep path:\n"
      ]
    },
    {
      "cell_type": "code",
      "metadata": {
        "id": "78jTA1TKF7ls",
        "colab_type": "code",
        "colab": {}
      },
      "source": [
        "input_A = keras.layers.Input(shape=[5], name=\"wide_input\")\n",
        "input_B = keras.layers.Input(shape=[6], name=\"Deep_input\")\n",
        "hidden1 = keras.layers.Dense(30, activation=\"relu\")(input_B)\n",
        "hidden2 = keras.layers.Dense(30, activation=\"relu\")(hidden1)\n",
        "concat = keras.layers.concatenate([input_A, hidden2])\n",
        "output = keras.layers.Dense(1, name=\"output\")(concat)\n",
        "model = keras.Model(inputs=[input_A, input_B], outputs=[output])"
      ],
      "execution_count": 0,
      "outputs": []
    },
    {
      "cell_type": "markdown",
      "metadata": {
        "id": "e2mJC0PnNfko",
        "colab_type": "text"
      },
      "source": [
        "When we call the `fit()` method then, we must pass a pair of matrics (X_train_A, X_train_B): one per input. Also for X_valid and X_test when we call `evaluate()` or `predict()`"
      ]
    },
    {
      "cell_type": "code",
      "metadata": {
        "id": "dMBWUCTUM_yk",
        "colab_type": "code",
        "colab": {}
      },
      "source": [
        "model.compile(loss=\"mse\", optimizer=keras.optimizers.SGD(lr=1e-3))\n",
        "\n",
        "X_train_A, X_train_B = X_train[:, :5], X_train[:, 2:]\n",
        "X_valid_A, X_valid_B = X_valid[:, :5], X_valid[:, 2:]\n",
        "X_test_A, X_test_B = X_test[:, :5], X_test[:, 2:]\n",
        "X_new_A, X_new_B = X_test_A[:3], X_test_B[:3]"
      ],
      "execution_count": 0,
      "outputs": []
    },
    {
      "cell_type": "code",
      "metadata": {
        "id": "_WIdGLVnU_-m",
        "colab_type": "code",
        "colab": {}
      },
      "source": [
        "history = model.fit((X_train_A, X_train_B), y_train, epochs=20,\n",
        "                    validation_data=((X_valid_A, X_valid_B), y_valid))\n",
        "mse_test = model.evaluate((X_test_A, X_test_B), y_test)\n",
        "y_pres = model.predict((X_new_A, X_new_B))"
      ],
      "execution_count": 0,
      "outputs": []
    },
    {
      "cell_type": "markdown",
      "metadata": {
        "id": "yKHwK15MdGFN",
        "colab_type": "text"
      },
      "source": [
        "We can handle multiple outputs, below example is to add an auxiliary output for regularization. We add auxiliary outputs in a neural network architecture to ensure that the underlying part of the network learns something useful on its ownm without relying on the rest of the network."
      ]
    },
    {
      "cell_type": "code",
      "metadata": {
        "id": "ezPegXb8VHt1",
        "colab_type": "code",
        "colab": {}
      },
      "source": [
        "# The shallow layers layers are the same as above, up to the main output layer\n",
        "output = keras.layers.Dense(1, name=\"main_output\")(concat)\n",
        "aux_output = keras.layers.Dense(1, name=\"aux_output\")(hidden2)\n",
        "model = keras.Model(inputs=[input_A, input_B], outputs=[output, aux_output])"
      ],
      "execution_count": 0,
      "outputs": []
    },
    {
      "cell_type": "markdown",
      "metadata": {
        "id": "NouzWduVg3j1",
        "colab_type": "text"
      },
      "source": [
        "Each outputs will need its own loss function. Therefore, when we compile the model, we should pass a list of losses (If we pass a single loss, Keras will assume that the same loss must be used for all outputs). By default, Keras will compute  all these losses and simply add them up to get the final loss used for training. We want to guve the main output's loss a much greater weight. "
      ]
    },
    {
      "cell_type": "code",
      "metadata": {
        "id": "UMoseLyNfHhi",
        "colab_type": "code",
        "colab": {}
      },
      "source": [
        "model.compile(loss=[\"mse\", \"mse\"], loss_weights=[0.9, 0.1], optimizer=\"sgd\")"
      ],
      "execution_count": 0,
      "outputs": []
    },
    {
      "cell_type": "markdown",
      "metadata": {
        "id": "hnIn77sTiXFx",
        "colab_type": "text"
      },
      "source": [
        "When we train the model, we need to provide labels for each output."
      ]
    },
    {
      "cell_type": "code",
      "metadata": {
        "id": "y-FIzuZ2iiZV",
        "colab_type": "code",
        "outputId": "e04cb919-3b03-4679-a38d-9fb472c35678",
        "colab": {
          "base_uri": "https://localhost:8080/",
          "height": 734
        }
      },
      "source": [
        "history = model.fit(\n",
        "    [X_train_A, X_train_B], [y_train, y_train], epochs=20,\n",
        "    validation_data=([X_valid_A, X_valid_B], [y_valid, y_valid])\n",
        ")"
      ],
      "execution_count": 0,
      "outputs": [
        {
          "output_type": "stream",
          "text": [
            "Train on 11610 samples, validate on 3870 samples\n",
            "Epoch 1/20\n",
            "11610/11610 [==============================] - 1s 73us/sample - loss: 0.3700 - main_output_loss: 0.3565 - aux_output_loss: 0.4916 - val_loss: 0.3684 - val_main_output_loss: 0.3564 - val_aux_output_loss: 0.4788\n",
            "Epoch 2/20\n",
            "11610/11610 [==============================] - 1s 74us/sample - loss: 0.3642 - main_output_loss: 0.3508 - aux_output_loss: 0.4848 - val_loss: 0.3695 - val_main_output_loss: 0.3588 - val_aux_output_loss: 0.4678\n",
            "Epoch 3/20\n",
            "11610/11610 [==============================] - 1s 74us/sample - loss: 0.3601 - main_output_loss: 0.3471 - aux_output_loss: 0.4756 - val_loss: 0.4033 - val_main_output_loss: 0.3963 - val_aux_output_loss: 0.4675\n",
            "Epoch 4/20\n",
            "11610/11610 [==============================] - 1s 72us/sample - loss: 0.3651 - main_output_loss: 0.3537 - aux_output_loss: 0.4689 - val_loss: 0.4048 - val_main_output_loss: 0.3965 - val_aux_output_loss: 0.4809\n",
            "Epoch 5/20\n",
            "11610/11610 [==============================] - 1s 73us/sample - loss: 0.3547 - main_output_loss: 0.3426 - aux_output_loss: 0.4636 - val_loss: 0.3646 - val_main_output_loss: 0.3546 - val_aux_output_loss: 0.4573\n",
            "Epoch 6/20\n",
            "11610/11610 [==============================] - 1s 80us/sample - loss: 0.3516 - main_output_loss: 0.3397 - aux_output_loss: 0.4588 - val_loss: 0.3662 - val_main_output_loss: 0.3568 - val_aux_output_loss: 0.4526\n",
            "Epoch 7/20\n",
            "11610/11610 [==============================] - 1s 70us/sample - loss: 0.3516 - main_output_loss: 0.3402 - aux_output_loss: 0.4541 - val_loss: 0.3660 - val_main_output_loss: 0.3568 - val_aux_output_loss: 0.4508\n",
            "Epoch 8/20\n",
            "11610/11610 [==============================] - 1s 73us/sample - loss: 0.3500 - main_output_loss: 0.3386 - aux_output_loss: 0.4523 - val_loss: 0.3649 - val_main_output_loss: 0.3559 - val_aux_output_loss: 0.4479\n",
            "Epoch 9/20\n",
            "11610/11610 [==============================] - 1s 79us/sample - loss: 0.3452 - main_output_loss: 0.3340 - aux_output_loss: 0.4452 - val_loss: 0.3784 - val_main_output_loss: 0.3702 - val_aux_output_loss: 0.4542\n",
            "Epoch 10/20\n",
            "11610/11610 [==============================] - 1s 73us/sample - loss: 0.3436 - main_output_loss: 0.3328 - aux_output_loss: 0.4422 - val_loss: 0.3600 - val_main_output_loss: 0.3512 - val_aux_output_loss: 0.4408\n",
            "Epoch 11/20\n",
            "11610/11610 [==============================] - 1s 73us/sample - loss: 0.3420 - main_output_loss: 0.3313 - aux_output_loss: 0.4377 - val_loss: 0.3452 - val_main_output_loss: 0.3354 - val_aux_output_loss: 0.4357\n",
            "Epoch 12/20\n",
            "11610/11610 [==============================] - 1s 72us/sample - loss: 0.3575 - main_output_loss: 0.3480 - aux_output_loss: 0.4422 - val_loss: 0.3724 - val_main_output_loss: 0.3647 - val_aux_output_loss: 0.4426\n",
            "Epoch 13/20\n",
            "11610/11610 [==============================] - 1s 71us/sample - loss: 0.3420 - main_output_loss: 0.3316 - aux_output_loss: 0.4365 - val_loss: 0.3463 - val_main_output_loss: 0.3374 - val_aux_output_loss: 0.4291\n",
            "Epoch 14/20\n",
            "11610/11610 [==============================] - 1s 75us/sample - loss: 0.3398 - main_output_loss: 0.3294 - aux_output_loss: 0.4328 - val_loss: 0.3556 - val_main_output_loss: 0.3466 - val_aux_output_loss: 0.4395\n",
            "Epoch 15/20\n",
            "11610/11610 [==============================] - 1s 72us/sample - loss: 0.3521 - main_output_loss: 0.3427 - aux_output_loss: 0.4366 - val_loss: 0.3458 - val_main_output_loss: 0.3365 - val_aux_output_loss: 0.4314\n",
            "Epoch 16/20\n",
            "11610/11610 [==============================] - 1s 75us/sample - loss: 0.3369 - main_output_loss: 0.3267 - aux_output_loss: 0.4286 - val_loss: 0.3556 - val_main_output_loss: 0.3472 - val_aux_output_loss: 0.4328\n",
            "Epoch 17/20\n",
            "11610/11610 [==============================] - 1s 73us/sample - loss: 0.3382 - main_output_loss: 0.3286 - aux_output_loss: 0.4245 - val_loss: 0.3451 - val_main_output_loss: 0.3363 - val_aux_output_loss: 0.4257\n",
            "Epoch 18/20\n",
            "11610/11610 [==============================] - 1s 72us/sample - loss: 0.3339 - main_output_loss: 0.3241 - aux_output_loss: 0.4218 - val_loss: 0.3416 - val_main_output_loss: 0.3329 - val_aux_output_loss: 0.4224\n",
            "Epoch 19/20\n",
            "11610/11610 [==============================] - 1s 71us/sample - loss: 0.3366 - main_output_loss: 0.3268 - aux_output_loss: 0.4242 - val_loss: 0.3377 - val_main_output_loss: 0.3292 - val_aux_output_loss: 0.4171\n",
            "Epoch 20/20\n",
            "11610/11610 [==============================] - 1s 73us/sample - loss: 0.3382 - main_output_loss: 0.3290 - aux_output_loss: 0.4205 - val_loss: 0.3435 - val_main_output_loss: 0.3355 - val_aux_output_loss: 0.4171\n"
          ],
          "name": "stdout"
        }
      ]
    },
    {
      "cell_type": "markdown",
      "metadata": {
        "id": "IjeC2rqLi4pO",
        "colab_type": "text"
      },
      "source": [
        "When we evaluate the model, Keras will return the total loss, as well as all the individual losses:"
      ]
    },
    {
      "cell_type": "code",
      "metadata": {
        "id": "Lauv5OMrizxr",
        "colab_type": "code",
        "outputId": "acdc07b5-d451-43ff-c260-1d7cc8803af3",
        "colab": {
          "base_uri": "https://localhost:8080/",
          "height": 54
        }
      },
      "source": [
        "total_loss, main_loss, aux_loss = model.evaluate([X_test_A, X_test_B], [y_test, y_test])"
      ],
      "execution_count": 0,
      "outputs": [
        {
          "output_type": "stream",
          "text": [
            "\r5160/1 [================================================================================================================================================================================================================================================================================================================================================================================================================================================================================================================================================================================================================================================================================================================================================================================================================================================================================================================================================================================================================================================================================================================================================================================================================================================================================================================================================================================================================================================================================================================================================================================================================================================================================================================================================================================================================================================================================================================================================================================================================================================================================================================================================================================================================================================================================================================================================================================================================================================================================================================================================================================================================================================================================================================================================================================================================================================================================================================================================================================================================================================================================================================================================================================================================================================================================================================================================================================================================================================================================================================================================================================================================================================================================================================================================================================================================================================================================================================================================================================================================================================================================================================================================================================================================================================================================================================================================================================================================================================================================================================================================================================================================================================================================================================================================================================================================================================================================================================================================================================================================================================================================================================================================================================================================================================================================================================================================================================================================================================================================================================================================================================================================================================================================================================================================================================================================================================================================================================================================================================================================================================================================================================================================================================================================================================================================================================================================================================================================================================================================================================================================================================================================================================================================================================================================================================================================================================================================================================================================================================================================================================================================================================================================================================================================================================================================================================================================================================================================================================================================================================================================================================================================================================================================================================================================================================================================================================================================================================================================================================================================================================================================================================================================================================================================================================================================================================================================================================================================================================================================================================================================================================================================================================================================================================================================================================================================================================================================================================================================================================================================================================================================================================================================================================================================================================================================================================================================================================================================================================================================================================================================================================================================================================================================================================================================================================================================================================================================================================================================================================================================================================================================================================================================================================================================================================================================================================================================================================================================================================================================================================================================================================================================================================================================================================================================================================================================================================================================================================================================================================================================================================================================================================================================================================================================================================================================================================================================================================================================================================================================================================================================================================================================================================================================================================================================================================================================================================================================================================================================================================================================================================================================================================================================================================================================================================================================================================================================================================================================================================================================================================================================================================================================================================================================================================================================================================================================================================================================================================================================================================================================================================================================================================================================================================================================================================================================================================================================================================================================================================================================================================================================================================================================================================================================================================================================================================================================================================================================================================================================================================================================================================================================================================================================================================================================================================================================================================================================================================================================================================================================================================================================================================================================================================================================================================================================================================================================================================================================================================================================================================================================================================================================================================================================================================================================================================================================================================================================================================================================================================================================================================================================================================================================================================================================================================================================================================================================================================================================================================================================================================================================================================================================================================================================================================================================================================================================================================================================================================================================================================================================================================================================================================================================================================================================================================================================================================================================================================================================================================================================================================================================================================================================================================================================================================================================================================================================================================================================================================================================================================================================================================================================================================================================================================================================================================================================================================================================================================================================================================================================================================================================================================================================================================================================================================================================================================================================================================================================================================================================================================================================================================================================================================================================================================================================================================================================================================================================================================================================================================================================================================================================================================================================================================================================================================================================================================================================================================================================================================================================================================================================================================================================================================================================================================================================================================================================================================================================================================================================================================================================================================================================================================================================================================================================================================================================================================================================================================================================================================================================================================================================================================================================================================================================================================================================================================================================================================================================================================================================================================================================================================================================================================================================================================================================================================================================================================================================================================================================================================================================================================================================================================================================================================================================================================================================================================================================================================================================================================================================================================================================================================================================================================================================================================================================================================================================================================================================================================================================================================================================================================================================================================================================================================================================================================================================================================================================================================================================================================================================================================================================================================================================================================================================================================================================================================================================================================================================================================================================================================================================================================================================================================================================================================================================================================================================================================================================================================================================================================================================================================================================================================================================================================================================================================================================================================================================================================================================================================================================================================================================================================================================================================================================================================================================================================================================================================================================================================================================================================================================================================================================================================================================================================================================================================================================================================================================================================================================================================================================================================================================================================================================================================================================================================================================================================================================================================================================================================================================================================================================================================================================================================================================================================================================================================================================================================================================================================================================================================================================================================================================================================================================================================================================================================================================================================================================================================================================================================================================================================================================================================================================================================================================================================================================================================================================================================================================================================================================================================================================================================================================================================================================================================================================================================================================================================================================================================================================================================================================================================================================================================================================================================================================================================================================================================================================================================================================================================================================================================================================================================================================================================================================================================================================================================================================================================================================================================================================================================================================================================================================================================================================================================================================================================================================================================================================================================================================================================================================================================================================================================================================================================================================================================================================================================================================================================================================================================================================================================================================================================================================================================================================================================================================================================================================================================================================================================================================================================================================================================================================================================================================================================================================================================================================================================================================================================================================================================================================================================================================================================================================================================================================================================================================================================================================================================================================================================================================================================================================================================================================================================================================================================================================================================================================================================================================================================================================================================================================================================================================================================================================================================================================================================================================================================================================================================================================================================================================================================================================================================================================================================================================================================================================================================================================================================================================================================================================================================================================================================================================================================================================================================================================================================================================================================================================================================================================================================================================================================================================================================================================================================================================================================================================================================================================================================================================================================================================================================================================================================================================================================================================================================================================================================================================================================================================================================================================================================================================================================================================================================================================================================================================================================================================================================================================================================================================================================================================================================================================================================================================================================================================================================================================================================================================================================================================================================================================================================================================================================================================================================================================================================================================================================================================================================================================================================================================================================================================================================================================================================================================================================================================================================================================================================================================================================================================================================================================================================================================================================================================================================================================================================================================================================================================================================================================================================================================================================================================================================================================================================================================================================================================================================================================================================================================================================================================================================================================================================================================================================================================================================================================================================================================================================================================================================================================================================================================================================================================================================================================================================================================================================================================================================================================================================================================================================================================================================================================================================================================================================================================================================================================================================================================================================================================================================================================================================================================================================================================================================================================================================================================================================================================================================================================================================================================================================================================================================================================================================================================================================================================================================================================================================================================================================================================================================================================================================================================================================================================================================================================================================================================================================================================================================================================================================================================================================================================================================================================================================================================================================================================================================================================================================================================================================================================================================================================================================================================================================================================================================================================================================================================================================================================================================================================================================================================================================================================================================================================================================================================================================================================================================================================================================================================================================================================================================================================================================================================================================================================================================================================================================================================================================================================================================================================================================================================================================================================================================================================================================================================================================================================================================================================================================================================================================================================================================================================================================================================================================================================================================================================================================================================================================================================================================================================================================================================================================================================================================================================================================================================================================================================================================================================================================================================================================================================================================================================================================================================================================================================================================================================================================================================================================================================================================================================================================================================================================================================================================================================================================================================================================================================================================================================================================================================================================================================================================================================================================================================================================================================================================================================================================================================================================================================================================================================================================================================================================================================================================================================================================================================================================================================================================================================================================================================================================================================================================================================================================================================================================================================================================================================================================================================================================================================================================================================================================================================================================================================================================================================================================================================================================================================================================================================================================================================================================================================================================================================================================================================================================================================================================================================================================================================================================================================================================================================================================================================================================================================================================================================================================================================================================================================================================================================================================================================================================================================================================================================================================================================================================================================================================================================================================================================================================================================================================================================================================================================================================================================================================================================================================================================================================================================================================================================================================================================================================================================================================================================================================================================================================================================================================================================================================================================================================================================================================================================================================================================================================================================================================================================================================================================================================================================================================================================================================================================================================================================================================================================================================================================================================================================================================================================================================================================================================================================================================================================================================================================================================================================================================================================================================================================================================================================================================================================================================================================================================================================================================================================================================================================================================================================================================================================================================================================================================================================================================================================================================================================================================================================================================================================================================================================================================================================================================================================================================================================================================================================================================================================================================================================================================================================================================================================================================================================================================================================================================================================================================================================================================================================================================================================================================================================================================================================================================================================================================================================================================================================================================================================================================================================================================================================================================================================================================================================================================================================================================================================================================================================================================================================================================================================================================================================================================================================================================================================================================================================================================================================================================================================================================================================================================================================================================================================================================================================================================================================================================================================================================================================================================================================================================================================================================================================================================================================================================================================================================================================================================================================================================================================================================================================================================================================================================================================================================================================================================================================================================================================================================================================================================================================================================================================================================================================================================================================================================================================================================================================================================================================================================================================================================================================================================================================================================================================================================================================================================================================================================================================================================================================================================================================================================================================================================================================================================================================================================================================================================================================================================================================================================================================================================================================================================================================================================================================================================================================================================================================================================================================================================================================================================================================================================================================================================================================================================================================================================================================================================================================================================================================================================================================================================================================================================================================================================================================================================================================================================================================================================================================================================================================================================================================================================================================================================================================================================================================================================================================================================================================================================================================================================================================================================================================================================================================================================================================================================================================================================================================================================================================================================================================================================================================================================================================================================================================================================================================================================================================================================================================================================================================================================================================================================================================================================================================================================================================================================================================================================================================================================================================================================================================================================================================================================================================================================================================================================================================================================================================================================================================================================================================================================================================================================================================================================================================================================================================================================================================================================================================================================================================================================================================================================================================================================================================================================================================================================================================================================================================================================================================================================================================================================================================================================================================================================================================================================================================================================================================================================================================================================================================================================================================================================================================================================================================================================================================================================================================================================================================================================================================================================================================================================================================================================================================================================================================================================================================================================================================================================================================================================================================================================================================================================================================================================================================================================================================================================================================================================================================================================================================================================================================================================================================================================================================================================================================================================================================================================================================================================================================================================================================================================================================================================================================================================================================================================================================================================================================================================================================================================================================================================================================================================================================================================================================================================================================================================================================================================================================================================================================================================================================================================================================================================================================================================================================================================================================================================================================================================================================================================================================================================================================================================================================================================================================================================================================================================================================================================================================================================================================================================================================================================================================================================================================================================================================================================================================================================================================================================================================================================================================================================================================================================================================================================================================================================================================================================================================================================================================================================================================================================================================================================================================================================================================================================================================================================================================================================================================================================================================================================================================================================================================================================================================================================================================================================================================================================================================================================================================================================================================================================================================================================================================================================================================================================================================================================================================================================================================================================================================================================================================================================================================================================================================================================================================================================================================================================================================================================================================================================================================================================================================================================================================================================================================================================================================================================================================================================================================================================================================================================================================================================================================================================================================================================================================================================================================================================================================================================================================================================================================================================================================================================================================================================================================================================================================================================================================================================================================================================================================================================================================================================================================================================================================================================================================================================================================================================================================================================================================================================================================================================================================================================================================================================================================================================================================================================================================================================================================================================================================================================================================================================================================================================================================================================================================================================================================================================================================================================================================================================================================================================================================================================================================================================================================================================================================================================================================================================================================================================================================================================================================================================================================================================================================================================================================================================================================================================================================================================================================================================================================================================================================================================================================================================================================================================================================================================================================================================================================================================================================================================================================================================================================================================================================================================================================================================================================================================================================================================================================================================================================================================================================================================================================================================================================================================================================================================================================================================================================================================================================================================================================================================================================================================================================================================================================================================================================================================================================================================================================================================================================================================================================================================================================================================================================================================================================================================================================================================================================================================================================================================================================================================================================================================================================================================================================================================================================================================================================================================================================================================================================================================================================================================================================================================================================================================================================================================================================================================================================================================================================================================================================================================================================================================================================================================================================================================================================================================================================================================================================================================================================================================================================================================================================================================================================================================================================================================================================================================================================================================================================================================================================================================================================================================================================================================================================================================================================================================================================================================================================================================================================================================================================================================================================================================================================================================================================================================================================================================================================================================================================================================================================================================================================================================================================================================================================================================================================================================================================================================================================================================================================================================================================================================================================================================================================================================================================================================================================================================================================================================================================================================================================================================================================================================================================================================================================================================================================================================================================================================================================================================================================================================================================================================================================================================================================================================================================================================================================================================================================================================================================================================================================================================================================================================================================================================================================================================================================================================================================================================================================================================================================================================================================================================================================================================================================================================================================================================================================================================================================================================================================================================================================================================================================================================================================================================================================================================================================================================================================================================================================================================================================================================================================================================================================================================================================================================================================================================================================================================================================================================================================================================================================================================================================================================================================================================================================================================================================================================================================================================================================================================================================================================================================================================================================================================================================================================================================================================================================================================================================================================================================================================================================================================================================================================================================================================================================================================================================================================================================================================================================================================================================================================================================================================================================================================================================================================================================================================================================================================================================================================================================================================================================================================================================================================================================================================================================================================================================================================================================================================================================================================================================================================================================================================================================================================================================================================================================================================================================================================================================================================================================================================================================================================================================================================================================================================================================================================================================================================================================================================================================================================================================================================================================================================================================================================================================================================================================================================================================================================================================================================================================================================================================================================================================================================================================================================================================================================================================================================================================================================================================================================================================================================================================================================================================================================================================================================================================================================================================================================================================================================================================================================================================================================================================================================================================================================================================================================================================================================================================================================================================================================================================================================================================================================================================================================================================================================================================================================================================================================================================================================================================================================================================================================================================================================================================================================================================================================================================================================================================================================================================================================================================================================================================================================================================================================================================================================================================================================================================================================================================================================================================================================================================================================================================================================================================================================================================================================================================================================================================================================================================================================================================================================================================================================================================================================================================================================================================================================================================================================================================================================================================================================================================================================================================================================================================================================================================================================================================================================================================================================================================================================================================================================================================================================================================================================================================================================================================================================================================================================================================================================================================================================================================================================================================================================================================================================================================================================================================================================================================================================================================================================================================================================================================================================================================================================================================================================================================================================================================================================================================================================================================================================================================================================================================================================================================================================================================================================================================================================================================================================================================================================================================================================================================================================================================================================================================================================================================================================================================================================================================================================================================================================================================================================================================================================================================================================================================================================================================================================================================================================================================================================================================================================================================================================================================================================================================================================================================================================================================================================================================================================================================================================================================================================================================================================================================================================================================================================================================================================================================================================================================================================================================================================================================================================================================================================================================================================================================================================================================================================================================================================================================================================================================================================================================================================================================================================================================================================================================================================================================================================================================================================================================================================================================================================================================================================================================================================================================================================================================================================================================================================================================================================================================================================================================================================================================================================================================================================================================================================================================================================================================================================================================================================================================================================================================================================================================================================================================================================================================================================================================================================================================================================================================================================================================================================================================================================================================================================================================================================================================================================================================================================================================================================================================================================================================================================================================================================================================================================================================================================================================================================================================================================================================================================================================================================================================================================================================================================================================================================================================================================================================================================================================================================================================================================================================================================================================================================================================================================================================================================================================================================================================================================================================================================================================================================================================================================================================================================================================================================================================================================================================================================================================================================================================================================================================================================================================================================================================================================================================================================================================================================================================================================================================================================================================================================================================================================================================================================================================================================================================================================================================================================================================================================================================================================================================================================================================================================================================================================================================================================================================================================================================================================================================================================================================================================================================================================================================================================================================================================================================================================================================================================================================================================================================================================================================================================================================================================================================================================================================================================================================================================================================================================================================================================================================================================================================================================================================================================================================================================================================================================================================================================================================================================================================================================================================================================================================================================================================================================================================================================================================================================================================================================================================================================================================================================================================================================================================================================================================================================================================================================================================================================================================================================================================================================================================================================================================================================================================================================================================================================================================================================================================================================================================================================================================================================================================================================================================================================================================================================================================================================================================================================================================================================================================================================================================================================================================================================================================================================================================================================================================================================================================================================================================================================================================================================================================================================================================================================================================================================================================================================================================================================================================================================================================================================================================================================================================================================================================================================================================================================================================================================================================================================================================================================================================================================================================================================================================================================================================================================================================================================================================================================================================================================================================================================================================================================================================================================================================================================================================================================================================================================================================================================================================================================================================================================================================================================================================================================================================================================================================================================================================================================================================================================================================================================================================================================================================================================================================================================================================================================================================================================================================================================================================================================================================================================================================================================================================================================================================================================================================================================================================================================================================================================================================================================================================================================================================================================================================================================================================================================================================================================================================================================================================================================================================================================================================================================================================================================================================================================================================================================================================================================================================================================================================================================================================================================================================================================================================================================================================================================================================================================================================================================================================================================================================================================================================================================================================================================================================================================================================================================================================================================================================================================================================================================================================================================================================================================================================================================================================================================================================================================================================================================================================================================================================================================================================================================================================================================================================================================================================================================================================================================================================================================================================================================================================================================================================================================================================================================================================================================================================================================================================================================================================================================================================================================================================================================================================================================================================================================================================================================================================================================================================================================================================================================================================================================================================================================================================================================================================================================================================================================================================================================================================================================================================================================================================================================================================================================================================================================================================================================================================================================================================================================================================================================================================================================================================================================================================================================================================================================================================================================================================================================================================================================================================================================================================================================================================================================================================================================================================================================================================================================================================================================================================================================================================================================================================================================================================================================================================================================================================================================================================================================================================================================================================================================================================================================================================================================================================================================================================================================================================================================================================================================================================================================================================================================================================================================================================================================================================================================================================================================================================================================================================================================================================================================================================================================================================================================================================================================================================================================================================================================================================================================================================================================================================================================================================================================================================================================================================================================================================================================================================================================================================================================================================================================================================================================================================================================================================================================================================================================================================================================================================================================================================================================================================================================================================================================================================================================================================================================================================================================================================================================================================================================================================================================================================================================================================================================================================================================================================================================================================================================================================================================================================================================================================================================================================================================================================================================================================================================================================================================================================================================================================================================================================================================================================================================================================================================================================================================================================================================================================================================================================================================================================================================================================================================================================================================================================================================================================================================================================================================================================================================================================================================================================================================================================================================================================================================================================================================================================================================================================================================================================================================================================================================================================================================================================================================================================================================================================================================================================================================================================================================================================================================================================================================================================================================================================================================================================================================================================================================================================================================================================================================================================================================================================================================================================================================================================================================================================================================================================================================================================================================================================================================================================================================================================================================================================================================================================================================================================================================================================================================================================================================================================================================================================================================================================================================================================================================================================================================================================================================================================================================================================================================================================================================================================================================================================================================================================================================================================================================================================================================================================================================================================================================================================================================================================================================================================================================================================================================================================================================================================================================================================================================================================================================================================================================================================================================================================================================================================================================================================================================================================================================================================================================================================================================================================================================================================================================================================================================================================================================================================================================================================================================================================================================================================================================================================================================================================================================================================================================================================================================================================================================================================================================================================================================================================================================================================================================================================================================================================================================================================================================================================================================================================================================================================================================================================================================================================================================================================================================================================================================================================================================================================================================================================================================================================================================================================================================================================================================================================================================================================================================================================================================================================================================================================================================================================================================================================================================================================================================================================================================================================================================================================================================================================================================================================================================================================================================================================================================================================================================================================================================================================================================================================================================================================================================================================================================================================================================================================================================================================================================================================================================================================================================================================================================================================================================================================================================================================================================================================================================================================================================================================================================================================================================================================================================================================================================================================================================================================================================================================================================================================================================================================================================================================================================================================================================================================================================================================================================================================================================================================================================================================================================================================================================================================================================================================================================================================================================================================================================================================================================================================================================================================================================================================================================================================================================================================================================================================================================================================================================================================================================================================================================================================================================================================================================================================================================================================================================================================================================================================================================================================================================================================================================================================================================================================================================================================================================================================================================================================================================================================================================================================================================================================================================================================================================================================================================================================================================================================================================================================================================================================================================================================================================================================================================================================================================================================================================================================================================================================================================================================================================================================================================================================================================================================================================================================================================================================================================================================================================================================================================================================================================================================================================================================================================================================================================================================================================================================================================================================================================================================================================================================================================================================================================================================================================================================================================================================================================================================================================================================================================================================================================================================================================================================================================================================================================================================================================================================================================================================================================================================================================================================================================================================================================================================================================================================================================================================================================================================================================================================================================================================================================================================================================================================================================================================================================================================================================================================================================================================================================================================================================================================================================================================================================================================================================================================================================================================================================================================================================================================================================================================================================================================================================================================================================================================================================================================================================================================================================================================================================================================================================================================================================================================================================================================================================================================================================================================================================================================================================================================================================================================================================================================================================================================================================================================================================================================================================================================================================================================================================================================================================================================================================================================================================================================================================================================================================================================================================================================================================================================================================================================================================================================================================================================================================================================================================================================================================================================================================================================================================================================================================================================================================================================================================================================================================================================================================================================================================================================================================================================================================================================================================================================================================================================================================================================================================================================================================================================================================================================================================================================================================================================================================================================================================================================================================================================================================================================================================================================================================================================================================================================================================================================================================================================================================================================================================================================================================================================================================================================================================================================================================================================================================================================================================================================================================================================================================================================================================================================================================================================================================================================================================================================================================================================================================================================================================================================================================================================================================================================================================================================================================================================================================================================================================================================================================================================================================================================================================================================================================================================================================================================================================================================================================================================================================================================================================================================================================================================================================================================================================================================================================================================================================================================================================================================================================================================================================================================================================================================================================================================================================================================================================================================================================================================================================================================================================================================================================================================================================================================================================================================================================================================================================================================================================================================================================================================================================================================================================================================================================================================================================================================================================================================================================================================================================================================================================================================================================================================================================================================================================================================================================================================================================================================================================================================================================================================================================================================================================================================================================================================================================================================================================================================================================================================================================================================================================================================================================================================================================================================================================================================================================================================================================================================================================================================================================================================================================================================================================================================================================================================================================================================================================================================================================================================================================================================================================================================================================================================================================================================================================================================================================================================================================================================================================================================================================================================================================================================================================================================================================================================================================================================================================================================================================================================================================================================================================================================================================================================================================================================================================================================================================================================================================================================================================================================================================================================================================================================================================================================================================================================================================================================================================================================================================================================================================================================================================================================================================================================================================================================================================================================================================================================================================================================================================================================================================================================================================================================================================================================================================================================================================================================================================================================================================================================================================================================================================================================================================================================================================================================================================================================================================================================================================================================================================================================================================================================================================================================================================================================================================================================================================================================================================================================================================================================================================================================================================================================================================================================================================================================================================================================================================================================================================================================================================================================================================================================================================================================================================================================================================================================================================================================================================================================================================================================================================================================================================================================================================================================================================================================================================================================================================================================================================================================================================================================================================================================================================================================================================================================================================================================================================================================================================================================================================================================================================================================================================================================================================================================================================================================================================================================================================================================================================================================================================================================================================================================================================================================================================================================================================================================================================================================================================================================================================================================================================================================================================================================================================================================================================================================================================================================================================================================================================================================================================================================================================================================================================================================================================================================================================================================================================================================================================================================================================================================================================================================================================================================================================================================================================================================================================================================================================================================================================================================================================================================================================================================================================================================================================================================================================================================================================================================================================================================================================================================================================================================================================================================================================================================================================================================================================================================================================================================================================================================================================================================================================================================================================================================================================================================================================================================================================================================================================================================================================================================================================================================================================================================================================================================================================================================================================================================================================================================================================================================================================================================================================================================================================================================================================================================================================================================================================================================================================================================================================================================================================================================================================================================================================================================================================================================================================================================================================================================================================================================================================================================================================================================================================================================================================================================================================================================================================================================================================================================================================================================================================================================================================================================================================================================================================================================================================================================================================================================================================================================================================================================================================================================================================================================================================================================================================================================================================================================================================================================================================================================================================================================================================================================================================================================================================================================================================================================================================================================================================================================================================================================================================================================================================================================================================================================================================================================================================================================================================================================================================================================================================================================================================================================================================================================================================] - 0s 37us/sample - loss: 0.3282 - main_output_loss: 0.3340 - aux_output_loss: 0.4313\n"
          ],
          "name": "stdout"
        }
      ]
    },
    {
      "cell_type": "markdown",
      "metadata": {
        "id": "pqJo1qOYjWWg",
        "colab_type": "text"
      },
      "source": [
        "Similary, the `predict()` methods will return predictions for each ouput: "
      ]
    },
    {
      "cell_type": "code",
      "metadata": {
        "id": "V451Z6CYjV6o",
        "colab_type": "code",
        "colab": {}
      },
      "source": [
        "y_pred_main, y_pred_aux = model.predict([X_new_A, X_new_B])"
      ],
      "execution_count": 0,
      "outputs": []
    },
    {
      "cell_type": "markdown",
      "metadata": {
        "id": "BvoZ6T6AmgHD",
        "colab_type": "text"
      },
      "source": [
        "### **Using the Subclass API to Build Dynamic Models**\n",
        "Simply subclass the `Model` class, create the layers we need in the constructor, and use them to perform the computations you want in the `call()` method. for example, creating an instance of the following `WideAndDeepModel` class gives us an equivalent model to the one we just build with Functional API.\n",
        "Refer to [tf.keras.Model](https://www.tensorflow.org/api_docs/python/tf/keras/Model)"
      ]
    },
    {
      "cell_type": "code",
      "metadata": {
        "id": "_mA7IteZj5Ti",
        "colab_type": "code",
        "colab": {}
      },
      "source": [
        "class WideAndDeepModel(keras.Model):\n",
        "  def __init__(self, units=30, activation=\"relu\", **kwargs):\n",
        "    super().__init__(**kwargs) # handles standard args (e.g., name)\n",
        "    self.hidden1 = keras.layers.Dense(units, activation=activation)\n",
        "    self.hidden2 = keras.layers.Dense(units, activation=activation)\n",
        "    self.main_output = keras.layers.Dense(1)\n",
        "    self.aux_output = keras.layers.Dense(1)\n",
        "\n",
        "  def call(self, inputs):\n",
        "    input_A, input_B = inputs\n",
        "    hidden1 = self.hidden1(input_B)\n",
        "    hidden2 = self.hidden2(hidden1)\n",
        "    concat = keras.layers.concatenate([inputA, hidden2])\n",
        "    main_output = self.main_output(concat)\n",
        "    aux_output = self.aux_output(hidden2)\n",
        "\n",
        "model = WideAndDeepModel()"
      ],
      "execution_count": 0,
      "outputs": []
    },
    {
      "cell_type": "markdown",
      "metadata": {
        "id": "EJjY63Zoz7ma",
        "colab_type": "text"
      },
      "source": [
        "### **Saving and Restoring a Model**\n",
        "Saving the model to HDF5 format requires the model to be a Functional model or a Sequential model. It does not work for subclassed models, because such models are defined via the body of a Python method, which isn't safely serializable. Consider saving to the Tensorflow SavedModel format (by setting save_format=\"tf\") or using `save_weights`."
      ]
    },
    {
      "cell_type": "code",
      "metadata": {
        "id": "aSwnUcj7rPzp",
        "colab_type": "code",
        "colab": {}
      },
      "source": [
        "# model = keras.layers.Sequential([...]) # or Keras.Model([...])\n",
        "# model.compile([...])\n",
        "# model.fit([...])\n",
        "model.save(\"my_keras_model.h5\")"
      ],
      "execution_count": 0,
      "outputs": []
    },
    {
      "cell_type": "markdown",
      "metadata": {
        "id": "3VwFrzHuJinS",
        "colab_type": "text"
      },
      "source": [
        "Load the model:"
      ]
    },
    {
      "cell_type": "code",
      "metadata": {
        "id": "GnYZSRU6rQ66",
        "colab_type": "code",
        "colab": {}
      },
      "source": [
        "model2 = keras.models.load_model(\"my_keras_model.h5\")"
      ],
      "execution_count": 0,
      "outputs": []
    },
    {
      "cell_type": "code",
      "metadata": {
        "id": "WPdqwRP2JT75",
        "colab_type": "code",
        "outputId": "a4093fd1-56e2-4232-a0ef-3e43bdd10cef",
        "colab": {
          "base_uri": "https://localhost:8080/",
          "height": 221
        }
      },
      "source": [
        "model2.summary()"
      ],
      "execution_count": 0,
      "outputs": [
        {
          "output_type": "stream",
          "text": [
            "Model: \"sequential\"\n",
            "_________________________________________________________________\n",
            "Layer (type)                 Output Shape              Param #   \n",
            "=================================================================\n",
            "dense_8 (Dense)              (None, 30)                270       \n",
            "_________________________________________________________________\n",
            "dense_9 (Dense)              (None, 1)                 31        \n",
            "=================================================================\n",
            "Total params: 301\n",
            "Trainable params: 301\n",
            "Non-trainable params: 0\n",
            "_________________________________________________________________\n"
          ],
          "name": "stdout"
        }
      ]
    },
    {
      "cell_type": "markdown",
      "metadata": {
        "id": "KkU0e0KeKAh5",
        "colab_type": "text"
      },
      "source": [
        "### **Using Callbacks**\n",
        "When traiing on large dataset, we should not only save our model st the end of training, but also save checkpoints st regular intervals during training to avoid losing  everything if our computer crash.\n",
        "But how can we twll the `fit()` method to save checkpoints? Use *callbacks*.\n",
        "\n",
        "The `fit()` method accepts a `callbacks` argument that lets us specify a list of objects that Keras will call at the start and end of training, at the start and end of each epoch, and even before and after processing each batch.\n",
        "\n",
        "e.g. the `ModelCheckpoint` callback saves checkpoints of out model st regular  intervals during training, by default st the end of each epoch."
      ]
    },
    {
      "cell_type": "code",
      "metadata": {
        "id": "LkXNhpuEJ79j",
        "colab_type": "code",
        "outputId": "8e618e61-1cc6-42da-e460-dc7b46519575",
        "colab": {
          "base_uri": "https://localhost:8080/",
          "height": 374
        }
      },
      "source": [
        "# [...] biuld and compile the model\n",
        "checkpoint_cb = keras.callbacks.ModelCheckpoint(\"my_keras_model.h5\")\n",
        "history = model.fit(X_train, y_train, epochs=10, callbacks=[checkpoint_cb])"
      ],
      "execution_count": 0,
      "outputs": [
        {
          "output_type": "stream",
          "text": [
            "Train on 55000 samples\n",
            "Epoch 1/10\n",
            "55000/55000 [==============================] - 8s 137us/sample - loss: 0.7339 - accuracy: 0.7566\n",
            "Epoch 2/10\n",
            "55000/55000 [==============================] - 7s 133us/sample - loss: 0.4941 - accuracy: 0.8275\n",
            "Epoch 3/10\n",
            "55000/55000 [==============================] - 7s 134us/sample - loss: 0.4485 - accuracy: 0.8431\n",
            "Epoch 4/10\n",
            "55000/55000 [==============================] - 7s 130us/sample - loss: 0.4220 - accuracy: 0.8519\n",
            "Epoch 5/10\n",
            "55000/55000 [==============================] - 8s 147us/sample - loss: 0.4013 - accuracy: 0.8586\n",
            "Epoch 6/10\n",
            "55000/55000 [==============================] - 8s 137us/sample - loss: 0.3849 - accuracy: 0.8637\n",
            "Epoch 7/10\n",
            "55000/55000 [==============================] - 7s 136us/sample - loss: 0.3711 - accuracy: 0.8675\n",
            "Epoch 8/10\n",
            "55000/55000 [==============================] - 8s 141us/sample - loss: 0.3592 - accuracy: 0.8731\n",
            "Epoch 9/10\n",
            "55000/55000 [==============================] - 7s 136us/sample - loss: 0.3481 - accuracy: 0.8768\n",
            "Epoch 10/10\n",
            "55000/55000 [==============================] - 8s 141us/sample - loss: 0.3387 - accuracy: 0.8799\n"
          ],
          "name": "stdout"
        }
      ]
    },
    {
      "cell_type": "markdown",
      "metadata": {
        "id": "dEEHTAjLXtRQ",
        "colab_type": "text"
      },
      "source": [
        "Moreover, if we use a validation set during training, we can set `save_best_only=True` when creating the `ModelCheckpoint`, it will only save oue model when its performance in he validation set is the best so far.\n",
        "\n",
        "The following code is a simple way to implement early stopping:"
      ]
    },
    {
      "cell_type": "code",
      "metadata": {
        "id": "4KYbLvCwV3hj",
        "colab_type": "code",
        "outputId": "9d97846a-e165-4a56-b204-afded461d968",
        "colab": {
          "base_uri": "https://localhost:8080/",
          "height": 374
        }
      },
      "source": [
        "checkpoint_cb = keras.callbacks.ModelCheckpoint(\"my_keras_model.h5\",\n",
        "                                                save_best_only=True)\n",
        "history = model.fit(X_train, y_train, epochs=10,\n",
        "                    validation_data=(X_valid, y_valid),\n",
        "                    callbacks=[checkpoint_cb])\n",
        "model = keras.models.load_model(\"my_keras_model.h5\") # roll back to best model"
      ],
      "execution_count": 0,
      "outputs": [
        {
          "output_type": "stream",
          "text": [
            "Train on 55000 samples, validate on 5000 samples\n",
            "Epoch 1/10\n",
            "55000/55000 [==============================] - 8s 142us/sample - loss: 0.3299 - accuracy: 0.8823 - val_loss: 0.3373 - val_accuracy: 0.8806\n",
            "Epoch 2/10\n",
            "55000/55000 [==============================] - 8s 137us/sample - loss: 0.3215 - accuracy: 0.8851 - val_loss: 0.3344 - val_accuracy: 0.8824\n",
            "Epoch 3/10\n",
            "55000/55000 [==============================] - 8s 139us/sample - loss: 0.3144 - accuracy: 0.8877 - val_loss: 0.3459 - val_accuracy: 0.8762\n",
            "Epoch 4/10\n",
            "55000/55000 [==============================] - 8s 138us/sample - loss: 0.3077 - accuracy: 0.8883 - val_loss: 0.3327 - val_accuracy: 0.8850\n",
            "Epoch 5/10\n",
            "55000/55000 [==============================] - 8s 143us/sample - loss: 0.3015 - accuracy: 0.8917 - val_loss: 0.3231 - val_accuracy: 0.8846\n",
            "Epoch 6/10\n",
            "55000/55000 [==============================] - 8s 145us/sample - loss: 0.2944 - accuracy: 0.8932 - val_loss: 0.3131 - val_accuracy: 0.8870\n",
            "Epoch 7/10\n",
            "55000/55000 [==============================] - 8s 152us/sample - loss: 0.2890 - accuracy: 0.8959 - val_loss: 0.3204 - val_accuracy: 0.8854\n",
            "Epoch 8/10\n",
            "55000/55000 [==============================] - 8s 144us/sample - loss: 0.2841 - accuracy: 0.8971 - val_loss: 0.3109 - val_accuracy: 0.8916\n",
            "Epoch 9/10\n",
            "55000/55000 [==============================] - 8s 140us/sample - loss: 0.2784 - accuracy: 0.8993 - val_loss: 0.3117 - val_accuracy: 0.8880\n",
            "Epoch 10/10\n",
            "55000/55000 [==============================] - 8s 154us/sample - loss: 0.2724 - accuracy: 0.9008 - val_loss: 0.3156 - val_accuracy: 0.8876\n"
          ],
          "name": "stdout"
        }
      ]
    },
    {
      "cell_type": "markdown",
      "metadata": {
        "id": "NvYNyCEFbMhm",
        "colab_type": "text"
      },
      "source": [
        "Another way to implement early stoping is to simply use the `EarlyStopping` callback. It will interrupt training when it measures no progress on the validation set for a number of epochs (defined by `patience` argument), and it will optionally roll back to the best model."
      ]
    },
    {
      "cell_type": "code",
      "metadata": {
        "id": "JVjDjIkMZm0K",
        "colab_type": "code",
        "outputId": "aa051b5e-4ed3-4b79-fd42-c7f9b254578b",
        "colab": {
          "base_uri": "https://localhost:8080/",
          "height": 1000
        }
      },
      "source": [
        "early_stopping_cb = keras.callbacks.EarlyStopping(patience=10,\n",
        "                                                  restore_best_weights=True)\n",
        "history = model.fit(X_train, y_train, epochs=100,\n",
        "                    validation_data=(X_valid, y_valid),\n",
        "                    callbacks=[checkpoint_cb, early_stopping_cb])"
      ],
      "execution_count": 0,
      "outputs": [
        {
          "output_type": "stream",
          "text": [
            "Train on 55000 samples, validate on 5000 samples\n",
            "Epoch 1/100\n",
            "55000/55000 [==============================] - 9s 160us/sample - loss: 0.2779 - accuracy: 0.8995 - val_loss: 0.3067 - val_accuracy: 0.8912\n",
            "Epoch 2/100\n",
            "55000/55000 [==============================] - 8s 146us/sample - loss: 0.2730 - accuracy: 0.9015 - val_loss: 0.3146 - val_accuracy: 0.8892\n",
            "Epoch 3/100\n",
            "55000/55000 [==============================] - 8s 150us/sample - loss: 0.2681 - accuracy: 0.9027 - val_loss: 0.3201 - val_accuracy: 0.8850\n",
            "Epoch 4/100\n",
            "55000/55000 [==============================] - 8s 145us/sample - loss: 0.2633 - accuracy: 0.9049 - val_loss: 0.3104 - val_accuracy: 0.8884\n",
            "Epoch 5/100\n",
            "55000/55000 [==============================] - 8s 146us/sample - loss: 0.2579 - accuracy: 0.9070 - val_loss: 0.3053 - val_accuracy: 0.8894\n",
            "Epoch 6/100\n",
            "55000/55000 [==============================] - 8s 145us/sample - loss: 0.2542 - accuracy: 0.9085 - val_loss: 0.3132 - val_accuracy: 0.8862\n",
            "Epoch 7/100\n",
            "55000/55000 [==============================] - 8s 143us/sample - loss: 0.2499 - accuracy: 0.9095 - val_loss: 0.2979 - val_accuracy: 0.8932\n",
            "Epoch 8/100\n",
            "55000/55000 [==============================] - 8s 152us/sample - loss: 0.2450 - accuracy: 0.9109 - val_loss: 0.3065 - val_accuracy: 0.8890\n",
            "Epoch 9/100\n",
            "55000/55000 [==============================] - 9s 172us/sample - loss: 0.2409 - accuracy: 0.9137 - val_loss: 0.2923 - val_accuracy: 0.8942\n",
            "Epoch 10/100\n",
            "55000/55000 [==============================] - 9s 169us/sample - loss: 0.2365 - accuracy: 0.9147 - val_loss: 0.3095 - val_accuracy: 0.8852\n",
            "Epoch 11/100\n",
            "55000/55000 [==============================] - 8s 143us/sample - loss: 0.2329 - accuracy: 0.9168 - val_loss: 0.2976 - val_accuracy: 0.8936\n",
            "Epoch 12/100\n",
            "55000/55000 [==============================] - 9s 155us/sample - loss: 0.2299 - accuracy: 0.9162 - val_loss: 0.2912 - val_accuracy: 0.8946\n",
            "Epoch 13/100\n",
            "55000/55000 [==============================] - 8s 143us/sample - loss: 0.2260 - accuracy: 0.9186 - val_loss: 0.2881 - val_accuracy: 0.8954\n",
            "Epoch 14/100\n",
            "55000/55000 [==============================] - 8s 140us/sample - loss: 0.2223 - accuracy: 0.9197 - val_loss: 0.2989 - val_accuracy: 0.8910\n",
            "Epoch 15/100\n",
            "55000/55000 [==============================] - 8s 137us/sample - loss: 0.2193 - accuracy: 0.9213 - val_loss: 0.2989 - val_accuracy: 0.8962\n",
            "Epoch 16/100\n",
            "55000/55000 [==============================] - 8s 137us/sample - loss: 0.2141 - accuracy: 0.9229 - val_loss: 0.3011 - val_accuracy: 0.8876\n",
            "Epoch 17/100\n",
            "55000/55000 [==============================] - 8s 140us/sample - loss: 0.2120 - accuracy: 0.9240 - val_loss: 0.2888 - val_accuracy: 0.8940\n",
            "Epoch 18/100\n",
            "55000/55000 [==============================] - 8s 143us/sample - loss: 0.2083 - accuracy: 0.9245 - val_loss: 0.2882 - val_accuracy: 0.8954\n",
            "Epoch 19/100\n",
            "55000/55000 [==============================] - 8s 139us/sample - loss: 0.2051 - accuracy: 0.9264 - val_loss: 0.2964 - val_accuracy: 0.8938\n",
            "Epoch 20/100\n",
            "55000/55000 [==============================] - 8s 140us/sample - loss: 0.2018 - accuracy: 0.9269 - val_loss: 0.2812 - val_accuracy: 0.8984\n",
            "Epoch 21/100\n",
            "55000/55000 [==============================] - 8s 143us/sample - loss: 0.1985 - accuracy: 0.9282 - val_loss: 0.3190 - val_accuracy: 0.8882\n",
            "Epoch 22/100\n",
            "55000/55000 [==============================] - 8s 140us/sample - loss: 0.1952 - accuracy: 0.9299 - val_loss: 0.2936 - val_accuracy: 0.8940\n",
            "Epoch 23/100\n",
            "55000/55000 [==============================] - 8s 138us/sample - loss: 0.1932 - accuracy: 0.9305 - val_loss: 0.2945 - val_accuracy: 0.8980\n",
            "Epoch 24/100\n",
            "55000/55000 [==============================] - 8s 144us/sample - loss: 0.1898 - accuracy: 0.9327 - val_loss: 0.2916 - val_accuracy: 0.8972\n",
            "Epoch 25/100\n",
            "55000/55000 [==============================] - 8s 140us/sample - loss: 0.1863 - accuracy: 0.9340 - val_loss: 0.3102 - val_accuracy: 0.8914\n",
            "Epoch 26/100\n",
            "55000/55000 [==============================] - 8s 144us/sample - loss: 0.1832 - accuracy: 0.9355 - val_loss: 0.3115 - val_accuracy: 0.8882\n",
            "Epoch 27/100\n",
            "55000/55000 [==============================] - 8s 138us/sample - loss: 0.1811 - accuracy: 0.9350 - val_loss: 0.3098 - val_accuracy: 0.8896\n",
            "Epoch 28/100\n",
            "55000/55000 [==============================] - 8s 142us/sample - loss: 0.1770 - accuracy: 0.9361 - val_loss: 0.2923 - val_accuracy: 0.8992\n",
            "Epoch 29/100\n",
            "55000/55000 [==============================] - 8s 139us/sample - loss: 0.1759 - accuracy: 0.9372 - val_loss: 0.2959 - val_accuracy: 0.8926\n",
            "Epoch 30/100\n",
            "55000/55000 [==============================] - 7s 135us/sample - loss: 0.1735 - accuracy: 0.9385 - val_loss: 0.2880 - val_accuracy: 0.8974\n"
          ],
          "name": "stdout"
        }
      ]
    },
    {
      "cell_type": "markdown",
      "metadata": {
        "id": "st8ccEfhf6BX",
        "colab_type": "text"
      },
      "source": [
        "If we need extra control, we can easily write our own custom callbacks.\n",
        "\n",
        "As an example, the following custom callback will display the ratio between the validation loss and the training loss during training (e.g. to detect overfitting)"
      ]
    },
    {
      "cell_type": "code",
      "metadata": {
        "id": "82cMb7w7fli_",
        "colab_type": "code",
        "colab": {}
      },
      "source": [
        "class PrintValTrainRatioCallback(keras.callbacks.Callback):\n",
        "  def on_epoch_end(self, epoch, logs):\n",
        "    print(\"\\nval/train: {:.2f}\".format(logs[\"val_loss\"] / logs[\"loss\"]))"
      ],
      "execution_count": 0,
      "outputs": []
    },
    {
      "cell_type": "markdown",
      "metadata": {
        "id": "bTOSuc78iLBN",
        "colab_type": "text"
      },
      "source": [
        "### **Using TensorBoard for Visualization**\n",
        "TensorBoard is a great visualization tool that we can use to view the learning curves during trainingm, comparing curves between multiple runs, ...\n",
        "\n",
        "To use it, we must modify our program so that it outputs the data we want to visualize to special binary log files calles *event files*."
      ]
    },
    {
      "cell_type": "code",
      "metadata": {
        "id": "esNteHtUGA57",
        "colab_type": "code",
        "colab": {}
      },
      "source": [
        "from tensorflow import keras"
      ],
      "execution_count": 0,
      "outputs": []
    },
    {
      "cell_type": "code",
      "metadata": {
        "id": "VGm0exBThQ3U",
        "colab_type": "code",
        "colab": {}
      },
      "source": [
        "import os \n",
        "root_logdir = os.path.join(os.curdir, \"my_logs\")\n",
        "\n",
        "def get_run_logdir():\n",
        "  import time\n",
        "  run_id = time.strftime(\"run_%Y_%m_%d-%H_%M_%S\")\n",
        "  return os.path.join(root_logdir, run_id)"
      ],
      "execution_count": 0,
      "outputs": []
    },
    {
      "cell_type": "code",
      "metadata": {
        "id": "d2NrGCLnp28N",
        "colab_type": "code",
        "outputId": "9353c867-0404-49f5-dc72-220a63073b37",
        "colab": {
          "base_uri": "https://localhost:8080/",
          "height": 34
        }
      },
      "source": [
        "run_logdir = get_run_logdir() # e.g., './my_logs/run_2019_11_21-14_30_23'\n",
        "print(run_logdir)"
      ],
      "execution_count": 0,
      "outputs": [
        {
          "output_type": "stream",
          "text": [
            "./my_logs/run_2019_11_21-08_32_22\n"
          ],
          "name": "stdout"
        }
      ]
    },
    {
      "cell_type": "markdown",
      "metadata": {
        "id": "dfg1jO1dqPTs",
        "colab_type": "text"
      },
      "source": [
        "The good news is that Keras provides a nice `TensorBoard()` callback:"
      ]
    },
    {
      "cell_type": "code",
      "metadata": {
        "id": "vw4SFWZMp6AN",
        "colab_type": "code",
        "colab": {}
      },
      "source": [
        "# [...] Build and compile our model\n",
        "tensorboard_cb = keras.callbacks.TensorBoard(run_logdir)\n",
        "history = model.fit(X_train, y_train, epochs=30,\n",
        "                    validation_data=(X_valid, y_valid),\n",
        "                    callbacks=[tensorboard_cb])"
      ],
      "execution_count": 0,
      "outputs": []
    },
    {
      "cell_type": "markdown",
      "metadata": {
        "id": "z2WzPy70s0aS",
        "colab_type": "text"
      },
      "source": [
        "Next we need to start TensorBoard server\n"
      ]
    },
    {
      "cell_type": "code",
      "metadata": {
        "id": "jY1BzV9-9u3k",
        "colab_type": "code",
        "colab": {}
      },
      "source": [
        "%load_ext tensorboard"
      ],
      "execution_count": 0,
      "outputs": []
    },
    {
      "cell_type": "code",
      "metadata": {
        "id": "PeoOMBxY9ySU",
        "colab_type": "code",
        "colab": {}
      },
      "source": [
        "%tensorboard --logdir my_logs"
      ],
      "execution_count": 0,
      "outputs": []
    },
    {
      "cell_type": "markdown",
      "metadata": {
        "id": "ABvHrCq49UDN",
        "colab_type": "text"
      },
      "source": [
        "The following example refers to [Using TensorBoard in Notebooks](https://www.tensorflow.org/tensorboard/tensorboard_in_notebooks)"
      ]
    },
    {
      "cell_type": "code",
      "metadata": {
        "id": "jv9F7A2brFyV",
        "colab_type": "code",
        "outputId": "f08ced9f-3ae6-4999-93c0-b109e00a6111",
        "colab": {
          "base_uri": "https://localhost:8080/",
          "height": 34
        }
      },
      "source": [
        "try:\n",
        "  # %tensorflow_version only exists in Colab.\n",
        "  %tensorflow_version 2.x\n",
        "except Exception:\n",
        "  pass\n",
        "\n",
        "# Load the TensorBoard notebook extension\n",
        "%load_ext tensorboard"
      ],
      "execution_count": 0,
      "outputs": [
        {
          "output_type": "stream",
          "text": [
            "TensorFlow 2.x selected.\n"
          ],
          "name": "stdout"
        }
      ]
    },
    {
      "cell_type": "code",
      "metadata": {
        "id": "JZvLOihgu2rR",
        "colab_type": "code",
        "colab": {}
      },
      "source": [
        "import tensorflow as tf\n",
        "import datetime, os"
      ],
      "execution_count": 0,
      "outputs": []
    },
    {
      "cell_type": "code",
      "metadata": {
        "id": "uc7AqRJv1P5d",
        "colab_type": "code",
        "outputId": "1795aaf7-67de-49a1-ae83-e113b137af77",
        "colab": {
          "base_uri": "https://localhost:8080/",
          "height": 34
        }
      },
      "source": [
        "print(tf.__version__)"
      ],
      "execution_count": 0,
      "outputs": [
        {
          "output_type": "stream",
          "text": [
            "2.0.0\n"
          ],
          "name": "stdout"
        }
      ]
    },
    {
      "cell_type": "code",
      "metadata": {
        "id": "EBWMPKnK12-3",
        "colab_type": "code",
        "colab": {}
      },
      "source": [
        "fashion_mnist = tf.keras.datasets.fashion_mnist\n",
        "\n",
        "(x_train, y_train),(x_test, y_test) = fashion_mnist.load_data()\n",
        "x_train, x_test = x_train / 255.0, x_test / 255.0"
      ],
      "execution_count": 0,
      "outputs": []
    },
    {
      "cell_type": "markdown",
      "metadata": {
        "id": "471JHeHc7E4z",
        "colab_type": "text"
      },
      "source": [
        "Create a very simple model:"
      ]
    },
    {
      "cell_type": "code",
      "metadata": {
        "id": "qmTSeUHs15to",
        "colab_type": "code",
        "colab": {}
      },
      "source": [
        "def create_model():\n",
        "  return tf.keras.models.Sequential([\n",
        "    tf.keras.layers.Flatten(input_shape=(28, 28)),\n",
        "    tf.keras.layers.Dense(512, activation='relu'),\n",
        "    tf.keras.layers.Dropout(0.2),\n",
        "    tf.keras.layers.Dense(10, activation='softmax')\n",
        "  ])"
      ],
      "execution_count": 0,
      "outputs": []
    },
    {
      "cell_type": "markdown",
      "metadata": {
        "id": "SMcFmncr7IUz",
        "colab_type": "text"
      },
      "source": [
        "Train the model using Keras and the TensorBoard callback:"
      ]
    },
    {
      "cell_type": "code",
      "metadata": {
        "id": "exsbIoDb18Yw",
        "colab_type": "code",
        "outputId": "bc7468c7-8cff-47c9-b2c3-1c05f5bbf2f0",
        "colab": {
          "base_uri": "https://localhost:8080/",
          "height": 204
        }
      },
      "source": [
        "def train_model():\n",
        "  \n",
        "  model = create_model()\n",
        "  model.compile(optimizer='adam',\n",
        "                loss='sparse_categorical_crossentropy',\n",
        "                metrics=['accuracy'])\n",
        "\n",
        "  logdir = os.path.join(\"logs\", datetime.datetime.now().strftime(\"%Y%m%d-%H%M%S\"))\n",
        "  tensorboard_callback = tf.keras.callbacks.TensorBoard(logdir, histogram_freq=1)\n",
        "\n",
        "  model.fit(x=x_train, \n",
        "            y=y_train, \n",
        "            epochs=5, \n",
        "            validation_data=(x_test, y_test), \n",
        "            callbacks=[tensorboard_callback])\n",
        "\n",
        "train_model()"
      ],
      "execution_count": 0,
      "outputs": [
        {
          "output_type": "stream",
          "text": [
            "Train on 60000 samples, validate on 10000 samples\n",
            "Epoch 1/5\n",
            "60000/60000 [==============================] - 12s 204us/sample - loss: 0.4983 - accuracy: 0.8225 - val_loss: 0.4347 - val_accuracy: 0.8448\n",
            "Epoch 2/5\n",
            "60000/60000 [==============================] - 11s 191us/sample - loss: 0.3819 - accuracy: 0.8606 - val_loss: 0.3981 - val_accuracy: 0.8593\n",
            "Epoch 3/5\n",
            "60000/60000 [==============================] - 11s 184us/sample - loss: 0.3486 - accuracy: 0.8710 - val_loss: 0.3727 - val_accuracy: 0.8640\n",
            "Epoch 4/5\n",
            "60000/60000 [==============================] - 11s 186us/sample - loss: 0.3280 - accuracy: 0.8802 - val_loss: 0.3462 - val_accuracy: 0.8747\n",
            "Epoch 5/5\n",
            "60000/60000 [==============================] - 11s 180us/sample - loss: 0.3124 - accuracy: 0.8844 - val_loss: 0.3438 - val_accuracy: 0.8759\n"
          ],
          "name": "stdout"
        }
      ]
    },
    {
      "cell_type": "markdown",
      "metadata": {
        "id": "r7TClUq52F8J",
        "colab_type": "text"
      },
      "source": [
        "Start TensorBoard within the notebook using [magics](https://ipython.readthedocs.io/en/stable/interactive/magics.html):"
      ]
    },
    {
      "cell_type": "code",
      "metadata": {
        "id": "dOcKXI1O2BIh",
        "colab_type": "code",
        "colab": {}
      },
      "source": [
        "%tensorboard --logdir logs"
      ],
      "execution_count": 0,
      "outputs": []
    },
    {
      "cell_type": "markdown",
      "metadata": {
        "id": "rz4E5OqX-lIG",
        "colab_type": "text"
      },
      "source": [
        "Additionally, TensorFlow offers a lower-level API in the `tf.summary` packages. The following code create a `SummaryWriter` using the `create_file_writer()` function."
      ]
    },
    {
      "cell_type": "code",
      "metadata": {
        "id": "N-2Gqemc3LZq",
        "colab_type": "code",
        "colab": {}
      },
      "source": [
        "import numpy as np\n",
        "test_logdir = get_run_logdir()\n",
        "writer = tf.summary.create_file_writer(test_logdir)\n",
        "with writer.as_default():\n",
        "  for step in range(1, 1000 + 1):\n",
        "    tf.summary.scalar(\"my_scalar\", np.sin(step / 10), step=step)\n",
        "    data = (np.random.randn(100)+2) * step / 100 # some random data\n",
        "    tf.summary.histogram(\"my_hist\", data, buckets=50, step=step)\n",
        "    images = np.random.rand(2, 32, 32, 3) # random 32x32 RGB images\n",
        "    tf.summary.image(\"my_images\", images * step / 1000, step=step)\n",
        "    texts = [\"The step is \" + str(step), \"Its square is \" + str(step**2)]\n",
        "    tf.summary.text(\"my_text\", texts, step=step)\n",
        "    sine_wave = tf.math.sin(tf.range(12000) / 48000 * 2 * np.pi * step)\n",
        "    audio = tf.reshape(tf.cast(sine_wave, tf.float32), [1, -1, 1])\n",
        "    tf.summary.audio(\"my_audio\", audio, sample_rate=48000, step=step)"
      ],
      "execution_count": 0,
      "outputs": []
    },
    {
      "cell_type": "markdown",
      "metadata": {
        "id": "6B76YBcSGgua",
        "colab_type": "text"
      },
      "source": [
        "## **Fine-Tuning Neural Network Hyperparameters**\n",
        "How do we know what combination of hyperparameters is the best for our task?\n",
        "One option is simply "
      ]
    },
    {
      "cell_type": "code",
      "metadata": {
        "id": "8V4s3_AQFS93",
        "colab_type": "code",
        "colab": {}
      },
      "source": [
        "!rm -rf my_logs"
      ],
      "execution_count": 0,
      "outputs": []
    },
    {
      "cell_type": "code",
      "metadata": {
        "id": "J212VOyEJs92",
        "colab_type": "code",
        "colab": {}
      },
      "source": [
        ""
      ],
      "execution_count": 0,
      "outputs": []
    }
  ]
}