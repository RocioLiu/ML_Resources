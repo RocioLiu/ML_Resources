{
  "nbformat": 4,
  "nbformat_minor": 0,
  "metadata": {
    "colab": {
      "name": "Geron_ch10 - Intro_to_ANN_with_Keras.ipynb",
      "provenance": [],
      "collapsed_sections": [],
      "include_colab_link": true
    },
    "kernelspec": {
      "name": "python3",
      "display_name": "Python 3"
    }
  },
  "cells": [
    {
      "cell_type": "markdown",
      "metadata": {
        "id": "view-in-github",
        "colab_type": "text"
      },
      "source": [
        "<a href=\"https://colab.research.google.com/github/RocioLiu/ML_Resources/blob/master/Geron_ch10_Intro_to_ANN_with_Keras.ipynb\" target=\"_parent\"><img src=\"https://colab.research.google.com/assets/colab-badge.svg\" alt=\"Open In Colab\"/></a>"
      ]
    },
    {
      "cell_type": "markdown",
      "metadata": {
        "id": "bu-_G-WH6IPK",
        "colab_type": "text"
      },
      "source": [
        "###**The Perceptron**\n",
        "Implement a single-TLU (*threshold logic unit*) network"
      ]
    },
    {
      "cell_type": "code",
      "metadata": {
        "id": "FGQbR_tm5DzY",
        "colab_type": "code",
        "colab": {}
      },
      "source": [
        "import numpy as np\n",
        "from sklearn.datasets import load_iris\n",
        "from sklearn.linear_model import Perceptron"
      ],
      "execution_count": 0,
      "outputs": []
    },
    {
      "cell_type": "code",
      "metadata": {
        "id": "05e6Igxf6gUi",
        "colab_type": "code",
        "outputId": "25ac2e44-a795-4d27-8437-a305b5993b5b",
        "colab": {
          "base_uri": "https://localhost:8080/",
          "height": 170
        }
      },
      "source": [
        "iris = load_iris()\n",
        "print(type(iris.data))\n",
        "print(iris.data.shape)\n",
        "print(type(iris.target))\n",
        "print(iris.target.shape)\n",
        "print(iris.target)"
      ],
      "execution_count": 0,
      "outputs": [
        {
          "output_type": "stream",
          "text": [
            "<class 'numpy.ndarray'>\n",
            "(150, 4)\n",
            "<class 'numpy.ndarray'>\n",
            "(150,)\n",
            "[0 0 0 0 0 0 0 0 0 0 0 0 0 0 0 0 0 0 0 0 0 0 0 0 0 0 0 0 0 0 0 0 0 0 0 0 0\n",
            " 0 0 0 0 0 0 0 0 0 0 0 0 0 1 1 1 1 1 1 1 1 1 1 1 1 1 1 1 1 1 1 1 1 1 1 1 1\n",
            " 1 1 1 1 1 1 1 1 1 1 1 1 1 1 1 1 1 1 1 1 1 1 1 1 1 1 2 2 2 2 2 2 2 2 2 2 2\n",
            " 2 2 2 2 2 2 2 2 2 2 2 2 2 2 2 2 2 2 2 2 2 2 2 2 2 2 2 2 2 2 2 2 2 2 2 2 2\n",
            " 2 2]\n"
          ],
          "name": "stdout"
        }
      ]
    },
    {
      "cell_type": "code",
      "metadata": {
        "id": "Gzf_l4Dq6rzy",
        "colab_type": "code",
        "colab": {}
      },
      "source": [
        "X = iris.data[:, (2,3)] # petal length, petal width\n",
        "y = (iris.target == 0).astype(np.int) #Iris setosa?"
      ],
      "execution_count": 0,
      "outputs": []
    },
    {
      "cell_type": "code",
      "metadata": {
        "id": "GVggKA737sgm",
        "colab_type": "code",
        "outputId": "d07c549a-c71b-4a3f-e238-dc5ffe02b00d",
        "colab": {
          "base_uri": "https://localhost:8080/",
          "height": 85
        }
      },
      "source": [
        "per_clf = Perceptron()\n",
        "per_clf.fit(X, y)"
      ],
      "execution_count": 0,
      "outputs": [
        {
          "output_type": "execute_result",
          "data": {
            "text/plain": [
              "Perceptron(alpha=0.0001, class_weight=None, early_stopping=False, eta0=1.0,\n",
              "           fit_intercept=True, max_iter=1000, n_iter_no_change=5, n_jobs=None,\n",
              "           penalty=None, random_state=0, shuffle=True, tol=0.001,\n",
              "           validation_fraction=0.1, verbose=0, warm_start=False)"
            ]
          },
          "metadata": {
            "tags": []
          },
          "execution_count": 14
        }
      ]
    },
    {
      "cell_type": "code",
      "metadata": {
        "id": "nBbmKwdf7vkM",
        "colab_type": "code",
        "colab": {}
      },
      "source": [
        "y_pred = per_clf.predict([[2, 0.5]])"
      ],
      "execution_count": 0,
      "outputs": []
    },
    {
      "cell_type": "markdown",
      "metadata": {
        "id": "abw87GBhOufn",
        "colab_type": "text"
      },
      "source": [
        "  ## --"
      ]
    },
    {
      "cell_type": "markdown",
      "metadata": {
        "id": "jL9y3JxwLaCY",
        "colab_type": "text"
      },
      "source": [
        "## **Implementing MLPs with Keras**"
      ]
    },
    {
      "cell_type": "markdown",
      "metadata": {
        "id": "czl_jN2pN5Ok",
        "colab_type": "text"
      },
      "source": [
        "### Installing TensorFlow **2**"
      ]
    },
    {
      "cell_type": "code",
      "metadata": {
        "id": "hjBT5SVx8DlX",
        "colab_type": "code",
        "colab": {}
      },
      "source": [
        "!pip install --upgrade tensorflow\n",
        "#!pip uninstall tensorflow\n",
        "#!pip install tensorflow==2.0.0"
      ],
      "execution_count": 0,
      "outputs": []
    },
    {
      "cell_type": "code",
      "metadata": {
        "id": "nF21tEY3N3pE",
        "colab_type": "code",
        "colab": {}
      },
      "source": [
        "import tensorflow as tf\n",
        "from tensorflow import keras"
      ],
      "execution_count": 0,
      "outputs": []
    },
    {
      "cell_type": "code",
      "metadata": {
        "id": "PQqRhEJJOZbO",
        "colab_type": "code",
        "outputId": "0ae6f034-d0e1-4a58-aef7-189dbd06cbdb",
        "colab": {
          "base_uri": "https://localhost:8080/",
          "height": 51
        }
      },
      "source": [
        "print(tf.__version__)\n",
        "print(keras.__version__)"
      ],
      "execution_count": 19,
      "outputs": [
        {
          "output_type": "stream",
          "text": [
            "2.0.0\n",
            "2.2.4-tf\n"
          ],
          "name": "stdout"
        }
      ]
    },
    {
      "cell_type": "markdown",
      "metadata": {
        "id": "5jiAL9oK7S1L",
        "colab_type": "text"
      },
      "source": [
        "Another way to install TensorFlow :"
      ]
    },
    {
      "cell_type": "code",
      "metadata": {
        "id": "-S30ksI66DXU",
        "colab_type": "code",
        "colab": {}
      },
      "source": [
        "from __future__ import absolute_import, division, print_function, unicode_literals"
      ],
      "execution_count": 0,
      "outputs": []
    },
    {
      "cell_type": "code",
      "metadata": {
        "id": "cf6TIgqH6HP0",
        "colab_type": "code",
        "outputId": "c9fc30a8-4f6c-464b-e18a-09f27c5295f7",
        "colab": {
          "base_uri": "https://localhost:8080/",
          "height": 34
        }
      },
      "source": [
        "try:\n",
        "  import tensorflow.compat.v2 as tf\n",
        "except Exception:\n",
        "  pass\n",
        "\n",
        "tf.enable_v2_behavior()\n",
        "\n",
        "print(tf.__version__)"
      ],
      "execution_count": 3,
      "outputs": [
        {
          "output_type": "stream",
          "text": [
            "2.0.0\n"
          ],
          "name": "stdout"
        }
      ]
    },
    {
      "cell_type": "markdown",
      "metadata": {
        "id": "MN5ElTqqO82j",
        "colab_type": "text"
      },
      "source": [
        "### Building an Image Classifier Using the Sequential API\n",
        "\n",
        "Using Keras to load the dataset"
      ]
    },
    {
      "cell_type": "code",
      "metadata": {
        "id": "OhzIc3ChOmQ6",
        "colab_type": "code",
        "colab": {}
      },
      "source": [
        "fashion_mnist = keras.datasets.fashion_mnist\n",
        "(X_train_full, y_train_full), (X_test, y_test) = fashion_mnist.load_data()"
      ],
      "execution_count": 0,
      "outputs": []
    },
    {
      "cell_type": "code",
      "metadata": {
        "id": "1v3L8G5Q4a-Y",
        "colab_type": "code",
        "colab": {
          "base_uri": "https://localhost:8080/",
          "height": 51
        },
        "outputId": "de90445d-91ef-421e-c952-328afa0cde7e"
      },
      "source": [
        "print(X_train_full.shape)\n",
        "print(X_train_full.dtype)"
      ],
      "execution_count": 21,
      "outputs": [
        {
          "output_type": "stream",
          "text": [
            "(60000, 28, 28)\n",
            "uint8\n"
          ],
          "name": "stdout"
        }
      ]
    },
    {
      "cell_type": "code",
      "metadata": {
        "id": "2VIb8ibi8AE9",
        "colab_type": "code",
        "colab": {}
      },
      "source": [
        "# The dataset is already split into a training set and test set, but there's no validation set, so we'll create one now.\n",
        "# Additionally, since we're going to train the NN using Gradient Descent, we must scale the input features.\n",
        "X_valid, X_train = X_train_full[:5000] / 255.0, X_train_full[5000:] / 255.0\n",
        "y_valid, y_train = y_train_full[:5000], y_train_full[5000:]"
      ],
      "execution_count": 0,
      "outputs": []
    },
    {
      "cell_type": "code",
      "metadata": {
        "id": "drQt346H9jdM",
        "colab_type": "code",
        "colab": {}
      },
      "source": [
        "# We need a list of class names to know what we are dealing with:\n",
        "class_names = [\"T-shirt/top\", \"Trouser\", \"Pullover\", \"Dress\", \"Coat\", \n",
        "              \"Sandal\", \"Shirt\", \"Sneaker\", \"Bag\", \"Ankle boot\"]"
      ],
      "execution_count": 0,
      "outputs": []
    },
    {
      "cell_type": "code",
      "metadata": {
        "id": "CuzLDguP-Xrw",
        "colab_type": "code",
        "colab": {
          "base_uri": "https://localhost:8080/",
          "height": 34
        },
        "outputId": "ff75ebcf-f1c2-46de-fcdb-9b35c6fa772c"
      },
      "source": [
        "class_names[y_train[0]]"
      ],
      "execution_count": 24,
      "outputs": [
        {
          "output_type": "execute_result",
          "data": {
            "text/plain": [
              "'Coat'"
            ]
          },
          "metadata": {
            "tags": []
          },
          "execution_count": 24
        }
      ]
    },
    {
      "cell_type": "markdown",
      "metadata": {
        "id": "PxnGdm6DZRR4",
        "colab_type": "text"
      },
      "source": [
        "Getting the model using the Sequential API"
      ]
    },
    {
      "cell_type": "code",
      "metadata": {
        "id": "teEl4MBqZQhu",
        "colab_type": "code",
        "colab": {}
      },
      "source": [
        "# Build a classification MLP with two hidden layers\n",
        "model = keras.models.Sequential()\n",
        "model.add(keras.layers.Flatten(input_shape=[28,28]))\n",
        "model.add(keras.layers.Dense(300, activation=\"relu\"))\n",
        "model.add(keras.layers.Dense(100, activation=\"relu\"))\n",
        "model.add(keras.layers.Dense(10, activation=\"softmax\"))"
      ],
      "execution_count": 0,
      "outputs": []
    },
    {
      "cell_type": "code",
      "metadata": {
        "id": "8giQFzIv-dIZ",
        "colab_type": "code",
        "colab": {}
      },
      "source": [
        "# Instead of adding athe layers one by one as we just did, we can pass a list of layers when creating the Sequential model\n",
        "model = keras.models.Sequential([\n",
        "  keras.layers.Flatten(input_shape=[28, 28]),\n",
        "  keras.layers.Dense(300, activation=\"relu\"),\n",
        "  keras.layers.Dense(100, activation=\"relu\"),\n",
        "  keras.layers.Dense(10, activation=\"softmax\")\n",
        "])"
      ],
      "execution_count": 0,
      "outputs": []
    },
    {
      "cell_type": "code",
      "metadata": {
        "id": "4VggafFLiCdT",
        "colab_type": "code",
        "colab": {
          "base_uri": "https://localhost:8080/",
          "height": 289
        },
        "outputId": "7bf9ce8a-33fe-4462-ed40-feed92f48abf"
      },
      "source": [
        "model.summary()"
      ],
      "execution_count": 29,
      "outputs": [
        {
          "output_type": "stream",
          "text": [
            "Model: \"sequential_2\"\n",
            "_________________________________________________________________\n",
            "Layer (type)                 Output Shape              Param #   \n",
            "=================================================================\n",
            "flatten_2 (Flatten)          (None, 784)               0         \n",
            "_________________________________________________________________\n",
            "dense_4 (Dense)              (None, 300)               235500    \n",
            "_________________________________________________________________\n",
            "dense_5 (Dense)              (None, 100)               30100     \n",
            "_________________________________________________________________\n",
            "dense_6 (Dense)              (None, 10)                1010      \n",
            "=================================================================\n",
            "Total params: 266,610\n",
            "Trainable params: 266,610\n",
            "Non-trainable params: 0\n",
            "_________________________________________________________________\n"
          ],
          "name": "stdout"
        }
      ]
    },
    {
      "cell_type": "code",
      "metadata": {
        "id": "rvPU-Qojiz97",
        "colab_type": "code",
        "colab": {}
      },
      "source": [
        ""
      ],
      "execution_count": 0,
      "outputs": []
    }
  ]
}