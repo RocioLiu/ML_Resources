{
  "nbformat": 4,
  "nbformat_minor": 0,
  "metadata": {
    "colab": {
      "name": "Geron_ch11 - Training_Deep_Neural_Networks.ipynb",
      "provenance": [],
      "collapsed_sections": [],
      "include_colab_link": true
    },
    "kernelspec": {
      "name": "python3",
      "display_name": "Python 3"
    }
  },
  "cells": [
    {
      "cell_type": "markdown",
      "metadata": {
        "id": "view-in-github",
        "colab_type": "text"
      },
      "source": [
        "<a href=\"https://colab.research.google.com/github/RocioLiu/ML_Resources/blob/master/Geron_ch11_Training_Deep_Neural_Networks.ipynb\" target=\"_parent\"><img src=\"https://colab.research.google.com/assets/colab-badge.svg\" alt=\"Open In Colab\"/></a>"
      ]
    },
    {
      "cell_type": "markdown",
      "metadata": {
        "id": "RAfniiELH_Nv",
        "colab_type": "text"
      },
      "source": [
        "## **The Vanishing/Exploding Gradients Problems**"
      ]
    },
    {
      "cell_type": "code",
      "metadata": {
        "id": "kFthUTZGI_ov",
        "colab_type": "code",
        "colab": {
          "base_uri": "https://localhost:8080/",
          "height": 34
        },
        "outputId": "4d2e0022-51b0-4024-9b2f-a42f44790b15"
      },
      "source": [
        "%tensorflow_version 2.x"
      ],
      "execution_count": 1,
      "outputs": [
        {
          "output_type": "stream",
          "text": [
            "TensorFlow 2.x selected.\n"
          ],
          "name": "stdout"
        }
      ]
    },
    {
      "cell_type": "code",
      "metadata": {
        "id": "4MucURpnInmO",
        "colab_type": "code",
        "colab": {}
      },
      "source": [
        "import tensorflow as tf\n",
        "from tensorflow import keras"
      ],
      "execution_count": 0,
      "outputs": []
    },
    {
      "cell_type": "code",
      "metadata": {
        "id": "7sAn-Cv_I-m5",
        "colab_type": "code",
        "colab": {
          "base_uri": "https://localhost:8080/",
          "height": 51
        },
        "outputId": "301b723f-3d0c-4c68-b0a9-c5ada600e0f2"
      },
      "source": [
        "print(tf.__version__)\n",
        "print(keras.__version__)"
      ],
      "execution_count": 3,
      "outputs": [
        {
          "output_type": "stream",
          "text": [
            "2.0.0\n",
            "2.2.4-tf\n"
          ],
          "name": "stdout"
        }
      ]
    },
    {
      "cell_type": "markdown",
      "metadata": {
        "id": "A1WdGFmGIROU",
        "colab_type": "text"
      },
      "source": [
        "### **Glorot and He Initilization**\n",
        "By default, Keras uses Glorot initialization with a uniform distribution. When creating a layer, we can change this to another initialization methos by setting `kernel_initializer=\"he_uniform\"` or `kernel_initializer=\"he_normal\"` :"
      ]
    },
    {
      "cell_type": "code",
      "metadata": {
        "id": "dEIdh8rPJkBz",
        "colab_type": "code",
        "colab": {
          "base_uri": "https://localhost:8080/",
          "height": 34
        },
        "outputId": "2f13c248-cdb4-4317-83a4-470049d47c73"
      },
      "source": [
        "keras.layers.Dense(10, activation=\"relu\", kernel_initializer=\"he_normal\")"
      ],
      "execution_count": 4,
      "outputs": [
        {
          "output_type": "execute_result",
          "data": {
            "text/plain": [
              "<tensorflow.python.keras.layers.core.Dense at 0x7fd6c97a4c50>"
            ]
          },
          "metadata": {
            "tags": []
          },
          "execution_count": 4
        }
      ]
    },
    {
      "cell_type": "markdown",
      "metadata": {
        "id": "6MuSS3vRKb9o",
        "colab_type": "text"
      },
      "source": [
        "If we want He initialization with a uniform distribution but based on *fan_avg* rather than *fan_in*, we can use the `VarianceScaling` initializer:"
      ]
    },
    {
      "cell_type": "code",
      "metadata": {
        "id": "JxjdjSm2JQkh",
        "colab_type": "code",
        "colab": {
          "base_uri": "https://localhost:8080/",
          "height": 34
        },
        "outputId": "ae4b6689-e60d-41e9-b7c9-c5291b544bc6"
      },
      "source": [
        "he_avg_init = keras.initializers.VarianceScaling(scale=2, mode=\"fan_avg\",\n",
        "                                                 distribution=\"uniform\")\n",
        "keras.layers.Dense(10, activation=\"sigmoid\", kernel_initializer=he_avg_init)"
      ],
      "execution_count": 5,
      "outputs": [
        {
          "output_type": "execute_result",
          "data": {
            "text/plain": [
              "<tensorflow.python.keras.layers.core.Dense at 0x7fd6c8d95518>"
            ]
          },
          "metadata": {
            "tags": []
          },
          "execution_count": 5
        }
      ]
    },
    {
      "cell_type": "markdown",
      "metadata": {
        "id": "H_ZVZr3tM0lE",
        "colab_type": "text"
      },
      "source": [
        "### **Nonsaturating Activation Functions**"
      ]
    },
    {
      "cell_type": "code",
      "metadata": {
        "id": "B7ACKunVML4G",
        "colab_type": "code",
        "colab": {}
      },
      "source": [
        ""
      ],
      "execution_count": 0,
      "outputs": []
    }
  ]
}